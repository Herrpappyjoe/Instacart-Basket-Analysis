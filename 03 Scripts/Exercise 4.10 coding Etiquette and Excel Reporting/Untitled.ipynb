{
 "cells": [
  {
   "cell_type": "markdown",
   "id": "fd899709",
   "metadata": {},
   "source": [
    "# Coding Etiquette"
   ]
  },
  {
   "cell_type": "code",
   "execution_count": 1,
   "id": "9450b6f0",
   "metadata": {},
   "outputs": [],
   "source": [
    "# This script contains the following directions\n",
    "# 1. Data Security\n",
    "# 2. Create a regional column from the state data\n",
    "# 3. Creating list of High and Low customers activity\n",
    "# 4. Adding the income column to the dataframe\n",
    "# 5. Marketing Strategy: Customers profiling\n",
    "# 6. Create visualization\\n\",\n",
    "# 7. Aggregating the  customers profile level for frequency and expenditure\n",
    "# 8. Compare your customer profiles with regions and departments"
   ]
  },
  {
   "cell_type": "code",
   "execution_count": 2,
   "id": "20156c65",
   "metadata": {},
   "outputs": [],
   "source": [
    "# Import Libraries\n",
    "import pandas as pd\n",
    "import numpy as np\n",
    "import os\n",
    "import matplotlib.pyplot as plt\n",
    "import seaborn as sns\n",
    "import scipy"
   ]
  },
  {
   "cell_type": "code",
   "execution_count": 3,
   "id": "bdab199a",
   "metadata": {},
   "outputs": [],
   "source": [
    "path = r'C:\\Users\\klein\\Instacart Basket Analysis'"
   ]
  },
  {
   "cell_type": "code",
   "execution_count": 4,
   "id": "8a535dd9",
   "metadata": {},
   "outputs": [
    {
     "data": {
      "text/plain": [
       "'C:\\\\Users\\\\klein\\\\Instacart Basket Analysis'"
      ]
     },
     "execution_count": 4,
     "metadata": {},
     "output_type": "execute_result"
    }
   ],
   "source": [
    "path"
   ]
  },
  {
   "cell_type": "code",
   "execution_count": 5,
   "id": "4e67d25e",
   "metadata": {},
   "outputs": [],
   "source": [
    "#Import customers and products data\n",
    "customers_products = pd.read_pickle(os.path.join(path, '02 Data', 'Prepared Data', 'df_combined.pkl'))"
   ]
  },
  {
   "cell_type": "code",
   "execution_count": 6,
   "id": "caf808c0",
   "metadata": {},
   "outputs": [
    {
     "data": {
      "text/html": [
       "<div>\n",
       "<style scoped>\n",
       "    .dataframe tbody tr th:only-of-type {\n",
       "        vertical-align: middle;\n",
       "    }\n",
       "\n",
       "    .dataframe tbody tr th {\n",
       "        vertical-align: top;\n",
       "    }\n",
       "\n",
       "    .dataframe thead th {\n",
       "        text-align: right;\n",
       "    }\n",
       "</style>\n",
       "<table border=\"1\" class=\"dataframe\">\n",
       "  <thead>\n",
       "    <tr style=\"text-align: right;\">\n",
       "      <th></th>\n",
       "      <th>Unnamed: 0.1</th>\n",
       "      <th>order_id</th>\n",
       "      <th>user_id</th>\n",
       "      <th>eval_set</th>\n",
       "      <th>order_number</th>\n",
       "      <th>orders_day_of_week</th>\n",
       "      <th>order_hour_of_day</th>\n",
       "      <th>days_since_prior_order</th>\n",
       "      <th>first_order</th>\n",
       "      <th>product_id</th>\n",
       "      <th>...</th>\n",
       "      <th>order_frequency</th>\n",
       "      <th>first name</th>\n",
       "      <th>surname</th>\n",
       "      <th>gender</th>\n",
       "      <th>state</th>\n",
       "      <th>age</th>\n",
       "      <th>date_joined</th>\n",
       "      <th>n_dependants</th>\n",
       "      <th>fam_status</th>\n",
       "      <th>income</th>\n",
       "    </tr>\n",
       "  </thead>\n",
       "  <tbody>\n",
       "    <tr>\n",
       "      <th>0</th>\n",
       "      <td>0</td>\n",
       "      <td>2539329</td>\n",
       "      <td>1</td>\n",
       "      <td>prior</td>\n",
       "      <td>1</td>\n",
       "      <td>2</td>\n",
       "      <td>8</td>\n",
       "      <td>NaN</td>\n",
       "      <td>True</td>\n",
       "      <td>196</td>\n",
       "      <td>...</td>\n",
       "      <td>Non-frequent customer</td>\n",
       "      <td>Linda</td>\n",
       "      <td>Nguyen</td>\n",
       "      <td>Female</td>\n",
       "      <td>Alabama</td>\n",
       "      <td>31</td>\n",
       "      <td>2/17/2019</td>\n",
       "      <td>3</td>\n",
       "      <td>married</td>\n",
       "      <td>40423</td>\n",
       "    </tr>\n",
       "    <tr>\n",
       "      <th>1</th>\n",
       "      <td>1</td>\n",
       "      <td>2398795</td>\n",
       "      <td>1</td>\n",
       "      <td>prior</td>\n",
       "      <td>2</td>\n",
       "      <td>3</td>\n",
       "      <td>7</td>\n",
       "      <td>15.0</td>\n",
       "      <td>False</td>\n",
       "      <td>196</td>\n",
       "      <td>...</td>\n",
       "      <td>Non-frequent customer</td>\n",
       "      <td>Linda</td>\n",
       "      <td>Nguyen</td>\n",
       "      <td>Female</td>\n",
       "      <td>Alabama</td>\n",
       "      <td>31</td>\n",
       "      <td>2/17/2019</td>\n",
       "      <td>3</td>\n",
       "      <td>married</td>\n",
       "      <td>40423</td>\n",
       "    </tr>\n",
       "    <tr>\n",
       "      <th>2</th>\n",
       "      <td>2</td>\n",
       "      <td>473747</td>\n",
       "      <td>1</td>\n",
       "      <td>prior</td>\n",
       "      <td>3</td>\n",
       "      <td>3</td>\n",
       "      <td>12</td>\n",
       "      <td>21.0</td>\n",
       "      <td>False</td>\n",
       "      <td>196</td>\n",
       "      <td>...</td>\n",
       "      <td>Non-frequent customer</td>\n",
       "      <td>Linda</td>\n",
       "      <td>Nguyen</td>\n",
       "      <td>Female</td>\n",
       "      <td>Alabama</td>\n",
       "      <td>31</td>\n",
       "      <td>2/17/2019</td>\n",
       "      <td>3</td>\n",
       "      <td>married</td>\n",
       "      <td>40423</td>\n",
       "    </tr>\n",
       "    <tr>\n",
       "      <th>3</th>\n",
       "      <td>3</td>\n",
       "      <td>2254736</td>\n",
       "      <td>1</td>\n",
       "      <td>prior</td>\n",
       "      <td>4</td>\n",
       "      <td>4</td>\n",
       "      <td>7</td>\n",
       "      <td>29.0</td>\n",
       "      <td>False</td>\n",
       "      <td>196</td>\n",
       "      <td>...</td>\n",
       "      <td>Non-frequent customer</td>\n",
       "      <td>Linda</td>\n",
       "      <td>Nguyen</td>\n",
       "      <td>Female</td>\n",
       "      <td>Alabama</td>\n",
       "      <td>31</td>\n",
       "      <td>2/17/2019</td>\n",
       "      <td>3</td>\n",
       "      <td>married</td>\n",
       "      <td>40423</td>\n",
       "    </tr>\n",
       "    <tr>\n",
       "      <th>4</th>\n",
       "      <td>4</td>\n",
       "      <td>431534</td>\n",
       "      <td>1</td>\n",
       "      <td>prior</td>\n",
       "      <td>5</td>\n",
       "      <td>4</td>\n",
       "      <td>15</td>\n",
       "      <td>28.0</td>\n",
       "      <td>False</td>\n",
       "      <td>196</td>\n",
       "      <td>...</td>\n",
       "      <td>Non-frequent customer</td>\n",
       "      <td>Linda</td>\n",
       "      <td>Nguyen</td>\n",
       "      <td>Female</td>\n",
       "      <td>Alabama</td>\n",
       "      <td>31</td>\n",
       "      <td>2/17/2019</td>\n",
       "      <td>3</td>\n",
       "      <td>married</td>\n",
       "      <td>40423</td>\n",
       "    </tr>\n",
       "  </tbody>\n",
       "</table>\n",
       "<p>5 rows × 36 columns</p>\n",
       "</div>"
      ],
      "text/plain": [
       "   Unnamed: 0.1  order_id  user_id eval_set  order_number  orders_day_of_week  \\\n",
       "0             0   2539329        1    prior             1                   2   \n",
       "1             1   2398795        1    prior             2                   3   \n",
       "2             2    473747        1    prior             3                   3   \n",
       "3             3   2254736        1    prior             4                   4   \n",
       "4             4    431534        1    prior             5                   4   \n",
       "\n",
       "   order_hour_of_day  days_since_prior_order  first_order  product_id  ...  \\\n",
       "0                  8                     NaN         True         196  ...   \n",
       "1                  7                    15.0        False         196  ...   \n",
       "2                 12                    21.0        False         196  ...   \n",
       "3                  7                    29.0        False         196  ...   \n",
       "4                 15                    28.0        False         196  ...   \n",
       "\n",
       "         order_frequency  first name surname  gender    state  age  \\\n",
       "0  Non-frequent customer       Linda  Nguyen  Female  Alabama   31   \n",
       "1  Non-frequent customer       Linda  Nguyen  Female  Alabama   31   \n",
       "2  Non-frequent customer       Linda  Nguyen  Female  Alabama   31   \n",
       "3  Non-frequent customer       Linda  Nguyen  Female  Alabama   31   \n",
       "4  Non-frequent customer       Linda  Nguyen  Female  Alabama   31   \n",
       "\n",
       "  date_joined n_dependants fam_status income  \n",
       "0   2/17/2019            3    married  40423  \n",
       "1   2/17/2019            3    married  40423  \n",
       "2   2/17/2019            3    married  40423  \n",
       "3   2/17/2019            3    married  40423  \n",
       "4   2/17/2019            3    married  40423  \n",
       "\n",
       "[5 rows x 36 columns]"
      ]
     },
     "execution_count": 6,
     "metadata": {},
     "output_type": "execute_result"
    }
   ],
   "source": [
    "customers_products.head()"
   ]
  },
  {
   "cell_type": "code",
   "execution_count": 7,
   "id": "d77628d8",
   "metadata": {},
   "outputs": [],
   "source": [
    "customers_products = customers_products.drop(columns = ['eval_set'])"
   ]
  },
  {
   "cell_type": "code",
   "execution_count": 8,
   "id": "84108f69",
   "metadata": {},
   "outputs": [
    {
     "data": {
      "text/plain": [
       "(32404859, 35)"
      ]
     },
     "execution_count": 8,
     "metadata": {},
     "output_type": "execute_result"
    }
   ],
   "source": [
    "customers_products.shape"
   ]
  },
  {
   "cell_type": "code",
   "execution_count": 9,
   "id": "86da0314",
   "metadata": {},
   "outputs": [],
   "source": [
    "# 1. Data Security\n",
    "\n",
    "# The customers dataset, which was merged with the df_ords_orods dataframe, contained personally identifiable information (PII) in the form of first and last names and can be traced back to a particular person. \n",
    "# However, i decided to drop these columns as part of the data cleansing process of the customers dataset. There is no other PII in the consumers_products dataframe. All data has been stored and accessed safely, \n",
    "# and no sensitive information has been distributed outside of the network"
   ]
  },
  {
   "cell_type": "code",
   "execution_count": 10,
   "id": "388dc46e",
   "metadata": {},
   "outputs": [],
   "source": [
    "# Dropping PII columns\n",
    "new_customers_products= customers_products.drop(['first name', 'surname'], axis=1)"
   ]
  },
  {
   "cell_type": "code",
   "execution_count": 11,
   "id": "f72e90b7",
   "metadata": {},
   "outputs": [
    {
     "data": {
      "text/html": [
       "<div>\n",
       "<style scoped>\n",
       "    .dataframe tbody tr th:only-of-type {\n",
       "        vertical-align: middle;\n",
       "    }\n",
       "\n",
       "    .dataframe tbody tr th {\n",
       "        vertical-align: top;\n",
       "    }\n",
       "\n",
       "    .dataframe thead th {\n",
       "        text-align: right;\n",
       "    }\n",
       "</style>\n",
       "<table border=\"1\" class=\"dataframe\">\n",
       "  <thead>\n",
       "    <tr style=\"text-align: right;\">\n",
       "      <th></th>\n",
       "      <th>Unnamed: 0.1</th>\n",
       "      <th>order_id</th>\n",
       "      <th>user_id</th>\n",
       "      <th>order_number</th>\n",
       "      <th>orders_day_of_week</th>\n",
       "      <th>order_hour_of_day</th>\n",
       "      <th>days_since_prior_order</th>\n",
       "      <th>first_order</th>\n",
       "      <th>product_id</th>\n",
       "      <th>add_to_cart_order</th>\n",
       "      <th>...</th>\n",
       "      <th>spending_habit</th>\n",
       "      <th>median_order_duration</th>\n",
       "      <th>order_frequency</th>\n",
       "      <th>gender</th>\n",
       "      <th>state</th>\n",
       "      <th>age</th>\n",
       "      <th>date_joined</th>\n",
       "      <th>n_dependants</th>\n",
       "      <th>fam_status</th>\n",
       "      <th>income</th>\n",
       "    </tr>\n",
       "  </thead>\n",
       "  <tbody>\n",
       "    <tr>\n",
       "      <th>0</th>\n",
       "      <td>0</td>\n",
       "      <td>2539329</td>\n",
       "      <td>1</td>\n",
       "      <td>1</td>\n",
       "      <td>2</td>\n",
       "      <td>8</td>\n",
       "      <td>NaN</td>\n",
       "      <td>True</td>\n",
       "      <td>196</td>\n",
       "      <td>1</td>\n",
       "      <td>...</td>\n",
       "      <td>Lower spender</td>\n",
       "      <td>20.5</td>\n",
       "      <td>Non-frequent customer</td>\n",
       "      <td>Female</td>\n",
       "      <td>Alabama</td>\n",
       "      <td>31</td>\n",
       "      <td>2/17/2019</td>\n",
       "      <td>3</td>\n",
       "      <td>married</td>\n",
       "      <td>40423</td>\n",
       "    </tr>\n",
       "    <tr>\n",
       "      <th>1</th>\n",
       "      <td>1</td>\n",
       "      <td>2398795</td>\n",
       "      <td>1</td>\n",
       "      <td>2</td>\n",
       "      <td>3</td>\n",
       "      <td>7</td>\n",
       "      <td>15.0</td>\n",
       "      <td>False</td>\n",
       "      <td>196</td>\n",
       "      <td>1</td>\n",
       "      <td>...</td>\n",
       "      <td>Lower spender</td>\n",
       "      <td>20.5</td>\n",
       "      <td>Non-frequent customer</td>\n",
       "      <td>Female</td>\n",
       "      <td>Alabama</td>\n",
       "      <td>31</td>\n",
       "      <td>2/17/2019</td>\n",
       "      <td>3</td>\n",
       "      <td>married</td>\n",
       "      <td>40423</td>\n",
       "    </tr>\n",
       "    <tr>\n",
       "      <th>2</th>\n",
       "      <td>2</td>\n",
       "      <td>473747</td>\n",
       "      <td>1</td>\n",
       "      <td>3</td>\n",
       "      <td>3</td>\n",
       "      <td>12</td>\n",
       "      <td>21.0</td>\n",
       "      <td>False</td>\n",
       "      <td>196</td>\n",
       "      <td>1</td>\n",
       "      <td>...</td>\n",
       "      <td>Lower spender</td>\n",
       "      <td>20.5</td>\n",
       "      <td>Non-frequent customer</td>\n",
       "      <td>Female</td>\n",
       "      <td>Alabama</td>\n",
       "      <td>31</td>\n",
       "      <td>2/17/2019</td>\n",
       "      <td>3</td>\n",
       "      <td>married</td>\n",
       "      <td>40423</td>\n",
       "    </tr>\n",
       "    <tr>\n",
       "      <th>3</th>\n",
       "      <td>3</td>\n",
       "      <td>2254736</td>\n",
       "      <td>1</td>\n",
       "      <td>4</td>\n",
       "      <td>4</td>\n",
       "      <td>7</td>\n",
       "      <td>29.0</td>\n",
       "      <td>False</td>\n",
       "      <td>196</td>\n",
       "      <td>1</td>\n",
       "      <td>...</td>\n",
       "      <td>Lower spender</td>\n",
       "      <td>20.5</td>\n",
       "      <td>Non-frequent customer</td>\n",
       "      <td>Female</td>\n",
       "      <td>Alabama</td>\n",
       "      <td>31</td>\n",
       "      <td>2/17/2019</td>\n",
       "      <td>3</td>\n",
       "      <td>married</td>\n",
       "      <td>40423</td>\n",
       "    </tr>\n",
       "    <tr>\n",
       "      <th>4</th>\n",
       "      <td>4</td>\n",
       "      <td>431534</td>\n",
       "      <td>1</td>\n",
       "      <td>5</td>\n",
       "      <td>4</td>\n",
       "      <td>15</td>\n",
       "      <td>28.0</td>\n",
       "      <td>False</td>\n",
       "      <td>196</td>\n",
       "      <td>1</td>\n",
       "      <td>...</td>\n",
       "      <td>Lower spender</td>\n",
       "      <td>20.5</td>\n",
       "      <td>Non-frequent customer</td>\n",
       "      <td>Female</td>\n",
       "      <td>Alabama</td>\n",
       "      <td>31</td>\n",
       "      <td>2/17/2019</td>\n",
       "      <td>3</td>\n",
       "      <td>married</td>\n",
       "      <td>40423</td>\n",
       "    </tr>\n",
       "  </tbody>\n",
       "</table>\n",
       "<p>5 rows × 33 columns</p>\n",
       "</div>"
      ],
      "text/plain": [
       "   Unnamed: 0.1  order_id  user_id  order_number  orders_day_of_week  \\\n",
       "0             0   2539329        1             1                   2   \n",
       "1             1   2398795        1             2                   3   \n",
       "2             2    473747        1             3                   3   \n",
       "3             3   2254736        1             4                   4   \n",
       "4             4    431534        1             5                   4   \n",
       "\n",
       "   order_hour_of_day  days_since_prior_order  first_order  product_id  \\\n",
       "0                  8                     NaN         True         196   \n",
       "1                  7                    15.0        False         196   \n",
       "2                 12                    21.0        False         196   \n",
       "3                  7                    29.0        False         196   \n",
       "4                 15                    28.0        False         196   \n",
       "\n",
       "   add_to_cart_order  ...  spending_habit median_order_duration  \\\n",
       "0                  1  ...   Lower spender                  20.5   \n",
       "1                  1  ...   Lower spender                  20.5   \n",
       "2                  1  ...   Lower spender                  20.5   \n",
       "3                  1  ...   Lower spender                  20.5   \n",
       "4                  1  ...   Lower spender                  20.5   \n",
       "\n",
       "         order_frequency  gender    state age date_joined n_dependants  \\\n",
       "0  Non-frequent customer  Female  Alabama  31   2/17/2019            3   \n",
       "1  Non-frequent customer  Female  Alabama  31   2/17/2019            3   \n",
       "2  Non-frequent customer  Female  Alabama  31   2/17/2019            3   \n",
       "3  Non-frequent customer  Female  Alabama  31   2/17/2019            3   \n",
       "4  Non-frequent customer  Female  Alabama  31   2/17/2019            3   \n",
       "\n",
       "  fam_status income  \n",
       "0    married  40423  \n",
       "1    married  40423  \n",
       "2    married  40423  \n",
       "3    married  40423  \n",
       "4    married  40423  \n",
       "\n",
       "[5 rows x 33 columns]"
      ]
     },
     "execution_count": 11,
     "metadata": {},
     "output_type": "execute_result"
    }
   ],
   "source": [
    "new_customers_products.head()"
   ]
  },
  {
   "cell_type": "code",
   "execution_count": 12,
   "id": "1da70db4",
   "metadata": {},
   "outputs": [],
   "source": [
    "# 2. Create a regional column from the state data"
   ]
  },
  {
   "cell_type": "code",
   "execution_count": 13,
   "id": "1a161b42",
   "metadata": {},
   "outputs": [],
   "source": [
    "# create a flag for Northeast region in region column\n",
    "new_customers_products.loc[new_customers_products['state'].isin(['Maine', 'New Hampshire', 'Vermont', 'Massachusetts', 'Rhode Island', 'Connecticut', 'New York', 'Pennsylvania', 'New Jersey']), 'region'] = 'Northeast'"
   ]
  },
  {
   "cell_type": "code",
   "execution_count": 14,
   "id": "cb9bf2e2",
   "metadata": {},
   "outputs": [],
   "source": [
    "# create a flag for Midwest region in new region column\n",
    "new_customers_products.loc[new_customers_products['state'].isin(['Wisconsin', 'Michigan', 'Illinois', 'Indiana', 'Ohio', 'North Dakota', 'South Dakota', 'Nebraska', 'Kansas', 'Minnesota', 'Iowa', 'Missouri']), 'region'] = 'Midwest'"
   ]
  },
  {
   "cell_type": "code",
   "execution_count": 15,
   "id": "48e04dff",
   "metadata": {},
   "outputs": [],
   "source": [
    "# create a flag for South region in new region column\n",
    "new_customers_products.loc[new_customers_products['state'].isin(['Delaware', 'Maryland', 'District of Columbia', 'Virginia', 'West Virginia', 'North Carolina', 'South Carolina', 'Georgia', 'Florida', 'Kentucky', 'Tennessee', 'Mississippi', 'Alabama', 'Oklahoma', 'Texas', 'Arkansas', 'Louisiana']), 'region'] = 'South'"
   ]
  },
  {
   "cell_type": "code",
   "execution_count": 16,
   "id": "4f971a11",
   "metadata": {},
   "outputs": [],
   "source": [
    "# create a flag for West region in new region column\n",
    "new_customers_products.loc[new_customers_products['state'].isin(['Idaho', 'Montana', 'Wyoming', 'Nevada', 'Utah', 'Colorado', 'Arizona', 'New Mexico', 'Alaska', 'Washington', 'Oregon', 'California', 'Hawaii']), 'region'] = 'West'"
   ]
  },
  {
   "cell_type": "code",
   "execution_count": 17,
   "id": "2ab753b3",
   "metadata": {},
   "outputs": [
    {
     "data": {
      "text/plain": [
       "South        10791885\n",
       "West          8292913\n",
       "Midwest       7597325\n",
       "Northeast     5722736\n",
       "Name: region, dtype: int64"
      ]
     },
     "execution_count": 17,
     "metadata": {},
     "output_type": "execute_result"
    }
   ],
   "source": [
    "new_customers_products['region'].value_counts(dropna = False)"
   ]
  },
  {
   "cell_type": "code",
   "execution_count": 18,
   "id": "6290479a",
   "metadata": {},
   "outputs": [],
   "source": [
    "# remove row limit to enable the checkthrough of the data\n",
    "pd.options.display.max_rows = None"
   ]
  },
  {
   "cell_type": "code",
   "execution_count": 19,
   "id": "967d423c",
   "metadata": {},
   "outputs": [
    {
     "data": {
      "text/html": [
       "<div>\n",
       "<style scoped>\n",
       "    .dataframe tbody tr th:only-of-type {\n",
       "        vertical-align: middle;\n",
       "    }\n",
       "\n",
       "    .dataframe tbody tr th {\n",
       "        vertical-align: top;\n",
       "    }\n",
       "\n",
       "    .dataframe thead th {\n",
       "        text-align: right;\n",
       "    }\n",
       "</style>\n",
       "<table border=\"1\" class=\"dataframe\">\n",
       "  <thead>\n",
       "    <tr style=\"text-align: right;\">\n",
       "      <th></th>\n",
       "      <th>user_id</th>\n",
       "      <th>state</th>\n",
       "      <th>region</th>\n",
       "    </tr>\n",
       "  </thead>\n",
       "  <tbody>\n",
       "    <tr>\n",
       "      <th>0</th>\n",
       "      <td>1</td>\n",
       "      <td>Alabama</td>\n",
       "      <td>South</td>\n",
       "    </tr>\n",
       "    <tr>\n",
       "      <th>1</th>\n",
       "      <td>1</td>\n",
       "      <td>Alabama</td>\n",
       "      <td>South</td>\n",
       "    </tr>\n",
       "    <tr>\n",
       "      <th>2</th>\n",
       "      <td>1</td>\n",
       "      <td>Alabama</td>\n",
       "      <td>South</td>\n",
       "    </tr>\n",
       "    <tr>\n",
       "      <th>3</th>\n",
       "      <td>1</td>\n",
       "      <td>Alabama</td>\n",
       "      <td>South</td>\n",
       "    </tr>\n",
       "    <tr>\n",
       "      <th>4</th>\n",
       "      <td>1</td>\n",
       "      <td>Alabama</td>\n",
       "      <td>South</td>\n",
       "    </tr>\n",
       "  </tbody>\n",
       "</table>\n",
       "</div>"
      ],
      "text/plain": [
       "   user_id    state region\n",
       "0        1  Alabama  South\n",
       "1        1  Alabama  South\n",
       "2        1  Alabama  South\n",
       "3        1  Alabama  South\n",
       "4        1  Alabama  South"
      ]
     },
     "execution_count": 19,
     "metadata": {},
     "output_type": "execute_result"
    }
   ],
   "source": [
    "# Head results for user_id, state and region.\n",
    "new_customers_products[['user_id', 'state', 'region']].head()"
   ]
  },
  {
   "cell_type": "code",
   "execution_count": 20,
   "id": "f9934337",
   "metadata": {},
   "outputs": [],
   "source": [
    " #Determine whether there is difference in spending hadbit of each region\n",
    "crosstab_region_spenders_type = pd.crosstab(new_customers_products['region'], new_customers_products['spending_habit'], dropna = False)"
   ]
  },
  {
   "cell_type": "code",
   "execution_count": 21,
   "id": "bd51418d",
   "metadata": {},
   "outputs": [
    {
     "data": {
      "text/html": [
       "<div>\n",
       "<style scoped>\n",
       "    .dataframe tbody tr th:only-of-type {\n",
       "        vertical-align: middle;\n",
       "    }\n",
       "\n",
       "    .dataframe tbody tr th {\n",
       "        vertical-align: top;\n",
       "    }\n",
       "\n",
       "    .dataframe thead th {\n",
       "        text-align: right;\n",
       "    }\n",
       "</style>\n",
       "<table border=\"1\" class=\"dataframe\">\n",
       "  <thead>\n",
       "    <tr style=\"text-align: right;\">\n",
       "      <th>spending_habit</th>\n",
       "      <th>Higher spender</th>\n",
       "      <th>Lower spender</th>\n",
       "    </tr>\n",
       "    <tr>\n",
       "      <th>region</th>\n",
       "      <th></th>\n",
       "      <th></th>\n",
       "    </tr>\n",
       "  </thead>\n",
       "  <tbody>\n",
       "    <tr>\n",
       "      <th>Midwest</th>\n",
       "      <td>155975</td>\n",
       "      <td>7441350</td>\n",
       "    </tr>\n",
       "    <tr>\n",
       "      <th>Northeast</th>\n",
       "      <td>108225</td>\n",
       "      <td>5614511</td>\n",
       "    </tr>\n",
       "    <tr>\n",
       "      <th>South</th>\n",
       "      <td>209691</td>\n",
       "      <td>10582194</td>\n",
       "    </tr>\n",
       "    <tr>\n",
       "      <th>West</th>\n",
       "      <td>160354</td>\n",
       "      <td>8132559</td>\n",
       "    </tr>\n",
       "  </tbody>\n",
       "</table>\n",
       "</div>"
      ],
      "text/plain": [
       "spending_habit  Higher spender  Lower spender\n",
       "region                                       \n",
       "Midwest                 155975        7441350\n",
       "Northeast               108225        5614511\n",
       "South                   209691       10582194\n",
       "West                    160354        8132559"
      ]
     },
     "execution_count": 21,
     "metadata": {},
     "output_type": "execute_result"
    }
   ],
   "source": [
    "crosstab_region_spenders_type"
   ]
  },
  {
   "cell_type": "code",
   "execution_count": 22,
   "id": "0cf190e7",
   "metadata": {},
   "outputs": [],
   "source": [
    "#copy to Clipboard\n",
    "crosstab_region_spenders_type.to_clipboard()"
   ]
  },
  {
   "cell_type": "code",
   "execution_count": 23,
   "id": "20a82c8a",
   "metadata": {},
   "outputs": [],
   "source": [
    "# Create exclusion flag for low-activity customers"
   ]
  },
  {
   "cell_type": "code",
   "execution_count": 24,
   "id": "964558dd",
   "metadata": {},
   "outputs": [],
   "source": [
    "# create a flag for low-activity customers based on less than 5 orders\n",
    "new_customers_products.loc[new_customers_products['max_order'] < 5, 'exclusion_flag'] = 'Low-activity Customer'"
   ]
  },
  {
   "cell_type": "code",
   "execution_count": 25,
   "id": "ea133840",
   "metadata": {},
   "outputs": [],
   "source": [
    "# create a flag for high-activity customers based on 5 or more orders\n",
    "new_customers_products.loc[new_customers_products['max_order'] > 5, 'exclusion_flag'] = 'High-activity Customer'"
   ]
  },
  {
   "cell_type": "code",
   "execution_count": 26,
   "id": "0077ffc9",
   "metadata": {},
   "outputs": [
    {
     "data": {
      "text/html": [
       "<div>\n",
       "<style scoped>\n",
       "    .dataframe tbody tr th:only-of-type {\n",
       "        vertical-align: middle;\n",
       "    }\n",
       "\n",
       "    .dataframe tbody tr th {\n",
       "        vertical-align: top;\n",
       "    }\n",
       "\n",
       "    .dataframe thead th {\n",
       "        text-align: right;\n",
       "    }\n",
       "</style>\n",
       "<table border=\"1\" class=\"dataframe\">\n",
       "  <thead>\n",
       "    <tr style=\"text-align: right;\">\n",
       "      <th></th>\n",
       "      <th>max_order</th>\n",
       "      <th>exclusion_flag</th>\n",
       "    </tr>\n",
       "  </thead>\n",
       "  <tbody>\n",
       "    <tr>\n",
       "      <th>0</th>\n",
       "      <td>10</td>\n",
       "      <td>High-activity Customer</td>\n",
       "    </tr>\n",
       "    <tr>\n",
       "      <th>1</th>\n",
       "      <td>10</td>\n",
       "      <td>High-activity Customer</td>\n",
       "    </tr>\n",
       "    <tr>\n",
       "      <th>2</th>\n",
       "      <td>10</td>\n",
       "      <td>High-activity Customer</td>\n",
       "    </tr>\n",
       "    <tr>\n",
       "      <th>3</th>\n",
       "      <td>10</td>\n",
       "      <td>High-activity Customer</td>\n",
       "    </tr>\n",
       "    <tr>\n",
       "      <th>4</th>\n",
       "      <td>10</td>\n",
       "      <td>High-activity Customer</td>\n",
       "    </tr>\n",
       "  </tbody>\n",
       "</table>\n",
       "</div>"
      ],
      "text/plain": [
       "   max_order          exclusion_flag\n",
       "0         10  High-activity Customer\n",
       "1         10  High-activity Customer\n",
       "2         10  High-activity Customer\n",
       "3         10  High-activity Customer\n",
       "4         10  High-activity Customer"
      ]
     },
     "execution_count": 26,
     "metadata": {},
     "output_type": "execute_result"
    }
   ],
   "source": [
    "new_customers_products[['max_order', 'exclusion_flag']].head()"
   ]
  },
  {
   "cell_type": "code",
   "execution_count": 27,
   "id": "db98d363",
   "metadata": {},
   "outputs": [
    {
     "data": {
      "text/plain": [
       "High-activity Customer    30171424\n",
       "Low-activity Customer      1440295\n",
       "NaN                         793140\n",
       "Name: exclusion_flag, dtype: int64"
      ]
     },
     "execution_count": 27,
     "metadata": {},
     "output_type": "execute_result"
    }
   ],
   "source": [
    "#check if chage is affected\n",
    "new_customers_products['exclusion_flag'].value_counts(dropna = False)"
   ]
  },
  {
   "cell_type": "code",
   "execution_count": 28,
   "id": "4621523f",
   "metadata": {},
   "outputs": [
    {
     "data": {
      "text/plain": [
       "region            object\n",
       "exclusion_flag    object\n",
       "dtype: object"
      ]
     },
     "execution_count": 28,
     "metadata": {},
     "output_type": "execute_result"
    }
   ],
   "source": [
    "# check dtype of new variables\n",
    "new_customers_products[['region', 'exclusion_flag']].dtypes"
   ]
  },
  {
   "cell_type": "code",
   "execution_count": 29,
   "id": "04658f40",
   "metadata": {},
   "outputs": [],
   "source": [
    "# Exclude low activity customer from list\n",
    "new_customer_list = new_customers_products[new_customers_products['max_order'] > 5]"
   ]
  },
  {
   "cell_type": "code",
   "execution_count": 30,
   "id": "21330d3b",
   "metadata": {},
   "outputs": [
    {
     "data": {
      "text/html": [
       "<div>\n",
       "<style scoped>\n",
       "    .dataframe tbody tr th:only-of-type {\n",
       "        vertical-align: middle;\n",
       "    }\n",
       "\n",
       "    .dataframe tbody tr th {\n",
       "        vertical-align: top;\n",
       "    }\n",
       "\n",
       "    .dataframe thead th {\n",
       "        text-align: right;\n",
       "    }\n",
       "</style>\n",
       "<table border=\"1\" class=\"dataframe\">\n",
       "  <thead>\n",
       "    <tr style=\"text-align: right;\">\n",
       "      <th></th>\n",
       "      <th>Unnamed: 0.1</th>\n",
       "      <th>order_id</th>\n",
       "      <th>user_id</th>\n",
       "      <th>order_number</th>\n",
       "      <th>orders_day_of_week</th>\n",
       "      <th>order_hour_of_day</th>\n",
       "      <th>days_since_prior_order</th>\n",
       "      <th>first_order</th>\n",
       "      <th>product_id</th>\n",
       "      <th>add_to_cart_order</th>\n",
       "      <th>...</th>\n",
       "      <th>order_frequency</th>\n",
       "      <th>gender</th>\n",
       "      <th>state</th>\n",
       "      <th>age</th>\n",
       "      <th>date_joined</th>\n",
       "      <th>n_dependants</th>\n",
       "      <th>fam_status</th>\n",
       "      <th>income</th>\n",
       "      <th>region</th>\n",
       "      <th>exclusion_flag</th>\n",
       "    </tr>\n",
       "  </thead>\n",
       "  <tbody>\n",
       "    <tr>\n",
       "      <th>0</th>\n",
       "      <td>0</td>\n",
       "      <td>2539329</td>\n",
       "      <td>1</td>\n",
       "      <td>1</td>\n",
       "      <td>2</td>\n",
       "      <td>8</td>\n",
       "      <td>NaN</td>\n",
       "      <td>True</td>\n",
       "      <td>196</td>\n",
       "      <td>1</td>\n",
       "      <td>...</td>\n",
       "      <td>Non-frequent customer</td>\n",
       "      <td>Female</td>\n",
       "      <td>Alabama</td>\n",
       "      <td>31</td>\n",
       "      <td>2/17/2019</td>\n",
       "      <td>3</td>\n",
       "      <td>married</td>\n",
       "      <td>40423</td>\n",
       "      <td>South</td>\n",
       "      <td>High-activity Customer</td>\n",
       "    </tr>\n",
       "    <tr>\n",
       "      <th>1</th>\n",
       "      <td>1</td>\n",
       "      <td>2398795</td>\n",
       "      <td>1</td>\n",
       "      <td>2</td>\n",
       "      <td>3</td>\n",
       "      <td>7</td>\n",
       "      <td>15.0</td>\n",
       "      <td>False</td>\n",
       "      <td>196</td>\n",
       "      <td>1</td>\n",
       "      <td>...</td>\n",
       "      <td>Non-frequent customer</td>\n",
       "      <td>Female</td>\n",
       "      <td>Alabama</td>\n",
       "      <td>31</td>\n",
       "      <td>2/17/2019</td>\n",
       "      <td>3</td>\n",
       "      <td>married</td>\n",
       "      <td>40423</td>\n",
       "      <td>South</td>\n",
       "      <td>High-activity Customer</td>\n",
       "    </tr>\n",
       "    <tr>\n",
       "      <th>2</th>\n",
       "      <td>2</td>\n",
       "      <td>473747</td>\n",
       "      <td>1</td>\n",
       "      <td>3</td>\n",
       "      <td>3</td>\n",
       "      <td>12</td>\n",
       "      <td>21.0</td>\n",
       "      <td>False</td>\n",
       "      <td>196</td>\n",
       "      <td>1</td>\n",
       "      <td>...</td>\n",
       "      <td>Non-frequent customer</td>\n",
       "      <td>Female</td>\n",
       "      <td>Alabama</td>\n",
       "      <td>31</td>\n",
       "      <td>2/17/2019</td>\n",
       "      <td>3</td>\n",
       "      <td>married</td>\n",
       "      <td>40423</td>\n",
       "      <td>South</td>\n",
       "      <td>High-activity Customer</td>\n",
       "    </tr>\n",
       "    <tr>\n",
       "      <th>3</th>\n",
       "      <td>3</td>\n",
       "      <td>2254736</td>\n",
       "      <td>1</td>\n",
       "      <td>4</td>\n",
       "      <td>4</td>\n",
       "      <td>7</td>\n",
       "      <td>29.0</td>\n",
       "      <td>False</td>\n",
       "      <td>196</td>\n",
       "      <td>1</td>\n",
       "      <td>...</td>\n",
       "      <td>Non-frequent customer</td>\n",
       "      <td>Female</td>\n",
       "      <td>Alabama</td>\n",
       "      <td>31</td>\n",
       "      <td>2/17/2019</td>\n",
       "      <td>3</td>\n",
       "      <td>married</td>\n",
       "      <td>40423</td>\n",
       "      <td>South</td>\n",
       "      <td>High-activity Customer</td>\n",
       "    </tr>\n",
       "    <tr>\n",
       "      <th>4</th>\n",
       "      <td>4</td>\n",
       "      <td>431534</td>\n",
       "      <td>1</td>\n",
       "      <td>5</td>\n",
       "      <td>4</td>\n",
       "      <td>15</td>\n",
       "      <td>28.0</td>\n",
       "      <td>False</td>\n",
       "      <td>196</td>\n",
       "      <td>1</td>\n",
       "      <td>...</td>\n",
       "      <td>Non-frequent customer</td>\n",
       "      <td>Female</td>\n",
       "      <td>Alabama</td>\n",
       "      <td>31</td>\n",
       "      <td>2/17/2019</td>\n",
       "      <td>3</td>\n",
       "      <td>married</td>\n",
       "      <td>40423</td>\n",
       "      <td>South</td>\n",
       "      <td>High-activity Customer</td>\n",
       "    </tr>\n",
       "  </tbody>\n",
       "</table>\n",
       "<p>5 rows × 35 columns</p>\n",
       "</div>"
      ],
      "text/plain": [
       "   Unnamed: 0.1  order_id  user_id  order_number  orders_day_of_week  \\\n",
       "0             0   2539329        1             1                   2   \n",
       "1             1   2398795        1             2                   3   \n",
       "2             2    473747        1             3                   3   \n",
       "3             3   2254736        1             4                   4   \n",
       "4             4    431534        1             5                   4   \n",
       "\n",
       "   order_hour_of_day  days_since_prior_order  first_order  product_id  \\\n",
       "0                  8                     NaN         True         196   \n",
       "1                  7                    15.0        False         196   \n",
       "2                 12                    21.0        False         196   \n",
       "3                  7                    29.0        False         196   \n",
       "4                 15                    28.0        False         196   \n",
       "\n",
       "   add_to_cart_order  ...        order_frequency  gender    state  age  \\\n",
       "0                  1  ...  Non-frequent customer  Female  Alabama   31   \n",
       "1                  1  ...  Non-frequent customer  Female  Alabama   31   \n",
       "2                  1  ...  Non-frequent customer  Female  Alabama   31   \n",
       "3                  1  ...  Non-frequent customer  Female  Alabama   31   \n",
       "4                  1  ...  Non-frequent customer  Female  Alabama   31   \n",
       "\n",
       "   date_joined n_dependants fam_status income region          exclusion_flag  \n",
       "0    2/17/2019            3    married  40423  South  High-activity Customer  \n",
       "1    2/17/2019            3    married  40423  South  High-activity Customer  \n",
       "2    2/17/2019            3    married  40423  South  High-activity Customer  \n",
       "3    2/17/2019            3    married  40423  South  High-activity Customer  \n",
       "4    2/17/2019            3    married  40423  South  High-activity Customer  \n",
       "\n",
       "[5 rows x 35 columns]"
      ]
     },
     "execution_count": 30,
     "metadata": {},
     "output_type": "execute_result"
    }
   ],
   "source": [
    "new_customer_list.head()"
   ]
  },
  {
   "cell_type": "code",
   "execution_count": 31,
   "id": "cedabc71",
   "metadata": {
    "scrolled": true
   },
   "outputs": [
    {
     "data": {
      "text/plain": [
       "Index(['Unnamed: 0.1', 'order_id', 'user_id', 'order_number',\n",
       "       'orders_day_of_week', 'order_hour_of_day', 'days_since_prior_order',\n",
       "       'first_order', 'product_id', 'add_to_cart_order', 'reordered',\n",
       "       'product_name', 'aisle_id', 'department_id', 'prices', '_merge',\n",
       "       'price_range_loc', 'busiest_day', 'Busiest_day',\n",
       "       'Busiest_period_of_day', 'max_order', 'loyalty_flag', 'user_avg_price',\n",
       "       'spending_habit', 'median_order_duration', 'order_frequency', 'gender',\n",
       "       'state', 'age', 'date_joined', 'n_dependants', 'fam_status', 'income',\n",
       "       'region', 'exclusion_flag'],\n",
       "      dtype='object')"
      ]
     },
     "execution_count": 31,
     "metadata": {},
     "output_type": "execute_result"
    }
   ],
   "source": [
    "new_customer_list.columns"
   ]
  },
  {
   "cell_type": "code",
   "execution_count": 32,
   "id": "2068374b",
   "metadata": {
    "scrolled": true
   },
   "outputs": [
    {
     "data": {
      "text/html": [
       "<div>\n",
       "<style scoped>\n",
       "    .dataframe tbody tr th:only-of-type {\n",
       "        vertical-align: middle;\n",
       "    }\n",
       "\n",
       "    .dataframe tbody tr th {\n",
       "        vertical-align: top;\n",
       "    }\n",
       "\n",
       "    .dataframe thead tr th {\n",
       "        text-align: left;\n",
       "    }\n",
       "\n",
       "    .dataframe thead tr:last-of-type th {\n",
       "        text-align: right;\n",
       "    }\n",
       "</style>\n",
       "<table border=\"1\" class=\"dataframe\">\n",
       "  <thead>\n",
       "    <tr>\n",
       "      <th></th>\n",
       "      <th colspan=\"3\" halign=\"left\">prices</th>\n",
       "    </tr>\n",
       "    <tr>\n",
       "      <th></th>\n",
       "      <th>mean</th>\n",
       "      <th>min</th>\n",
       "      <th>max</th>\n",
       "    </tr>\n",
       "    <tr>\n",
       "      <th>loyalty_flag</th>\n",
       "      <th></th>\n",
       "      <th></th>\n",
       "      <th></th>\n",
       "    </tr>\n",
       "  </thead>\n",
       "  <tbody>\n",
       "    <tr>\n",
       "      <th>Loyal customer</th>\n",
       "      <td>10.386336</td>\n",
       "      <td>1.0</td>\n",
       "      <td>99999.0</td>\n",
       "    </tr>\n",
       "    <tr>\n",
       "      <th>New customer</th>\n",
       "      <td>13.107219</td>\n",
       "      <td>1.0</td>\n",
       "      <td>99999.0</td>\n",
       "    </tr>\n",
       "    <tr>\n",
       "      <th>Regular customer</th>\n",
       "      <td>12.495717</td>\n",
       "      <td>1.0</td>\n",
       "      <td>99999.0</td>\n",
       "    </tr>\n",
       "  </tbody>\n",
       "</table>\n",
       "</div>"
      ],
      "text/plain": [
       "                     prices              \n",
       "                       mean  min      max\n",
       "loyalty_flag                             \n",
       "Loyal customer    10.386336  1.0  99999.0\n",
       "New customer      13.107219  1.0  99999.0\n",
       "Regular customer  12.495717  1.0  99999.0"
      ]
     },
     "execution_count": 32,
     "metadata": {},
     "output_type": "execute_result"
    }
   ],
   "source": [
    "new_customer_list.groupby('loyalty_flag').agg({'prices': ['mean', 'min', 'max']})"
   ]
  },
  {
   "cell_type": "code",
   "execution_count": 33,
   "id": "9fe91e13",
   "metadata": {},
   "outputs": [
    {
     "ename": "MemoryError",
     "evalue": "Unable to allocate 3.15 GiB for an array with shape (14, 30166708) and data type object",
     "output_type": "error",
     "traceback": [
      "\u001b[1;31m---------------------------------------------------------------------------\u001b[0m",
      "\u001b[1;31mMemoryError\u001b[0m                               Traceback (most recent call last)",
      "\u001b[1;32m~\\AppData\\Local\\Temp/ipykernel_12416/4085097451.py\u001b[0m in \u001b[0;36m<module>\u001b[1;34m\u001b[0m\n\u001b[1;32m----> 1\u001b[1;33m \u001b[0mnew_customer_list\u001b[0m \u001b[1;33m=\u001b[0m \u001b[0mnew_customer_list\u001b[0m\u001b[1;33m[\u001b[0m\u001b[0mnew_customer_list\u001b[0m\u001b[1;33m.\u001b[0m\u001b[0mprices\u001b[0m \u001b[1;33m<\u001b[0m \u001b[1;36m200.0\u001b[0m\u001b[1;33m]\u001b[0m\u001b[1;33m\u001b[0m\u001b[1;33m\u001b[0m\u001b[0m\n\u001b[0m",
      "\u001b[1;32m~\\anaconda3\\lib\\site-packages\\pandas\\core\\frame.py\u001b[0m in \u001b[0;36m__getitem__\u001b[1;34m(self, key)\u001b[0m\n\u001b[0;32m   3447\u001b[0m         \u001b[1;31m# Do we have a (boolean) 1d indexer?\u001b[0m\u001b[1;33m\u001b[0m\u001b[1;33m\u001b[0m\u001b[0m\n\u001b[0;32m   3448\u001b[0m         \u001b[1;32mif\u001b[0m \u001b[0mcom\u001b[0m\u001b[1;33m.\u001b[0m\u001b[0mis_bool_indexer\u001b[0m\u001b[1;33m(\u001b[0m\u001b[0mkey\u001b[0m\u001b[1;33m)\u001b[0m\u001b[1;33m:\u001b[0m\u001b[1;33m\u001b[0m\u001b[1;33m\u001b[0m\u001b[0m\n\u001b[1;32m-> 3449\u001b[1;33m             \u001b[1;32mreturn\u001b[0m \u001b[0mself\u001b[0m\u001b[1;33m.\u001b[0m\u001b[0m_getitem_bool_array\u001b[0m\u001b[1;33m(\u001b[0m\u001b[0mkey\u001b[0m\u001b[1;33m)\u001b[0m\u001b[1;33m\u001b[0m\u001b[1;33m\u001b[0m\u001b[0m\n\u001b[0m\u001b[0;32m   3450\u001b[0m \u001b[1;33m\u001b[0m\u001b[0m\n\u001b[0;32m   3451\u001b[0m         \u001b[1;31m# We are left with two options: a single key, and a collection of keys,\u001b[0m\u001b[1;33m\u001b[0m\u001b[1;33m\u001b[0m\u001b[0m\n",
      "\u001b[1;32m~\\anaconda3\\lib\\site-packages\\pandas\\core\\frame.py\u001b[0m in \u001b[0;36m_getitem_bool_array\u001b[1;34m(self, key)\u001b[0m\n\u001b[0;32m   3502\u001b[0m         \u001b[0mkey\u001b[0m \u001b[1;33m=\u001b[0m \u001b[0mcheck_bool_indexer\u001b[0m\u001b[1;33m(\u001b[0m\u001b[0mself\u001b[0m\u001b[1;33m.\u001b[0m\u001b[0mindex\u001b[0m\u001b[1;33m,\u001b[0m \u001b[0mkey\u001b[0m\u001b[1;33m)\u001b[0m\u001b[1;33m\u001b[0m\u001b[1;33m\u001b[0m\u001b[0m\n\u001b[0;32m   3503\u001b[0m         \u001b[0mindexer\u001b[0m \u001b[1;33m=\u001b[0m \u001b[0mkey\u001b[0m\u001b[1;33m.\u001b[0m\u001b[0mnonzero\u001b[0m\u001b[1;33m(\u001b[0m\u001b[1;33m)\u001b[0m\u001b[1;33m[\u001b[0m\u001b[1;36m0\u001b[0m\u001b[1;33m]\u001b[0m\u001b[1;33m\u001b[0m\u001b[1;33m\u001b[0m\u001b[0m\n\u001b[1;32m-> 3504\u001b[1;33m         \u001b[1;32mreturn\u001b[0m \u001b[0mself\u001b[0m\u001b[1;33m.\u001b[0m\u001b[0m_take_with_is_copy\u001b[0m\u001b[1;33m(\u001b[0m\u001b[0mindexer\u001b[0m\u001b[1;33m,\u001b[0m \u001b[0maxis\u001b[0m\u001b[1;33m=\u001b[0m\u001b[1;36m0\u001b[0m\u001b[1;33m)\u001b[0m\u001b[1;33m\u001b[0m\u001b[1;33m\u001b[0m\u001b[0m\n\u001b[0m\u001b[0;32m   3505\u001b[0m \u001b[1;33m\u001b[0m\u001b[0m\n\u001b[0;32m   3506\u001b[0m     \u001b[1;32mdef\u001b[0m \u001b[0m_getitem_multilevel\u001b[0m\u001b[1;33m(\u001b[0m\u001b[0mself\u001b[0m\u001b[1;33m,\u001b[0m \u001b[0mkey\u001b[0m\u001b[1;33m)\u001b[0m\u001b[1;33m:\u001b[0m\u001b[1;33m\u001b[0m\u001b[1;33m\u001b[0m\u001b[0m\n",
      "\u001b[1;32m~\\anaconda3\\lib\\site-packages\\pandas\\core\\generic.py\u001b[0m in \u001b[0;36m_take_with_is_copy\u001b[1;34m(self, indices, axis)\u001b[0m\n\u001b[0;32m   3626\u001b[0m         \u001b[0mSee\u001b[0m \u001b[0mthe\u001b[0m \u001b[0mdocstring\u001b[0m \u001b[0mof\u001b[0m\u001b[0;31m \u001b[0m\u001b[0;31m`\u001b[0m\u001b[0mtake\u001b[0m\u001b[0;31m`\u001b[0m \u001b[1;32mfor\u001b[0m \u001b[0mfull\u001b[0m \u001b[0mexplanation\u001b[0m \u001b[0mof\u001b[0m \u001b[0mthe\u001b[0m \u001b[0mparameters\u001b[0m\u001b[1;33m.\u001b[0m\u001b[1;33m\u001b[0m\u001b[1;33m\u001b[0m\u001b[0m\n\u001b[0;32m   3627\u001b[0m         \"\"\"\n\u001b[1;32m-> 3628\u001b[1;33m         \u001b[0mresult\u001b[0m \u001b[1;33m=\u001b[0m \u001b[0mself\u001b[0m\u001b[1;33m.\u001b[0m\u001b[0mtake\u001b[0m\u001b[1;33m(\u001b[0m\u001b[0mindices\u001b[0m\u001b[1;33m=\u001b[0m\u001b[0mindices\u001b[0m\u001b[1;33m,\u001b[0m \u001b[0maxis\u001b[0m\u001b[1;33m=\u001b[0m\u001b[0maxis\u001b[0m\u001b[1;33m)\u001b[0m\u001b[1;33m\u001b[0m\u001b[1;33m\u001b[0m\u001b[0m\n\u001b[0m\u001b[0;32m   3629\u001b[0m         \u001b[1;31m# Maybe set copy if we didn't actually change the index.\u001b[0m\u001b[1;33m\u001b[0m\u001b[1;33m\u001b[0m\u001b[0m\n\u001b[0;32m   3630\u001b[0m         \u001b[1;32mif\u001b[0m \u001b[1;32mnot\u001b[0m \u001b[0mresult\u001b[0m\u001b[1;33m.\u001b[0m\u001b[0m_get_axis\u001b[0m\u001b[1;33m(\u001b[0m\u001b[0maxis\u001b[0m\u001b[1;33m)\u001b[0m\u001b[1;33m.\u001b[0m\u001b[0mequals\u001b[0m\u001b[1;33m(\u001b[0m\u001b[0mself\u001b[0m\u001b[1;33m.\u001b[0m\u001b[0m_get_axis\u001b[0m\u001b[1;33m(\u001b[0m\u001b[0maxis\u001b[0m\u001b[1;33m)\u001b[0m\u001b[1;33m)\u001b[0m\u001b[1;33m:\u001b[0m\u001b[1;33m\u001b[0m\u001b[1;33m\u001b[0m\u001b[0m\n",
      "\u001b[1;32m~\\anaconda3\\lib\\site-packages\\pandas\\core\\generic.py\u001b[0m in \u001b[0;36mtake\u001b[1;34m(self, indices, axis, is_copy, **kwargs)\u001b[0m\n\u001b[0;32m   3613\u001b[0m         \u001b[0mself\u001b[0m\u001b[1;33m.\u001b[0m\u001b[0m_consolidate_inplace\u001b[0m\u001b[1;33m(\u001b[0m\u001b[1;33m)\u001b[0m\u001b[1;33m\u001b[0m\u001b[1;33m\u001b[0m\u001b[0m\n\u001b[0;32m   3614\u001b[0m \u001b[1;33m\u001b[0m\u001b[0m\n\u001b[1;32m-> 3615\u001b[1;33m         new_data = self._mgr.take(\n\u001b[0m\u001b[0;32m   3616\u001b[0m             \u001b[0mindices\u001b[0m\u001b[1;33m,\u001b[0m \u001b[0maxis\u001b[0m\u001b[1;33m=\u001b[0m\u001b[0mself\u001b[0m\u001b[1;33m.\u001b[0m\u001b[0m_get_block_manager_axis\u001b[0m\u001b[1;33m(\u001b[0m\u001b[0maxis\u001b[0m\u001b[1;33m)\u001b[0m\u001b[1;33m,\u001b[0m \u001b[0mverify\u001b[0m\u001b[1;33m=\u001b[0m\u001b[1;32mTrue\u001b[0m\u001b[1;33m\u001b[0m\u001b[1;33m\u001b[0m\u001b[0m\n\u001b[0;32m   3617\u001b[0m         )\n",
      "\u001b[1;32m~\\anaconda3\\lib\\site-packages\\pandas\\core\\internals\\managers.py\u001b[0m in \u001b[0;36mtake\u001b[1;34m(self, indexer, axis, verify)\u001b[0m\n\u001b[0;32m    863\u001b[0m \u001b[1;33m\u001b[0m\u001b[0m\n\u001b[0;32m    864\u001b[0m         \u001b[0mnew_labels\u001b[0m \u001b[1;33m=\u001b[0m \u001b[0mself\u001b[0m\u001b[1;33m.\u001b[0m\u001b[0maxes\u001b[0m\u001b[1;33m[\u001b[0m\u001b[0maxis\u001b[0m\u001b[1;33m]\u001b[0m\u001b[1;33m.\u001b[0m\u001b[0mtake\u001b[0m\u001b[1;33m(\u001b[0m\u001b[0mindexer\u001b[0m\u001b[1;33m)\u001b[0m\u001b[1;33m\u001b[0m\u001b[1;33m\u001b[0m\u001b[0m\n\u001b[1;32m--> 865\u001b[1;33m         return self.reindex_indexer(\n\u001b[0m\u001b[0;32m    866\u001b[0m             \u001b[0mnew_axis\u001b[0m\u001b[1;33m=\u001b[0m\u001b[0mnew_labels\u001b[0m\u001b[1;33m,\u001b[0m\u001b[1;33m\u001b[0m\u001b[1;33m\u001b[0m\u001b[0m\n\u001b[0;32m    867\u001b[0m             \u001b[0mindexer\u001b[0m\u001b[1;33m=\u001b[0m\u001b[0mindexer\u001b[0m\u001b[1;33m,\u001b[0m\u001b[1;33m\u001b[0m\u001b[1;33m\u001b[0m\u001b[0m\n",
      "\u001b[1;32m~\\anaconda3\\lib\\site-packages\\pandas\\core\\internals\\managers.py\u001b[0m in \u001b[0;36mreindex_indexer\u001b[1;34m(self, new_axis, indexer, axis, fill_value, allow_dups, copy, consolidate, only_slice)\u001b[0m\n\u001b[0;32m    678\u001b[0m             )\n\u001b[0;32m    679\u001b[0m         \u001b[1;32melse\u001b[0m\u001b[1;33m:\u001b[0m\u001b[1;33m\u001b[0m\u001b[1;33m\u001b[0m\u001b[0m\n\u001b[1;32m--> 680\u001b[1;33m             new_blocks = [\n\u001b[0m\u001b[0;32m    681\u001b[0m                 blk.take_nd(\n\u001b[0;32m    682\u001b[0m                     \u001b[0mindexer\u001b[0m\u001b[1;33m,\u001b[0m\u001b[1;33m\u001b[0m\u001b[1;33m\u001b[0m\u001b[0m\n",
      "\u001b[1;32m~\\anaconda3\\lib\\site-packages\\pandas\\core\\internals\\managers.py\u001b[0m in \u001b[0;36m<listcomp>\u001b[1;34m(.0)\u001b[0m\n\u001b[0;32m    679\u001b[0m         \u001b[1;32melse\u001b[0m\u001b[1;33m:\u001b[0m\u001b[1;33m\u001b[0m\u001b[1;33m\u001b[0m\u001b[0m\n\u001b[0;32m    680\u001b[0m             new_blocks = [\n\u001b[1;32m--> 681\u001b[1;33m                 blk.take_nd(\n\u001b[0m\u001b[0;32m    682\u001b[0m                     \u001b[0mindexer\u001b[0m\u001b[1;33m,\u001b[0m\u001b[1;33m\u001b[0m\u001b[1;33m\u001b[0m\u001b[0m\n\u001b[0;32m    683\u001b[0m                     \u001b[0maxis\u001b[0m\u001b[1;33m=\u001b[0m\u001b[1;36m1\u001b[0m\u001b[1;33m,\u001b[0m\u001b[1;33m\u001b[0m\u001b[1;33m\u001b[0m\u001b[0m\n",
      "\u001b[1;32m~\\anaconda3\\lib\\site-packages\\pandas\\core\\internals\\blocks.py\u001b[0m in \u001b[0;36mtake_nd\u001b[1;34m(self, indexer, axis, new_mgr_locs, fill_value)\u001b[0m\n\u001b[0;32m   1142\u001b[0m             \u001b[0mallow_fill\u001b[0m \u001b[1;33m=\u001b[0m \u001b[1;32mTrue\u001b[0m\u001b[1;33m\u001b[0m\u001b[1;33m\u001b[0m\u001b[0m\n\u001b[0;32m   1143\u001b[0m \u001b[1;33m\u001b[0m\u001b[0m\n\u001b[1;32m-> 1144\u001b[1;33m         new_values = algos.take_nd(\n\u001b[0m\u001b[0;32m   1145\u001b[0m             \u001b[0mvalues\u001b[0m\u001b[1;33m,\u001b[0m \u001b[0mindexer\u001b[0m\u001b[1;33m,\u001b[0m \u001b[0maxis\u001b[0m\u001b[1;33m=\u001b[0m\u001b[0maxis\u001b[0m\u001b[1;33m,\u001b[0m \u001b[0mallow_fill\u001b[0m\u001b[1;33m=\u001b[0m\u001b[0mallow_fill\u001b[0m\u001b[1;33m,\u001b[0m \u001b[0mfill_value\u001b[0m\u001b[1;33m=\u001b[0m\u001b[0mfill_value\u001b[0m\u001b[1;33m\u001b[0m\u001b[1;33m\u001b[0m\u001b[0m\n\u001b[0;32m   1146\u001b[0m         )\n",
      "\u001b[1;32m~\\anaconda3\\lib\\site-packages\\pandas\\core\\array_algos\\take.py\u001b[0m in \u001b[0;36mtake_nd\u001b[1;34m(arr, indexer, axis, fill_value, allow_fill)\u001b[0m\n\u001b[0;32m    106\u001b[0m \u001b[1;33m\u001b[0m\u001b[0m\n\u001b[0;32m    107\u001b[0m     \u001b[0marr\u001b[0m \u001b[1;33m=\u001b[0m \u001b[0mnp\u001b[0m\u001b[1;33m.\u001b[0m\u001b[0masarray\u001b[0m\u001b[1;33m(\u001b[0m\u001b[0marr\u001b[0m\u001b[1;33m)\u001b[0m\u001b[1;33m\u001b[0m\u001b[1;33m\u001b[0m\u001b[0m\n\u001b[1;32m--> 108\u001b[1;33m     \u001b[1;32mreturn\u001b[0m \u001b[0m_take_nd_ndarray\u001b[0m\u001b[1;33m(\u001b[0m\u001b[0marr\u001b[0m\u001b[1;33m,\u001b[0m \u001b[0mindexer\u001b[0m\u001b[1;33m,\u001b[0m \u001b[0maxis\u001b[0m\u001b[1;33m,\u001b[0m \u001b[0mfill_value\u001b[0m\u001b[1;33m,\u001b[0m \u001b[0mallow_fill\u001b[0m\u001b[1;33m)\u001b[0m\u001b[1;33m\u001b[0m\u001b[1;33m\u001b[0m\u001b[0m\n\u001b[0m\u001b[0;32m    109\u001b[0m \u001b[1;33m\u001b[0m\u001b[0m\n\u001b[0;32m    110\u001b[0m \u001b[1;33m\u001b[0m\u001b[0m\n",
      "\u001b[1;32m~\\anaconda3\\lib\\site-packages\\pandas\\core\\array_algos\\take.py\u001b[0m in \u001b[0;36m_take_nd_ndarray\u001b[1;34m(arr, indexer, axis, fill_value, allow_fill)\u001b[0m\n\u001b[0;32m    147\u001b[0m         \u001b[0mout\u001b[0m \u001b[1;33m=\u001b[0m \u001b[0mnp\u001b[0m\u001b[1;33m.\u001b[0m\u001b[0mempty\u001b[0m\u001b[1;33m(\u001b[0m\u001b[0mout_shape\u001b[0m\u001b[1;33m,\u001b[0m \u001b[0mdtype\u001b[0m\u001b[1;33m=\u001b[0m\u001b[0mdtype\u001b[0m\u001b[1;33m,\u001b[0m \u001b[0morder\u001b[0m\u001b[1;33m=\u001b[0m\u001b[1;34m\"F\"\u001b[0m\u001b[1;33m)\u001b[0m\u001b[1;33m\u001b[0m\u001b[1;33m\u001b[0m\u001b[0m\n\u001b[0;32m    148\u001b[0m     \u001b[1;32melse\u001b[0m\u001b[1;33m:\u001b[0m\u001b[1;33m\u001b[0m\u001b[1;33m\u001b[0m\u001b[0m\n\u001b[1;32m--> 149\u001b[1;33m         \u001b[0mout\u001b[0m \u001b[1;33m=\u001b[0m \u001b[0mnp\u001b[0m\u001b[1;33m.\u001b[0m\u001b[0mempty\u001b[0m\u001b[1;33m(\u001b[0m\u001b[0mout_shape\u001b[0m\u001b[1;33m,\u001b[0m \u001b[0mdtype\u001b[0m\u001b[1;33m=\u001b[0m\u001b[0mdtype\u001b[0m\u001b[1;33m)\u001b[0m\u001b[1;33m\u001b[0m\u001b[1;33m\u001b[0m\u001b[0m\n\u001b[0m\u001b[0;32m    150\u001b[0m \u001b[1;33m\u001b[0m\u001b[0m\n\u001b[0;32m    151\u001b[0m     func = _get_take_nd_function(\n",
      "\u001b[1;31mMemoryError\u001b[0m: Unable to allocate 3.15 GiB for an array with shape (14, 30166708) and data type object"
     ]
    }
   ],
   "source": [
    "new_customer_list = new_customer_list[new_customer_list.prices < 200.0]"
   ]
  },
  {
   "cell_type": "code",
   "execution_count": 34,
   "id": "01d05c82",
   "metadata": {},
   "outputs": [
    {
     "data": {
      "text/html": [
       "<div>\n",
       "<style scoped>\n",
       "    .dataframe tbody tr th:only-of-type {\n",
       "        vertical-align: middle;\n",
       "    }\n",
       "\n",
       "    .dataframe tbody tr th {\n",
       "        vertical-align: top;\n",
       "    }\n",
       "\n",
       "    .dataframe thead tr th {\n",
       "        text-align: left;\n",
       "    }\n",
       "\n",
       "    .dataframe thead tr:last-of-type th {\n",
       "        text-align: right;\n",
       "    }\n",
       "</style>\n",
       "<table border=\"1\" class=\"dataframe\">\n",
       "  <thead>\n",
       "    <tr>\n",
       "      <th></th>\n",
       "      <th colspan=\"3\" halign=\"left\">prices</th>\n",
       "    </tr>\n",
       "    <tr>\n",
       "      <th></th>\n",
       "      <th>mean</th>\n",
       "      <th>min</th>\n",
       "      <th>max</th>\n",
       "    </tr>\n",
       "    <tr>\n",
       "      <th>loyalty_flag</th>\n",
       "      <th></th>\n",
       "      <th></th>\n",
       "      <th></th>\n",
       "    </tr>\n",
       "  </thead>\n",
       "  <tbody>\n",
       "    <tr>\n",
       "      <th>Loyal customer</th>\n",
       "      <td>10.386336</td>\n",
       "      <td>1.0</td>\n",
       "      <td>99999.0</td>\n",
       "    </tr>\n",
       "    <tr>\n",
       "      <th>New customer</th>\n",
       "      <td>13.107219</td>\n",
       "      <td>1.0</td>\n",
       "      <td>99999.0</td>\n",
       "    </tr>\n",
       "    <tr>\n",
       "      <th>Regular customer</th>\n",
       "      <td>12.495717</td>\n",
       "      <td>1.0</td>\n",
       "      <td>99999.0</td>\n",
       "    </tr>\n",
       "  </tbody>\n",
       "</table>\n",
       "</div>"
      ],
      "text/plain": [
       "                     prices              \n",
       "                       mean  min      max\n",
       "loyalty_flag                             \n",
       "Loyal customer    10.386336  1.0  99999.0\n",
       "New customer      13.107219  1.0  99999.0\n",
       "Regular customer  12.495717  1.0  99999.0"
      ]
     },
     "execution_count": 34,
     "metadata": {},
     "output_type": "execute_result"
    }
   ],
   "source": [
    "new_customer_list.groupby('loyalty_flag').agg({'prices': ['mean', 'min', 'max']})"
   ]
  },
  {
   "cell_type": "code",
   "execution_count": 35,
   "id": "d17aa976",
   "metadata": {},
   "outputs": [],
   "source": [
    "#5. Marketing Strategy: Customers profiling"
   ]
  },
  {
   "cell_type": "code",
   "execution_count": 36,
   "id": "c5876863",
   "metadata": {},
   "outputs": [],
   "source": [
    "# Creating customer age group segmentation regarding to their Generations"
   ]
  },
  {
   "cell_type": "code",
   "execution_count": 39,
   "id": "3f7ebc43",
   "metadata": {},
   "outputs": [],
   "source": [
    "new_customer_list.loc[new_customer_list['age'] <= 20, 'Age Group'] = 'Gen_Z'"
   ]
  },
  {
   "cell_type": "code",
   "execution_count": 40,
   "id": "306b0e70",
   "metadata": {},
   "outputs": [],
   "source": [
    "new_customer_list.loc[(new_customer_list['age'] >= 25) & (new_customer_list['age'] <= 41), 'Age Group'] = 'Millennials'"
   ]
  },
  {
   "cell_type": "code",
   "execution_count": 41,
   "id": "6675fa03",
   "metadata": {},
   "outputs": [],
   "source": [
    "new_customer_list.loc[(new_customer_list['age'] >= 42) & (new_customer_list['age'] <= 57), 'Age Group'] = 'Gen_X'"
   ]
  },
  {
   "cell_type": "code",
   "execution_count": 42,
   "id": "c2bb1480",
   "metadata": {},
   "outputs": [],
   "source": [
    "new_customer_list.loc[(new_customer_list['age'] >= 58) & (new_customer_list['age'] <= 67), 'Age Group'] = 'Boomers_II'"
   ]
  },
  {
   "cell_type": "code",
   "execution_count": 43,
   "id": "829bdb06",
   "metadata": {},
   "outputs": [],
   "source": [
    "new_customer_list.loc[(new_customer_list['age'] >= 68) & (new_customer_list['age'] <= 76), 'Age Group'] = 'Boomers_I'"
   ]
  },
  {
   "cell_type": "code",
   "execution_count": 44,
   "id": "61d0d610",
   "metadata": {},
   "outputs": [],
   "source": [
    "new_customer_list.loc[(new_customer_list['age'] >= 77) & (new_customer_list['age'] <= 94), 'Age Group'] = 'Post_War'"
   ]
  },
  {
   "cell_type": "code",
   "execution_count": 45,
   "id": "36ed9573",
   "metadata": {},
   "outputs": [],
   "source": [
    "new_customer_list.loc[(new_customer_list['age'] >= 95) & (new_customer_list['age'] <= 100), 'Age Group'] = 'WW II'"
   ]
  },
  {
   "cell_type": "code",
   "execution_count": 46,
   "id": "a0d57935",
   "metadata": {},
   "outputs": [
    {
     "data": {
      "text/plain": [
       "Millennials    7975430\n",
       "Gen_X          7627847\n",
       "Boomers_II     4607181\n",
       "Boomers_I      4257021\n",
       "Post_War       2376742\n",
       "Gen_Z          1417848\n",
       "Name: Age Group, dtype: int64"
      ]
     },
     "execution_count": 46,
     "metadata": {},
     "output_type": "execute_result"
    }
   ],
   "source": [
    "new_customer_list['Age Group'].value_counts()"
   ]
  },
  {
   "cell_type": "code",
   "execution_count": 47,
   "id": "a228923e",
   "metadata": {},
   "outputs": [
    {
     "data": {
      "text/plain": [
       "30171424"
      ]
     },
     "execution_count": 47,
     "metadata": {},
     "output_type": "execute_result"
    }
   ],
   "source": [
    "len(new_customer_list['Age Group'])"
   ]
  },
  {
   "cell_type": "code",
   "execution_count": 48,
   "id": "c9ef3013",
   "metadata": {},
   "outputs": [
    {
     "data": {
      "text/plain": [
       "30171424"
      ]
     },
     "execution_count": 48,
     "metadata": {},
     "output_type": "execute_result"
    }
   ],
   "source": [
    "len(new_customer_list['age'])"
   ]
  },
  {
   "cell_type": "code",
   "execution_count": 49,
   "id": "a338c16d",
   "metadata": {
    "scrolled": false
   },
   "outputs": [
    {
     "data": {
      "text/html": [
       "<div>\n",
       "<style scoped>\n",
       "    .dataframe tbody tr th:only-of-type {\n",
       "        vertical-align: middle;\n",
       "    }\n",
       "\n",
       "    .dataframe tbody tr th {\n",
       "        vertical-align: top;\n",
       "    }\n",
       "\n",
       "    .dataframe thead th {\n",
       "        text-align: right;\n",
       "    }\n",
       "</style>\n",
       "<table border=\"1\" class=\"dataframe\">\n",
       "  <thead>\n",
       "    <tr style=\"text-align: right;\">\n",
       "      <th></th>\n",
       "      <th>Unnamed: 0.1</th>\n",
       "      <th>order_id</th>\n",
       "      <th>user_id</th>\n",
       "      <th>order_number</th>\n",
       "      <th>orders_day_of_week</th>\n",
       "      <th>order_hour_of_day</th>\n",
       "      <th>days_since_prior_order</th>\n",
       "      <th>first_order</th>\n",
       "      <th>product_id</th>\n",
       "      <th>add_to_cart_order</th>\n",
       "      <th>...</th>\n",
       "      <th>gender</th>\n",
       "      <th>state</th>\n",
       "      <th>age</th>\n",
       "      <th>date_joined</th>\n",
       "      <th>n_dependants</th>\n",
       "      <th>fam_status</th>\n",
       "      <th>income</th>\n",
       "      <th>region</th>\n",
       "      <th>exclusion_flag</th>\n",
       "      <th>Age Group</th>\n",
       "    </tr>\n",
       "  </thead>\n",
       "  <tbody>\n",
       "    <tr>\n",
       "      <th>0</th>\n",
       "      <td>0</td>\n",
       "      <td>2539329</td>\n",
       "      <td>1</td>\n",
       "      <td>1</td>\n",
       "      <td>2</td>\n",
       "      <td>8</td>\n",
       "      <td>NaN</td>\n",
       "      <td>True</td>\n",
       "      <td>196</td>\n",
       "      <td>1</td>\n",
       "      <td>...</td>\n",
       "      <td>Female</td>\n",
       "      <td>Alabama</td>\n",
       "      <td>31</td>\n",
       "      <td>2/17/2019</td>\n",
       "      <td>3</td>\n",
       "      <td>married</td>\n",
       "      <td>40423</td>\n",
       "      <td>South</td>\n",
       "      <td>High-activity Customer</td>\n",
       "      <td>Millennials</td>\n",
       "    </tr>\n",
       "    <tr>\n",
       "      <th>1</th>\n",
       "      <td>1</td>\n",
       "      <td>2398795</td>\n",
       "      <td>1</td>\n",
       "      <td>2</td>\n",
       "      <td>3</td>\n",
       "      <td>7</td>\n",
       "      <td>15.0</td>\n",
       "      <td>False</td>\n",
       "      <td>196</td>\n",
       "      <td>1</td>\n",
       "      <td>...</td>\n",
       "      <td>Female</td>\n",
       "      <td>Alabama</td>\n",
       "      <td>31</td>\n",
       "      <td>2/17/2019</td>\n",
       "      <td>3</td>\n",
       "      <td>married</td>\n",
       "      <td>40423</td>\n",
       "      <td>South</td>\n",
       "      <td>High-activity Customer</td>\n",
       "      <td>Millennials</td>\n",
       "    </tr>\n",
       "    <tr>\n",
       "      <th>2</th>\n",
       "      <td>2</td>\n",
       "      <td>473747</td>\n",
       "      <td>1</td>\n",
       "      <td>3</td>\n",
       "      <td>3</td>\n",
       "      <td>12</td>\n",
       "      <td>21.0</td>\n",
       "      <td>False</td>\n",
       "      <td>196</td>\n",
       "      <td>1</td>\n",
       "      <td>...</td>\n",
       "      <td>Female</td>\n",
       "      <td>Alabama</td>\n",
       "      <td>31</td>\n",
       "      <td>2/17/2019</td>\n",
       "      <td>3</td>\n",
       "      <td>married</td>\n",
       "      <td>40423</td>\n",
       "      <td>South</td>\n",
       "      <td>High-activity Customer</td>\n",
       "      <td>Millennials</td>\n",
       "    </tr>\n",
       "    <tr>\n",
       "      <th>3</th>\n",
       "      <td>3</td>\n",
       "      <td>2254736</td>\n",
       "      <td>1</td>\n",
       "      <td>4</td>\n",
       "      <td>4</td>\n",
       "      <td>7</td>\n",
       "      <td>29.0</td>\n",
       "      <td>False</td>\n",
       "      <td>196</td>\n",
       "      <td>1</td>\n",
       "      <td>...</td>\n",
       "      <td>Female</td>\n",
       "      <td>Alabama</td>\n",
       "      <td>31</td>\n",
       "      <td>2/17/2019</td>\n",
       "      <td>3</td>\n",
       "      <td>married</td>\n",
       "      <td>40423</td>\n",
       "      <td>South</td>\n",
       "      <td>High-activity Customer</td>\n",
       "      <td>Millennials</td>\n",
       "    </tr>\n",
       "    <tr>\n",
       "      <th>4</th>\n",
       "      <td>4</td>\n",
       "      <td>431534</td>\n",
       "      <td>1</td>\n",
       "      <td>5</td>\n",
       "      <td>4</td>\n",
       "      <td>15</td>\n",
       "      <td>28.0</td>\n",
       "      <td>False</td>\n",
       "      <td>196</td>\n",
       "      <td>1</td>\n",
       "      <td>...</td>\n",
       "      <td>Female</td>\n",
       "      <td>Alabama</td>\n",
       "      <td>31</td>\n",
       "      <td>2/17/2019</td>\n",
       "      <td>3</td>\n",
       "      <td>married</td>\n",
       "      <td>40423</td>\n",
       "      <td>South</td>\n",
       "      <td>High-activity Customer</td>\n",
       "      <td>Millennials</td>\n",
       "    </tr>\n",
       "  </tbody>\n",
       "</table>\n",
       "<p>5 rows × 36 columns</p>\n",
       "</div>"
      ],
      "text/plain": [
       "   Unnamed: 0.1  order_id  user_id  order_number  orders_day_of_week  \\\n",
       "0             0   2539329        1             1                   2   \n",
       "1             1   2398795        1             2                   3   \n",
       "2             2    473747        1             3                   3   \n",
       "3             3   2254736        1             4                   4   \n",
       "4             4    431534        1             5                   4   \n",
       "\n",
       "   order_hour_of_day  days_since_prior_order  first_order  product_id  \\\n",
       "0                  8                     NaN         True         196   \n",
       "1                  7                    15.0        False         196   \n",
       "2                 12                    21.0        False         196   \n",
       "3                  7                    29.0        False         196   \n",
       "4                 15                    28.0        False         196   \n",
       "\n",
       "   add_to_cart_order  ...  gender    state  age  date_joined  n_dependants  \\\n",
       "0                  1  ...  Female  Alabama   31    2/17/2019             3   \n",
       "1                  1  ...  Female  Alabama   31    2/17/2019             3   \n",
       "2                  1  ...  Female  Alabama   31    2/17/2019             3   \n",
       "3                  1  ...  Female  Alabama   31    2/17/2019             3   \n",
       "4                  1  ...  Female  Alabama   31    2/17/2019             3   \n",
       "\n",
       "  fam_status income region          exclusion_flag    Age Group  \n",
       "0    married  40423  South  High-activity Customer  Millennials  \n",
       "1    married  40423  South  High-activity Customer  Millennials  \n",
       "2    married  40423  South  High-activity Customer  Millennials  \n",
       "3    married  40423  South  High-activity Customer  Millennials  \n",
       "4    married  40423  South  High-activity Customer  Millennials  \n",
       "\n",
       "[5 rows x 36 columns]"
      ]
     },
     "execution_count": 49,
     "metadata": {},
     "output_type": "execute_result"
    }
   ],
   "source": [
    "new_customer_list.head()"
   ]
  },
  {
   "cell_type": "code",
   "execution_count": 50,
   "id": "44befe03",
   "metadata": {},
   "outputs": [],
   "source": [
    "#Create Crosstab between generations and income,\n",
    "crosstab_agegroup_income = pd.crosstab(new_customer_list['Age Group'], new_customer_list['income'], dropna = False)"
   ]
  },
  {
   "cell_type": "code",
   "execution_count": 51,
   "id": "7fcacc72",
   "metadata": {},
   "outputs": [],
   "source": [
    "crosstab_agegroup_income.to_clipboard()"
   ]
  },
  {
   "cell_type": "code",
   "execution_count": 52,
   "id": "0f036215",
   "metadata": {},
   "outputs": [],
   "source": [
    "#Create Crosstab between generations and spending habit,\n",
    "crosstab_agegroup_spendinghabit = pd.crosstab(new_customer_list['Age Group'], new_customer_list['spending_habit'], dropna = False)"
   ]
  },
  {
   "cell_type": "code",
   "execution_count": 53,
   "id": "06b3b5d9",
   "metadata": {},
   "outputs": [],
   "source": [
    "crosstab_agegroup_spendinghabit.to_clipboard()"
   ]
  },
  {
   "cell_type": "code",
   "execution_count": 54,
   "id": "0612b0bd",
   "metadata": {},
   "outputs": [
    {
     "data": {
      "text/plain": [
       "married                             21188130\n",
       "single                               4961333\n",
       "divorced/widowed                     2577880\n",
       "living with parents and siblings     1444081\n",
       "Name: fam_status, dtype: int64"
      ]
     },
     "execution_count": 54,
     "metadata": {},
     "output_type": "execute_result"
    }
   ],
   "source": [
    "new_customer_list['fam_status'].value_counts()"
   ]
  },
  {
   "cell_type": "code",
   "execution_count": 55,
   "id": "66838306",
   "metadata": {},
   "outputs": [],
   "source": [
    "crosstab_fam_agegroup = pd.crosstab(new_customer_list['Age Group'], new_customer_list['fam_status'], dropna = False)"
   ]
  },
  {
   "cell_type": "code",
   "execution_count": 56,
   "id": "175a4a72",
   "metadata": {
    "scrolled": false
   },
   "outputs": [
    {
     "data": {
      "text/html": [
       "<div>\n",
       "<style scoped>\n",
       "    .dataframe tbody tr th:only-of-type {\n",
       "        vertical-align: middle;\n",
       "    }\n",
       "\n",
       "    .dataframe tbody tr th {\n",
       "        vertical-align: top;\n",
       "    }\n",
       "\n",
       "    .dataframe thead th {\n",
       "        text-align: right;\n",
       "    }\n",
       "</style>\n",
       "<table border=\"1\" class=\"dataframe\">\n",
       "  <thead>\n",
       "    <tr style=\"text-align: right;\">\n",
       "      <th>fam_status</th>\n",
       "      <th>divorced/widowed</th>\n",
       "      <th>living with parents and siblings</th>\n",
       "      <th>married</th>\n",
       "      <th>single</th>\n",
       "    </tr>\n",
       "    <tr>\n",
       "      <th>Age Group</th>\n",
       "      <th></th>\n",
       "      <th></th>\n",
       "      <th></th>\n",
       "      <th></th>\n",
       "    </tr>\n",
       "  </thead>\n",
       "  <tbody>\n",
       "    <tr>\n",
       "      <th>Boomers_I</th>\n",
       "      <td>1035385</td>\n",
       "      <td>0</td>\n",
       "      <td>3221636</td>\n",
       "      <td>0</td>\n",
       "    </tr>\n",
       "    <tr>\n",
       "      <th>Boomers_II</th>\n",
       "      <td>944633</td>\n",
       "      <td>0</td>\n",
       "      <td>3406933</td>\n",
       "      <td>255615</td>\n",
       "    </tr>\n",
       "    <tr>\n",
       "      <th>Gen_X</th>\n",
       "      <td>0</td>\n",
       "      <td>0</td>\n",
       "      <td>5745769</td>\n",
       "      <td>1882078</td>\n",
       "    </tr>\n",
       "    <tr>\n",
       "      <th>Gen_Z</th>\n",
       "      <td>0</td>\n",
       "      <td>1082007</td>\n",
       "      <td>0</td>\n",
       "      <td>335841</td>\n",
       "    </tr>\n",
       "    <tr>\n",
       "      <th>Millennials</th>\n",
       "      <td>0</td>\n",
       "      <td>0</td>\n",
       "      <td>5954812</td>\n",
       "      <td>2020618</td>\n",
       "    </tr>\n",
       "    <tr>\n",
       "      <th>Post_War</th>\n",
       "      <td>597862</td>\n",
       "      <td>0</td>\n",
       "      <td>1778880</td>\n",
       "      <td>0</td>\n",
       "    </tr>\n",
       "  </tbody>\n",
       "</table>\n",
       "</div>"
      ],
      "text/plain": [
       "fam_status   divorced/widowed  living with parents and siblings  married  \\\n",
       "Age Group                                                                  \n",
       "Boomers_I             1035385                                 0  3221636   \n",
       "Boomers_II             944633                                 0  3406933   \n",
       "Gen_X                       0                                 0  5745769   \n",
       "Gen_Z                       0                           1082007        0   \n",
       "Millennials                 0                                 0  5954812   \n",
       "Post_War               597862                                 0  1778880   \n",
       "\n",
       "fam_status    single  \n",
       "Age Group             \n",
       "Boomers_I          0  \n",
       "Boomers_II    255615  \n",
       "Gen_X        1882078  \n",
       "Gen_Z         335841  \n",
       "Millennials  2020618  \n",
       "Post_War           0  "
      ]
     },
     "execution_count": 56,
     "metadata": {},
     "output_type": "execute_result"
    }
   ],
   "source": [
    "crosstab_fam_agegroup"
   ]
  },
  {
   "cell_type": "code",
   "execution_count": 57,
   "id": "cf9baa81",
   "metadata": {},
   "outputs": [],
   "source": [
    "crosstab_fam_agegroup.to_clipboard()"
   ]
  },
  {
   "cell_type": "code",
   "execution_count": 58,
   "id": "e352331f",
   "metadata": {},
   "outputs": [],
   "source": [
    "# Exploring correlation between Age group and deparment ID,\n",
    "crosstab_agegroup_dept = pd.crosstab(new_customer_list['Age Group'], new_customer_list['department_id'], dropna = False)"
   ]
  },
  {
   "cell_type": "code",
   "execution_count": 59,
   "id": "8b0a6f42",
   "metadata": {},
   "outputs": [],
   "source": [
    "crosstab_agegroup_dept.to_clipboard()"
   ]
  },
  {
   "cell_type": "code",
   "execution_count": 60,
   "id": "0106db92",
   "metadata": {},
   "outputs": [
    {
     "data": {
      "text/html": [
       "<div>\n",
       "<style scoped>\n",
       "    .dataframe tbody tr th:only-of-type {\n",
       "        vertical-align: middle;\n",
       "    }\n",
       "\n",
       "    .dataframe tbody tr th {\n",
       "        vertical-align: top;\n",
       "    }\n",
       "\n",
       "    .dataframe thead th {\n",
       "        text-align: right;\n",
       "    }\n",
       "</style>\n",
       "<table border=\"1\" class=\"dataframe\">\n",
       "  <thead>\n",
       "    <tr style=\"text-align: right;\">\n",
       "      <th>department_id</th>\n",
       "      <th>1</th>\n",
       "      <th>2</th>\n",
       "      <th>3</th>\n",
       "      <th>4</th>\n",
       "      <th>5</th>\n",
       "      <th>6</th>\n",
       "      <th>7</th>\n",
       "      <th>8</th>\n",
       "      <th>9</th>\n",
       "      <th>10</th>\n",
       "      <th>...</th>\n",
       "      <th>12</th>\n",
       "      <th>13</th>\n",
       "      <th>14</th>\n",
       "      <th>15</th>\n",
       "      <th>16</th>\n",
       "      <th>17</th>\n",
       "      <th>18</th>\n",
       "      <th>19</th>\n",
       "      <th>20</th>\n",
       "      <th>21</th>\n",
       "    </tr>\n",
       "    <tr>\n",
       "      <th>Age Group</th>\n",
       "      <th></th>\n",
       "      <th></th>\n",
       "      <th></th>\n",
       "      <th></th>\n",
       "      <th></th>\n",
       "      <th></th>\n",
       "      <th></th>\n",
       "      <th></th>\n",
       "      <th></th>\n",
       "      <th></th>\n",
       "      <th></th>\n",
       "      <th></th>\n",
       "      <th></th>\n",
       "      <th></th>\n",
       "      <th></th>\n",
       "      <th></th>\n",
       "      <th></th>\n",
       "      <th></th>\n",
       "      <th></th>\n",
       "      <th></th>\n",
       "      <th></th>\n",
       "    </tr>\n",
       "  </thead>\n",
       "  <tbody>\n",
       "    <tr>\n",
       "      <th>Boomers_I</th>\n",
       "      <td>291274</td>\n",
       "      <td>4501</td>\n",
       "      <td>152493</td>\n",
       "      <td>1248809</td>\n",
       "      <td>19547</td>\n",
       "      <td>34138</td>\n",
       "      <td>359400</td>\n",
       "      <td>12666</td>\n",
       "      <td>112360</td>\n",
       "      <td>4764</td>\n",
       "      <td>...</td>\n",
       "      <td>93024</td>\n",
       "      <td>243952</td>\n",
       "      <td>91057</td>\n",
       "      <td>136881</td>\n",
       "      <td>717415</td>\n",
       "      <td>96481</td>\n",
       "      <td>56293</td>\n",
       "      <td>377813</td>\n",
       "      <td>137932</td>\n",
       "      <td>8778</td>\n",
       "    </tr>\n",
       "    <tr>\n",
       "      <th>Boomers_II</th>\n",
       "      <td>315375</td>\n",
       "      <td>5312</td>\n",
       "      <td>167040</td>\n",
       "      <td>1357180</td>\n",
       "      <td>20886</td>\n",
       "      <td>37976</td>\n",
       "      <td>385154</td>\n",
       "      <td>13083</td>\n",
       "      <td>121486</td>\n",
       "      <td>4814</td>\n",
       "      <td>...</td>\n",
       "      <td>101526</td>\n",
       "      <td>267763</td>\n",
       "      <td>98951</td>\n",
       "      <td>150317</td>\n",
       "      <td>765270</td>\n",
       "      <td>102557</td>\n",
       "      <td>60689</td>\n",
       "      <td>408931</td>\n",
       "      <td>150358</td>\n",
       "      <td>9336</td>\n",
       "    </tr>\n",
       "    <tr>\n",
       "      <th>Gen_X</th>\n",
       "      <td>521608</td>\n",
       "      <td>8364</td>\n",
       "      <td>278066</td>\n",
       "      <td>2230145</td>\n",
       "      <td>34894</td>\n",
       "      <td>62644</td>\n",
       "      <td>638546</td>\n",
       "      <td>22982</td>\n",
       "      <td>202219</td>\n",
       "      <td>8259</td>\n",
       "      <td>...</td>\n",
       "      <td>165346</td>\n",
       "      <td>438758</td>\n",
       "      <td>166571</td>\n",
       "      <td>248226</td>\n",
       "      <td>1274385</td>\n",
       "      <td>172103</td>\n",
       "      <td>104138</td>\n",
       "      <td>683078</td>\n",
       "      <td>245930</td>\n",
       "      <td>15843</td>\n",
       "    </tr>\n",
       "    <tr>\n",
       "      <th>Gen_Z</th>\n",
       "      <td>98006</td>\n",
       "      <td>1825</td>\n",
       "      <td>50327</td>\n",
       "      <td>415317</td>\n",
       "      <td>7922</td>\n",
       "      <td>12049</td>\n",
       "      <td>114400</td>\n",
       "      <td>4743</td>\n",
       "      <td>37681</td>\n",
       "      <td>1572</td>\n",
       "      <td>...</td>\n",
       "      <td>31131</td>\n",
       "      <td>81513</td>\n",
       "      <td>31146</td>\n",
       "      <td>46126</td>\n",
       "      <td>238025</td>\n",
       "      <td>32708</td>\n",
       "      <td>19509</td>\n",
       "      <td>125184</td>\n",
       "      <td>45565</td>\n",
       "      <td>3274</td>\n",
       "    </tr>\n",
       "    <tr>\n",
       "      <th>Millennials</th>\n",
       "      <td>539628</td>\n",
       "      <td>8890</td>\n",
       "      <td>287772</td>\n",
       "      <td>2348016</td>\n",
       "      <td>37099</td>\n",
       "      <td>66537</td>\n",
       "      <td>655467</td>\n",
       "      <td>23049</td>\n",
       "      <td>209935</td>\n",
       "      <td>8713</td>\n",
       "      <td>...</td>\n",
       "      <td>170418</td>\n",
       "      <td>455164</td>\n",
       "      <td>172004</td>\n",
       "      <td>261245</td>\n",
       "      <td>1343027</td>\n",
       "      <td>178309</td>\n",
       "      <td>106406</td>\n",
       "      <td>719183</td>\n",
       "      <td>259520</td>\n",
       "      <td>16545</td>\n",
       "    </tr>\n",
       "    <tr>\n",
       "      <th>Post_War</th>\n",
       "      <td>164326</td>\n",
       "      <td>2526</td>\n",
       "      <td>86693</td>\n",
       "      <td>700540</td>\n",
       "      <td>10331</td>\n",
       "      <td>19665</td>\n",
       "      <td>196547</td>\n",
       "      <td>7603</td>\n",
       "      <td>62608</td>\n",
       "      <td>2594</td>\n",
       "      <td>...</td>\n",
       "      <td>52319</td>\n",
       "      <td>135276</td>\n",
       "      <td>51378</td>\n",
       "      <td>77172</td>\n",
       "      <td>393786</td>\n",
       "      <td>54240</td>\n",
       "      <td>30522</td>\n",
       "      <td>214727</td>\n",
       "      <td>77238</td>\n",
       "      <td>4793</td>\n",
       "    </tr>\n",
       "  </tbody>\n",
       "</table>\n",
       "<p>6 rows × 21 columns</p>\n",
       "</div>"
      ],
      "text/plain": [
       "department_id      1     2       3        4      5      6       7      8   \\\n",
       "Age Group                                                                   \n",
       "Boomers_I      291274  4501  152493  1248809  19547  34138  359400  12666   \n",
       "Boomers_II     315375  5312  167040  1357180  20886  37976  385154  13083   \n",
       "Gen_X          521608  8364  278066  2230145  34894  62644  638546  22982   \n",
       "Gen_Z           98006  1825   50327   415317   7922  12049  114400   4743   \n",
       "Millennials    539628  8890  287772  2348016  37099  66537  655467  23049   \n",
       "Post_War       164326  2526   86693   700540  10331  19665  196547   7603   \n",
       "\n",
       "department_id      9     10  ...      12      13      14      15       16  \\\n",
       "Age Group                    ...                                            \n",
       "Boomers_I      112360  4764  ...   93024  243952   91057  136881   717415   \n",
       "Boomers_II     121486  4814  ...  101526  267763   98951  150317   765270   \n",
       "Gen_X          202219  8259  ...  165346  438758  166571  248226  1274385   \n",
       "Gen_Z           37681  1572  ...   31131   81513   31146   46126   238025   \n",
       "Millennials    209935  8713  ...  170418  455164  172004  261245  1343027   \n",
       "Post_War        62608  2594  ...   52319  135276   51378   77172   393786   \n",
       "\n",
       "department_id      17      18      19      20     21  \n",
       "Age Group                                             \n",
       "Boomers_I       96481   56293  377813  137932   8778  \n",
       "Boomers_II     102557   60689  408931  150358   9336  \n",
       "Gen_X          172103  104138  683078  245930  15843  \n",
       "Gen_Z           32708   19509  125184   45565   3274  \n",
       "Millennials    178309  106406  719183  259520  16545  \n",
       "Post_War        54240   30522  214727   77238   4793  \n",
       "\n",
       "[6 rows x 21 columns]"
      ]
     },
     "execution_count": 60,
     "metadata": {},
     "output_type": "execute_result"
    }
   ],
   "source": [
    "crosstab_agegroup_dept"
   ]
  },
  {
   "cell_type": "code",
   "execution_count": 61,
   "id": "6453ab7d",
   "metadata": {},
   "outputs": [],
   "source": [
    "# Exploring correlation between Age group 'Generations' and number of dependents\n",
    "crosstab_agegroup_ndep = pd.crosstab(new_customer_list['Age Group'], new_customer_list['n_dependants'], dropna = False)"
   ]
  },
  {
   "cell_type": "code",
   "execution_count": 62,
   "id": "546f8b8b",
   "metadata": {},
   "outputs": [],
   "source": [
    "crosstab_agegroup_ndep.to_clipboard()"
   ]
  },
  {
   "cell_type": "code",
   "execution_count": 63,
   "id": "cd9cc32b",
   "metadata": {},
   "outputs": [],
   "source": [
    "#Exploring correlation between Age group and purchase days\n",
    "crosstab_agegroup_pdays = pd.crosstab(new_customer_list['Age Group'], new_customer_list['orders_day_of_week'], dropna = False)"
   ]
  },
  {
   "cell_type": "code",
   "execution_count": 64,
   "id": "6ee8e4ff",
   "metadata": {},
   "outputs": [],
   "source": [
    "crosstab_agegroup_pdays.to_clipboard()"
   ]
  },
  {
   "cell_type": "code",
   "execution_count": 66,
   "id": "e7fe14d8",
   "metadata": {},
   "outputs": [],
   "source": [
    "# Creating filter for income brackets\n",
    "new_customer_list.loc[new_customer_list['income'] < 100000, 'income_range'] = '0-100k'"
   ]
  },
  {
   "cell_type": "code",
   "execution_count": 67,
   "id": "67fab5a2",
   "metadata": {},
   "outputs": [],
   "source": [
    "new_customer_list.loc[(new_customer_list['income'] >= 100000) & (new_customer_list['income'] < 200000), 'income_range'] = '100-200k'"
   ]
  },
  {
   "cell_type": "code",
   "execution_count": 68,
   "id": "02776ea4",
   "metadata": {},
   "outputs": [],
   "source": [
    "new_customer_list.loc[(new_customer_list['income'] >= 200000) & (new_customer_list['income'] < 300000), 'income_range'] = '200-300k'"
   ]
  },
  {
   "cell_type": "code",
   "execution_count": 69,
   "id": "112a366f",
   "metadata": {},
   "outputs": [],
   "source": [
    "new_customer_list.loc[(new_customer_list['income'] >= 300000) & (new_customer_list['income'] < 400000), 'income_range'] = '300-400k'"
   ]
  },
  {
   "cell_type": "code",
   "execution_count": 70,
   "id": "0c678433",
   "metadata": {},
   "outputs": [],
   "source": [
    "new_customer_list.loc[new_customer_list['income'] >= 500000, 'income_range'] = 'Over 500k'"
   ]
  },
  {
   "cell_type": "code",
   "execution_count": 71,
   "id": "21454a2a",
   "metadata": {
    "scrolled": false
   },
   "outputs": [
    {
     "data": {
      "text/plain": [
       "0-100k       16307405\n",
       "100-200k     13613661\n",
       "200-300k       151334\n",
       "300-400k        52620\n",
       "Over 500k       18893\n",
       "Name: income_range, dtype: int64"
      ]
     },
     "execution_count": 71,
     "metadata": {},
     "output_type": "execute_result"
    }
   ],
   "source": [
    "new_customer_list['income_range'].value_counts()"
   ]
  },
  {
   "cell_type": "code",
   "execution_count": 72,
   "id": "2d2c5643",
   "metadata": {},
   "outputs": [],
   "source": [
    "#create column for department\n",
    "new_customer_list.loc[new_customer_list['department_id'] == 1, 'department_name'] = 'frozen'"
   ]
  },
  {
   "cell_type": "code",
   "execution_count": 73,
   "id": "60ffb232",
   "metadata": {},
   "outputs": [],
   "source": [
    "new_customer_list.loc[new_customer_list['department_id'] == 2, 'department_name'] = 'other'"
   ]
  },
  {
   "cell_type": "code",
   "execution_count": 74,
   "id": "3c63578e",
   "metadata": {},
   "outputs": [],
   "source": [
    "new_customer_list.loc[new_customer_list['department_id'] == 3, 'department_name'] = 'bakery'"
   ]
  },
  {
   "cell_type": "code",
   "execution_count": 75,
   "id": "04b8d282",
   "metadata": {},
   "outputs": [],
   "source": [
    "new_customer_list.loc[new_customer_list['department_id'] == 4, 'department_name'] = 'produce'"
   ]
  },
  {
   "cell_type": "code",
   "execution_count": 76,
   "id": "1ce6ed6c",
   "metadata": {},
   "outputs": [],
   "source": [
    "new_customer_list.loc[new_customer_list['department_id'] == 5, 'department_name'] = 'alcohol'"
   ]
  },
  {
   "cell_type": "code",
   "execution_count": 77,
   "id": "9fb49ce7",
   "metadata": {},
   "outputs": [],
   "source": [
    "new_customer_list.loc[new_customer_list['department_id'] == 6, 'department_name'] = 'international'"
   ]
  },
  {
   "cell_type": "code",
   "execution_count": 78,
   "id": "c50effd9",
   "metadata": {},
   "outputs": [],
   "source": [
    "new_customer_list.loc[new_customer_list['department_id'] == 7, 'department_name'] = 'beverages'"
   ]
  },
  {
   "cell_type": "code",
   "execution_count": 79,
   "id": "78ee8930",
   "metadata": {},
   "outputs": [],
   "source": [
    "new_customer_list.loc[new_customer_list['department_id'] == 8, 'department_name'] = 'pets'"
   ]
  },
  {
   "cell_type": "code",
   "execution_count": 80,
   "id": "b2071252",
   "metadata": {},
   "outputs": [],
   "source": [
    "new_customer_list.loc[new_customer_list['department_id'] == 9, 'department_name'] = 'dry good pasta'"
   ]
  },
  {
   "cell_type": "code",
   "execution_count": 81,
   "id": "adca38df",
   "metadata": {},
   "outputs": [],
   "source": [
    "new_customer_list.loc[new_customer_list['department_id'] == 10, 'department_name'] = 'bulk'"
   ]
  },
  {
   "cell_type": "code",
   "execution_count": 82,
   "id": "74adb8eb",
   "metadata": {},
   "outputs": [],
   "source": [
    "new_customer_list.loc[new_customer_list['department_id'] == 11, 'department_name'] = 'personal care'"
   ]
  },
  {
   "cell_type": "code",
   "execution_count": 83,
   "id": "62a810a4",
   "metadata": {},
   "outputs": [],
   "source": [
    "new_customer_list.loc[new_customer_list['department_id'] == 12, 'department_name'] = 'meat seafood'"
   ]
  },
  {
   "cell_type": "code",
   "execution_count": 84,
   "id": "230f4411",
   "metadata": {},
   "outputs": [],
   "source": [
    "new_customer_list.loc[new_customer_list['department_id'] == 13, 'department_name'] = 'pantry'"
   ]
  },
  {
   "cell_type": "code",
   "execution_count": 85,
   "id": "e9d0695c",
   "metadata": {},
   "outputs": [],
   "source": [
    "new_customer_list.loc[new_customer_list['department_id'] == 14, 'department_name'] = 'breakfast'"
   ]
  },
  {
   "cell_type": "code",
   "execution_count": 86,
   "id": "ed0b8127",
   "metadata": {},
   "outputs": [],
   "source": [
    "new_customer_list.loc[new_customer_list['department_id'] == 15, 'department_name'] = 'canned goods'"
   ]
  },
  {
   "cell_type": "code",
   "execution_count": 87,
   "id": "9b8b7e54",
   "metadata": {},
   "outputs": [],
   "source": [
    "new_customer_list.loc[new_customer_list['department_id'] == 16, 'department_name'] = 'dairy eggs'"
   ]
  },
  {
   "cell_type": "code",
   "execution_count": 88,
   "id": "f158dcbb",
   "metadata": {},
   "outputs": [],
   "source": [
    "new_customer_list.loc[new_customer_list['department_id'] == 17, 'department_name'] = 'household'"
   ]
  },
  {
   "cell_type": "code",
   "execution_count": 89,
   "id": "abe64ab7",
   "metadata": {},
   "outputs": [],
   "source": [
    "new_customer_list.loc[new_customer_list['department_id'] == 18, 'department_name'] = 'babies'"
   ]
  },
  {
   "cell_type": "code",
   "execution_count": 90,
   "id": "d73ef238",
   "metadata": {},
   "outputs": [],
   "source": [
    "new_customer_list.loc[new_customer_list['department_id'] == 19, 'department_name'] = 'snacks'"
   ]
  },
  {
   "cell_type": "code",
   "execution_count": 91,
   "id": "8101b285",
   "metadata": {},
   "outputs": [],
   "source": [
    "new_customer_list.loc[new_customer_list['department_id'] == 20, 'department_name'] = 'deli'"
   ]
  },
  {
   "cell_type": "code",
   "execution_count": 92,
   "id": "9b974e47",
   "metadata": {},
   "outputs": [],
   "source": [
    "new_customer_list.loc[new_customer_list['department_id'] == 21, 'department_name'] = 'missing'"
   ]
  },
  {
   "cell_type": "code",
   "execution_count": 93,
   "id": "bca4a494",
   "metadata": {},
   "outputs": [
    {
     "data": {
      "text/plain": [
       "produce           8859944\n",
       "dairy eggs        5053440\n",
       "snacks            2699351\n",
       "beverages         2507241\n",
       "frozen            2059325\n",
       "pantry            1732114\n",
       "bakery            1092488\n",
       "canned goods       982041\n",
       "deli               978050\n",
       "dry good pasta     797683\n",
       "household          678295\n",
       "meat seafood       655729\n",
       "breakfast          653419\n",
       "personal care      411807\n",
       "babies             403066\n",
       "international      248722\n",
       "alcohol            139573\n",
       "pets                90339\n",
       "missing             62541\n",
       "other               33415\n",
       "bulk                32841\n",
       "Name: department_name, dtype: int64"
      ]
     },
     "execution_count": 93,
     "metadata": {},
     "output_type": "execute_result"
    }
   ],
   "source": [
    "# Checking the department column,\n",
    "new_customer_list['department_name'].value_counts()"
   ]
  },
  {
   "cell_type": "code",
   "execution_count": 94,
   "id": "56213d81",
   "metadata": {},
   "outputs": [],
   "source": [
    "# Exploring correlation between age generations and income\n",
    "crosstab_agegen_income = pd.crosstab(new_customer_list['Age Group'], new_customer_list['income_range'], dropna = False)"
   ]
  },
  {
   "cell_type": "code",
   "execution_count": 95,
   "id": "c8528aa4",
   "metadata": {},
   "outputs": [],
   "source": [
    "crosstab_agegen_income.to_clipboard()"
   ]
  },
  {
   "cell_type": "code",
   "execution_count": 96,
   "id": "806c35fb",
   "metadata": {},
   "outputs": [],
   "source": [
    "# Exploring correlation between department and income\n",
    "crosstab_dep_income = pd.crosstab(new_customer_list['income_range'], new_customer_list['department_name'], dropna = False)"
   ]
  },
  {
   "cell_type": "code",
   "execution_count": 97,
   "id": "f7a81865",
   "metadata": {},
   "outputs": [],
   "source": [
    "crosstab_dep_income.to_clipboard()"
   ]
  },
  {
   "cell_type": "code",
   "execution_count": 98,
   "id": "f6af2e23",
   "metadata": {},
   "outputs": [],
   "source": [
    "# Exploring correlation between department and order hour of day\n",
    "crosstab_dep_time = pd.crosstab(new_customer_list['order_hour_of_day'], new_customer_list['department_name'], dropna = False)"
   ]
  },
  {
   "cell_type": "code",
   "execution_count": 99,
   "id": "90af1f42",
   "metadata": {},
   "outputs": [],
   "source": [
    "crosstab_dep_time.to_clipboard()"
   ]
  },
  {
   "cell_type": "code",
   "execution_count": 100,
   "id": "52fe97e1",
   "metadata": {},
   "outputs": [],
   "source": [
    "#Exploring correlation between region and age group generation\n",
    "crosstab_reg_agegen = pd.crosstab(new_customer_list['region'], new_customer_list['Age Group'], dropna = False)"
   ]
  },
  {
   "cell_type": "code",
   "execution_count": 101,
   "id": "f30e385a",
   "metadata": {},
   "outputs": [],
   "source": [
    "crosstab_reg_agegen.to_clipboard()"
   ]
  },
  {
   "cell_type": "code",
   "execution_count": 102,
   "id": "70e52907",
   "metadata": {},
   "outputs": [],
   "source": [
    "# Exploring correlation between income range and frequency buying\n",
    "crosstab_income_ordfreq = pd.crosstab(new_customer_list['income_range'], new_customer_list['order_frequency'], dropna = False)"
   ]
  },
  {
   "cell_type": "code",
   "execution_count": 103,
   "id": "f01b4ce8",
   "metadata": {},
   "outputs": [],
   "source": [
    "crosstab_income_ordfreq.to_clipboard()"
   ]
  },
  {
   "cell_type": "code",
   "execution_count": 104,
   "id": "9e1fa63a",
   "metadata": {},
   "outputs": [],
   "source": [
    "# Exploring correlation between region and frequency buying\n",
    "crosstab_region_ordfreq = pd.crosstab(new_customer_list['region'], new_customer_list['order_frequency'], dropna = False)"
   ]
  },
  {
   "cell_type": "code",
   "execution_count": 105,
   "id": "0551b631",
   "metadata": {},
   "outputs": [],
   "source": [
    "crosstab_region_ordfreq.to_clipboard()"
   ]
  },
  {
   "cell_type": "code",
   "execution_count": 106,
   "id": "492cfeb1",
   "metadata": {},
   "outputs": [],
   "source": [
    "# Exploring correlation between order hour of day and price range loc\n",
    "crosstab_ordhr_prange = pd.crosstab(new_customer_list['order_hour_of_day'], new_customer_list['price_range_loc'], dropna = False)"
   ]
  },
  {
   "cell_type": "code",
   "execution_count": 107,
   "id": "a85a5927",
   "metadata": {},
   "outputs": [],
   "source": [
    "crosstab_ordhr_prange.to_clipboard()"
   ]
  },
  {
   "cell_type": "code",
   "execution_count": 108,
   "id": "b1834a4a",
   "metadata": {},
   "outputs": [],
   "source": [
    "#Exploring correlations between age and department\n",
    "crosstab_agedept = pd.crosstab(new_customer_list['Age Group'], new_customer_list['department_name'], dropna = False)"
   ]
  },
  {
   "cell_type": "code",
   "execution_count": 109,
   "id": "f95c2808",
   "metadata": {},
   "outputs": [],
   "source": [
    "crosstab_agedept.to_clipboard()"
   ]
  },
  {
   "cell_type": "code",
   "execution_count": 110,
   "id": "e59fbe0f",
   "metadata": {},
   "outputs": [
    {
     "data": {
      "text/html": [
       "<div>\n",
       "<style scoped>\n",
       "    .dataframe tbody tr th:only-of-type {\n",
       "        vertical-align: middle;\n",
       "    }\n",
       "\n",
       "    .dataframe tbody tr th {\n",
       "        vertical-align: top;\n",
       "    }\n",
       "\n",
       "    .dataframe thead th {\n",
       "        text-align: right;\n",
       "    }\n",
       "</style>\n",
       "<table border=\"1\" class=\"dataframe\">\n",
       "  <thead>\n",
       "    <tr style=\"text-align: right;\">\n",
       "      <th>department_name</th>\n",
       "      <th>alcohol</th>\n",
       "      <th>babies</th>\n",
       "      <th>bakery</th>\n",
       "      <th>beverages</th>\n",
       "      <th>breakfast</th>\n",
       "      <th>bulk</th>\n",
       "      <th>canned goods</th>\n",
       "      <th>dairy eggs</th>\n",
       "      <th>deli</th>\n",
       "      <th>dry good pasta</th>\n",
       "      <th>...</th>\n",
       "      <th>household</th>\n",
       "      <th>international</th>\n",
       "      <th>meat seafood</th>\n",
       "      <th>missing</th>\n",
       "      <th>other</th>\n",
       "      <th>pantry</th>\n",
       "      <th>personal care</th>\n",
       "      <th>pets</th>\n",
       "      <th>produce</th>\n",
       "      <th>snacks</th>\n",
       "    </tr>\n",
       "    <tr>\n",
       "      <th>Age Group</th>\n",
       "      <th></th>\n",
       "      <th></th>\n",
       "      <th></th>\n",
       "      <th></th>\n",
       "      <th></th>\n",
       "      <th></th>\n",
       "      <th></th>\n",
       "      <th></th>\n",
       "      <th></th>\n",
       "      <th></th>\n",
       "      <th></th>\n",
       "      <th></th>\n",
       "      <th></th>\n",
       "      <th></th>\n",
       "      <th></th>\n",
       "      <th></th>\n",
       "      <th></th>\n",
       "      <th></th>\n",
       "      <th></th>\n",
       "      <th></th>\n",
       "      <th></th>\n",
       "    </tr>\n",
       "  </thead>\n",
       "  <tbody>\n",
       "    <tr>\n",
       "      <th>Boomers_I</th>\n",
       "      <td>19547</td>\n",
       "      <td>56293</td>\n",
       "      <td>152493</td>\n",
       "      <td>359400</td>\n",
       "      <td>91057</td>\n",
       "      <td>4764</td>\n",
       "      <td>136881</td>\n",
       "      <td>717415</td>\n",
       "      <td>137932</td>\n",
       "      <td>112360</td>\n",
       "      <td>...</td>\n",
       "      <td>96481</td>\n",
       "      <td>34138</td>\n",
       "      <td>93024</td>\n",
       "      <td>8778</td>\n",
       "      <td>4501</td>\n",
       "      <td>243952</td>\n",
       "      <td>57443</td>\n",
       "      <td>12666</td>\n",
       "      <td>1248809</td>\n",
       "      <td>377813</td>\n",
       "    </tr>\n",
       "    <tr>\n",
       "      <th>Boomers_II</th>\n",
       "      <td>20886</td>\n",
       "      <td>60689</td>\n",
       "      <td>167040</td>\n",
       "      <td>385154</td>\n",
       "      <td>98951</td>\n",
       "      <td>4814</td>\n",
       "      <td>150317</td>\n",
       "      <td>765270</td>\n",
       "      <td>150358</td>\n",
       "      <td>121486</td>\n",
       "      <td>...</td>\n",
       "      <td>102557</td>\n",
       "      <td>37976</td>\n",
       "      <td>101526</td>\n",
       "      <td>9336</td>\n",
       "      <td>5312</td>\n",
       "      <td>267763</td>\n",
       "      <td>63177</td>\n",
       "      <td>13083</td>\n",
       "      <td>1357180</td>\n",
       "      <td>408931</td>\n",
       "    </tr>\n",
       "    <tr>\n",
       "      <th>Gen_X</th>\n",
       "      <td>34894</td>\n",
       "      <td>104138</td>\n",
       "      <td>278066</td>\n",
       "      <td>638546</td>\n",
       "      <td>166571</td>\n",
       "      <td>8259</td>\n",
       "      <td>248226</td>\n",
       "      <td>1274385</td>\n",
       "      <td>245930</td>\n",
       "      <td>202219</td>\n",
       "      <td>...</td>\n",
       "      <td>172103</td>\n",
       "      <td>62644</td>\n",
       "      <td>165346</td>\n",
       "      <td>15843</td>\n",
       "      <td>8364</td>\n",
       "      <td>438758</td>\n",
       "      <td>105742</td>\n",
       "      <td>22982</td>\n",
       "      <td>2230145</td>\n",
       "      <td>683078</td>\n",
       "    </tr>\n",
       "    <tr>\n",
       "      <th>Gen_Z</th>\n",
       "      <td>7922</td>\n",
       "      <td>19509</td>\n",
       "      <td>50327</td>\n",
       "      <td>114400</td>\n",
       "      <td>31146</td>\n",
       "      <td>1572</td>\n",
       "      <td>46126</td>\n",
       "      <td>238025</td>\n",
       "      <td>45565</td>\n",
       "      <td>37681</td>\n",
       "      <td>...</td>\n",
       "      <td>32708</td>\n",
       "      <td>12049</td>\n",
       "      <td>31131</td>\n",
       "      <td>3274</td>\n",
       "      <td>1825</td>\n",
       "      <td>81513</td>\n",
       "      <td>19825</td>\n",
       "      <td>4743</td>\n",
       "      <td>415317</td>\n",
       "      <td>125184</td>\n",
       "    </tr>\n",
       "    <tr>\n",
       "      <th>Millennials</th>\n",
       "      <td>37099</td>\n",
       "      <td>106406</td>\n",
       "      <td>287772</td>\n",
       "      <td>655467</td>\n",
       "      <td>172004</td>\n",
       "      <td>8713</td>\n",
       "      <td>261245</td>\n",
       "      <td>1343027</td>\n",
       "      <td>259520</td>\n",
       "      <td>209935</td>\n",
       "      <td>...</td>\n",
       "      <td>178309</td>\n",
       "      <td>66537</td>\n",
       "      <td>170418</td>\n",
       "      <td>16545</td>\n",
       "      <td>8890</td>\n",
       "      <td>455164</td>\n",
       "      <td>108503</td>\n",
       "      <td>23049</td>\n",
       "      <td>2348016</td>\n",
       "      <td>719183</td>\n",
       "    </tr>\n",
       "    <tr>\n",
       "      <th>Post_War</th>\n",
       "      <td>10331</td>\n",
       "      <td>30522</td>\n",
       "      <td>86693</td>\n",
       "      <td>196547</td>\n",
       "      <td>51378</td>\n",
       "      <td>2594</td>\n",
       "      <td>77172</td>\n",
       "      <td>393786</td>\n",
       "      <td>77238</td>\n",
       "      <td>62608</td>\n",
       "      <td>...</td>\n",
       "      <td>54240</td>\n",
       "      <td>19665</td>\n",
       "      <td>52319</td>\n",
       "      <td>4793</td>\n",
       "      <td>2526</td>\n",
       "      <td>135276</td>\n",
       "      <td>31858</td>\n",
       "      <td>7603</td>\n",
       "      <td>700540</td>\n",
       "      <td>214727</td>\n",
       "    </tr>\n",
       "  </tbody>\n",
       "</table>\n",
       "<p>6 rows × 21 columns</p>\n",
       "</div>"
      ],
      "text/plain": [
       "department_name  alcohol  babies  bakery  beverages  breakfast  bulk  \\\n",
       "Age Group                                                              \n",
       "Boomers_I          19547   56293  152493     359400      91057  4764   \n",
       "Boomers_II         20886   60689  167040     385154      98951  4814   \n",
       "Gen_X              34894  104138  278066     638546     166571  8259   \n",
       "Gen_Z               7922   19509   50327     114400      31146  1572   \n",
       "Millennials        37099  106406  287772     655467     172004  8713   \n",
       "Post_War           10331   30522   86693     196547      51378  2594   \n",
       "\n",
       "department_name  canned goods  dairy eggs    deli  dry good pasta  ...  \\\n",
       "Age Group                                                          ...   \n",
       "Boomers_I              136881      717415  137932          112360  ...   \n",
       "Boomers_II             150317      765270  150358          121486  ...   \n",
       "Gen_X                  248226     1274385  245930          202219  ...   \n",
       "Gen_Z                   46126      238025   45565           37681  ...   \n",
       "Millennials            261245     1343027  259520          209935  ...   \n",
       "Post_War                77172      393786   77238           62608  ...   \n",
       "\n",
       "department_name  household  international  meat seafood  missing  other  \\\n",
       "Age Group                                                                 \n",
       "Boomers_I            96481          34138         93024     8778   4501   \n",
       "Boomers_II          102557          37976        101526     9336   5312   \n",
       "Gen_X               172103          62644        165346    15843   8364   \n",
       "Gen_Z                32708          12049         31131     3274   1825   \n",
       "Millennials         178309          66537        170418    16545   8890   \n",
       "Post_War             54240          19665         52319     4793   2526   \n",
       "\n",
       "department_name  pantry  personal care   pets  produce  snacks  \n",
       "Age Group                                                       \n",
       "Boomers_I        243952          57443  12666  1248809  377813  \n",
       "Boomers_II       267763          63177  13083  1357180  408931  \n",
       "Gen_X            438758         105742  22982  2230145  683078  \n",
       "Gen_Z             81513          19825   4743   415317  125184  \n",
       "Millennials      455164         108503  23049  2348016  719183  \n",
       "Post_War         135276          31858   7603   700540  214727  \n",
       "\n",
       "[6 rows x 21 columns]"
      ]
     },
     "execution_count": 110,
     "metadata": {},
     "output_type": "execute_result"
    }
   ],
   "source": [
    "crosstab_agedept"
   ]
  },
  {
   "cell_type": "code",
   "execution_count": 112,
   "id": "63c62f82",
   "metadata": {},
   "outputs": [],
   "source": [
    "# Creating weekday column with loc function\n",
    "new_customer_list.loc[new_customer_list['orders_day_of_week'] == 0, 'weekday'] = 'Saturday'"
   ]
  },
  {
   "cell_type": "code",
   "execution_count": 113,
   "id": "845ac42a",
   "metadata": {},
   "outputs": [],
   "source": [
    "new_customer_list.loc[new_customer_list['orders_day_of_week'] == 1, 'weekday'] = 'Sunday'"
   ]
  },
  {
   "cell_type": "code",
   "execution_count": 114,
   "id": "c5acb327",
   "metadata": {},
   "outputs": [],
   "source": [
    "new_customer_list.loc[new_customer_list['orders_day_of_week'] == 2, 'weekday'] = 'Monday'"
   ]
  },
  {
   "cell_type": "code",
   "execution_count": 115,
   "id": "bcb17cfa",
   "metadata": {},
   "outputs": [],
   "source": [
    "new_customer_list.loc[new_customer_list['orders_day_of_week'] == 3, 'weekday'] = 'Tuesday'"
   ]
  },
  {
   "cell_type": "code",
   "execution_count": 116,
   "id": "2a95a233",
   "metadata": {},
   "outputs": [],
   "source": [
    "new_customer_list.loc[new_customer_list['orders_day_of_week'] == 4, 'weekday'] = 'Wednesday'"
   ]
  },
  {
   "cell_type": "code",
   "execution_count": 117,
   "id": "00cd9a2a",
   "metadata": {},
   "outputs": [],
   "source": [
    "new_customer_list.loc[new_customer_list['orders_day_of_week'] == 5, 'weekday'] = 'Thursday'"
   ]
  },
  {
   "cell_type": "code",
   "execution_count": 118,
   "id": "64f46ba9",
   "metadata": {},
   "outputs": [],
   "source": [
    "new_customer_list.loc[new_customer_list['orders_day_of_week'] == 6, 'weekday'] = 'Friday'"
   ]
  },
  {
   "cell_type": "code",
   "execution_count": 119,
   "id": "a703232a",
   "metadata": {
    "scrolled": true
   },
   "outputs": [
    {
     "data": {
      "text/plain": [
       "Friday       4175041\n",
       "Monday       3921025\n",
       "Saturday     5744325\n",
       "Sunday       5278055\n",
       "Thursday     3937100\n",
       "Tuesday      3578050\n",
       "Wednesday    3537828\n",
       "Name: weekday, dtype: int64"
      ]
     },
     "execution_count": 119,
     "metadata": {},
     "output_type": "execute_result"
    }
   ],
   "source": [
    "new_customer_list['weekday'].value_counts().sort_index()"
   ]
  },
  {
   "cell_type": "code",
   "execution_count": 120,
   "id": "6b5b52cc",
   "metadata": {},
   "outputs": [],
   "source": [
    "#Exploring correlation between order day of week and price range\n",
    "crosstab_dow_prange_high = pd.crosstab(new_customer_list['weekday'], new_customer_list['price_range_loc'], dropna = False)"
   ]
  },
  {
   "cell_type": "code",
   "execution_count": 121,
   "id": "d8bb69e1",
   "metadata": {},
   "outputs": [],
   "source": [
    "crosstab_dow_prange_high.to_clipboard()"
   ]
  },
  {
   "cell_type": "code",
   "execution_count": 122,
   "id": "8eca66d3",
   "metadata": {},
   "outputs": [],
   "source": [
    "# Exploring correlation between region and price\n",
    "crosstab_region_pric = pd.crosstab(new_customer_list['region'], new_customer_list['price_range_loc'], dropna = False)"
   ]
  },
  {
   "cell_type": "code",
   "execution_count": 123,
   "id": "f1933adb",
   "metadata": {},
   "outputs": [],
   "source": [
    "crosstab_region_pric.to_clipboard()"
   ]
  },
  {
   "cell_type": "code",
   "execution_count": 124,
   "id": "0eb5fdf5",
   "metadata": {},
   "outputs": [],
   "source": [
    "#Exploring correlation between Generation and loyalty\\n\",\n",
    "crosstab_genage_loyal = pd.crosstab(new_customer_list['Age Group'], new_customer_list['loyalty_flag'], dropna = False)"
   ]
  },
  {
   "cell_type": "code",
   "execution_count": 125,
   "id": "afcc4ec9",
   "metadata": {},
   "outputs": [],
   "source": [
    "crosstab_genage_loyal.to_clipboard()"
   ]
  },
  {
   "cell_type": "code",
   "execution_count": 126,
   "id": "d97b5669",
   "metadata": {},
   "outputs": [],
   "source": [
    "#Exploring correlation between region and loyalty\n",
    "crosstab_region_loyal = pd.crosstab(new_customer_list['region'], new_customer_list['loyalty_flag'], dropna = False)"
   ]
  },
  {
   "cell_type": "code",
   "execution_count": 127,
   "id": "d8c83a96",
   "metadata": {},
   "outputs": [],
   "source": [
    "crosstab_region_loyal.to_clipboard()"
   ]
  },
  {
   "cell_type": "code",
   "execution_count": 128,
   "id": "585cfb08",
   "metadata": {},
   "outputs": [],
   "source": [
    "#Exploring correlation between income and region,\n",
    "crosstab_increg = pd.crosstab(new_customer_list['income_range'], new_customer_list['region'], dropna = False)"
   ]
  },
  {
   "cell_type": "code",
   "execution_count": 129,
   "id": "00a03d65",
   "metadata": {},
   "outputs": [],
   "source": [
    "crosstab_increg.to_clipboard()"
   ]
  },
  {
   "cell_type": "code",
   "execution_count": 130,
   "id": "7f998acf",
   "metadata": {},
   "outputs": [],
   "source": [
    "#Exploring correlation between order_frequency and loyalty flag\n",
    "crosstab_ordfreq_loyalty = pd.crosstab(new_customer_list['order_frequency'], new_customer_list['loyalty_flag'], dropna = False)"
   ]
  },
  {
   "cell_type": "code",
   "execution_count": 131,
   "id": "a5376615",
   "metadata": {},
   "outputs": [],
   "source": [
    "crosstab_ordfreq_loyalty.to_clipboard()"
   ]
  },
  {
   "cell_type": "code",
   "execution_count": 132,
   "id": "4eb9120a",
   "metadata": {},
   "outputs": [],
   "source": [
    "#Exploring correlation between loyalty and price range\n",
    "crosstab_loyalty_pricrange = pd.crosstab(new_customer_list['price_range_loc'], new_customer_list['loyalty_flag'], dropna = False)"
   ]
  },
  {
   "cell_type": "code",
   "execution_count": 133,
   "id": "b7ec733b",
   "metadata": {},
   "outputs": [],
   "source": [
    "crosstab_loyalty_pricrange.to_clipboard()"
   ]
  },
  {
   "cell_type": "code",
   "execution_count": 134,
   "id": "6aa5c035",
   "metadata": {},
   "outputs": [],
   "source": [
    "#exploring famstatus and order of frequency\n",
    "crosstab_famsta_ordfreq = pd.crosstab(new_customer_list['fam_status'], new_customer_list['order_frequency'], dropna = False)"
   ]
  },
  {
   "cell_type": "code",
   "execution_count": 135,
   "id": "bb541f46",
   "metadata": {},
   "outputs": [],
   "source": [
    "crosstab_famsta_ordfreq.to_clipboard()"
   ]
  },
  {
   "cell_type": "code",
   "execution_count": 136,
   "id": "e838255b",
   "metadata": {},
   "outputs": [],
   "source": [
    "#exploring famstatus and department ID\n",
    "crosstab_famsta_deptid = pd.crosstab(new_customer_list['fam_status'], new_customer_list['department_name'], dropna = False)"
   ]
  },
  {
   "cell_type": "code",
   "execution_count": 137,
   "id": "d299e9e4",
   "metadata": {},
   "outputs": [],
   "source": [
    "crosstab_famsta_deptid.to_clipboard()"
   ]
  },
  {
   "cell_type": "code",
   "execution_count": 138,
   "id": "b6185520",
   "metadata": {
    "scrolled": true
   },
   "outputs": [
    {
     "data": {
      "text/html": [
       "<div>\n",
       "<style scoped>\n",
       "    .dataframe tbody tr th:only-of-type {\n",
       "        vertical-align: middle;\n",
       "    }\n",
       "\n",
       "    .dataframe tbody tr th {\n",
       "        vertical-align: top;\n",
       "    }\n",
       "\n",
       "    .dataframe thead th {\n",
       "        text-align: right;\n",
       "    }\n",
       "</style>\n",
       "<table border=\"1\" class=\"dataframe\">\n",
       "  <thead>\n",
       "    <tr style=\"text-align: right;\">\n",
       "      <th>department_name</th>\n",
       "      <th>alcohol</th>\n",
       "      <th>babies</th>\n",
       "      <th>bakery</th>\n",
       "      <th>beverages</th>\n",
       "      <th>breakfast</th>\n",
       "      <th>bulk</th>\n",
       "      <th>canned goods</th>\n",
       "      <th>dairy eggs</th>\n",
       "      <th>deli</th>\n",
       "      <th>dry good pasta</th>\n",
       "      <th>...</th>\n",
       "      <th>household</th>\n",
       "      <th>international</th>\n",
       "      <th>meat seafood</th>\n",
       "      <th>missing</th>\n",
       "      <th>other</th>\n",
       "      <th>pantry</th>\n",
       "      <th>personal care</th>\n",
       "      <th>pets</th>\n",
       "      <th>produce</th>\n",
       "      <th>snacks</th>\n",
       "    </tr>\n",
       "    <tr>\n",
       "      <th>fam_status</th>\n",
       "      <th></th>\n",
       "      <th></th>\n",
       "      <th></th>\n",
       "      <th></th>\n",
       "      <th></th>\n",
       "      <th></th>\n",
       "      <th></th>\n",
       "      <th></th>\n",
       "      <th></th>\n",
       "      <th></th>\n",
       "      <th></th>\n",
       "      <th></th>\n",
       "      <th></th>\n",
       "      <th></th>\n",
       "      <th></th>\n",
       "      <th></th>\n",
       "      <th></th>\n",
       "      <th></th>\n",
       "      <th></th>\n",
       "      <th></th>\n",
       "      <th></th>\n",
       "    </tr>\n",
       "  </thead>\n",
       "  <tbody>\n",
       "    <tr>\n",
       "      <th>divorced/widowed</th>\n",
       "      <td>11376</td>\n",
       "      <td>33567</td>\n",
       "      <td>93297</td>\n",
       "      <td>215425</td>\n",
       "      <td>55090</td>\n",
       "      <td>2619</td>\n",
       "      <td>81776</td>\n",
       "      <td>432405</td>\n",
       "      <td>84521</td>\n",
       "      <td>68202</td>\n",
       "      <td>...</td>\n",
       "      <td>56557</td>\n",
       "      <td>21162</td>\n",
       "      <td>55988</td>\n",
       "      <td>4892</td>\n",
       "      <td>2779</td>\n",
       "      <td>147461</td>\n",
       "      <td>35200</td>\n",
       "      <td>7754</td>\n",
       "      <td>758511</td>\n",
       "      <td>230580</td>\n",
       "    </tr>\n",
       "    <tr>\n",
       "      <th>living with parents and siblings</th>\n",
       "      <td>8069</td>\n",
       "      <td>19008</td>\n",
       "      <td>52381</td>\n",
       "      <td>116148</td>\n",
       "      <td>32355</td>\n",
       "      <td>1615</td>\n",
       "      <td>46946</td>\n",
       "      <td>244460</td>\n",
       "      <td>46963</td>\n",
       "      <td>38365</td>\n",
       "      <td>...</td>\n",
       "      <td>32364</td>\n",
       "      <td>12046</td>\n",
       "      <td>31387</td>\n",
       "      <td>3221</td>\n",
       "      <td>1770</td>\n",
       "      <td>83622</td>\n",
       "      <td>19594</td>\n",
       "      <td>5198</td>\n",
       "      <td>420326</td>\n",
       "      <td>128186</td>\n",
       "    </tr>\n",
       "    <tr>\n",
       "      <th>married</th>\n",
       "      <td>96035</td>\n",
       "      <td>282645</td>\n",
       "      <td>766010</td>\n",
       "      <td>1761916</td>\n",
       "      <td>459157</td>\n",
       "      <td>23391</td>\n",
       "      <td>691487</td>\n",
       "      <td>3545576</td>\n",
       "      <td>684423</td>\n",
       "      <td>561128</td>\n",
       "      <td>...</td>\n",
       "      <td>480022</td>\n",
       "      <td>173964</td>\n",
       "      <td>463267</td>\n",
       "      <td>43918</td>\n",
       "      <td>23164</td>\n",
       "      <td>1217632</td>\n",
       "      <td>289163</td>\n",
       "      <td>62378</td>\n",
       "      <td>6219441</td>\n",
       "      <td>1897867</td>\n",
       "    </tr>\n",
       "    <tr>\n",
       "      <th>single</th>\n",
       "      <td>24093</td>\n",
       "      <td>67846</td>\n",
       "      <td>180800</td>\n",
       "      <td>413752</td>\n",
       "      <td>106817</td>\n",
       "      <td>5216</td>\n",
       "      <td>161832</td>\n",
       "      <td>830999</td>\n",
       "      <td>162143</td>\n",
       "      <td>129988</td>\n",
       "      <td>...</td>\n",
       "      <td>109352</td>\n",
       "      <td>41550</td>\n",
       "      <td>105087</td>\n",
       "      <td>10510</td>\n",
       "      <td>5702</td>\n",
       "      <td>283399</td>\n",
       "      <td>67850</td>\n",
       "      <td>15009</td>\n",
       "      <td>1461666</td>\n",
       "      <td>442718</td>\n",
       "    </tr>\n",
       "  </tbody>\n",
       "</table>\n",
       "<p>4 rows × 21 columns</p>\n",
       "</div>"
      ],
      "text/plain": [
       "department_name                   alcohol  babies  bakery  beverages  \\\n",
       "fam_status                                                             \n",
       "divorced/widowed                    11376   33567   93297     215425   \n",
       "living with parents and siblings     8069   19008   52381     116148   \n",
       "married                             96035  282645  766010    1761916   \n",
       "single                              24093   67846  180800     413752   \n",
       "\n",
       "department_name                   breakfast   bulk  canned goods  dairy eggs  \\\n",
       "fam_status                                                                     \n",
       "divorced/widowed                      55090   2619         81776      432405   \n",
       "living with parents and siblings      32355   1615         46946      244460   \n",
       "married                              459157  23391        691487     3545576   \n",
       "single                               106817   5216        161832      830999   \n",
       "\n",
       "department_name                     deli  dry good pasta  ...  household  \\\n",
       "fam_status                                                ...              \n",
       "divorced/widowed                   84521           68202  ...      56557   \n",
       "living with parents and siblings   46963           38365  ...      32364   \n",
       "married                           684423          561128  ...     480022   \n",
       "single                            162143          129988  ...     109352   \n",
       "\n",
       "department_name                   international  meat seafood  missing  other  \\\n",
       "fam_status                                                                      \n",
       "divorced/widowed                          21162         55988     4892   2779   \n",
       "living with parents and siblings          12046         31387     3221   1770   \n",
       "married                                  173964        463267    43918  23164   \n",
       "single                                    41550        105087    10510   5702   \n",
       "\n",
       "department_name                    pantry  personal care   pets  produce  \\\n",
       "fam_status                                                                 \n",
       "divorced/widowed                   147461          35200   7754   758511   \n",
       "living with parents and siblings    83622          19594   5198   420326   \n",
       "married                           1217632         289163  62378  6219441   \n",
       "single                             283399          67850  15009  1461666   \n",
       "\n",
       "department_name                    snacks  \n",
       "fam_status                                 \n",
       "divorced/widowed                   230580  \n",
       "living with parents and siblings   128186  \n",
       "married                           1897867  \n",
       "single                             442718  \n",
       "\n",
       "[4 rows x 21 columns]"
      ]
     },
     "execution_count": 138,
     "metadata": {},
     "output_type": "execute_result"
    }
   ],
   "source": [
    "crosstab_famsta_deptid"
   ]
  },
  {
   "cell_type": "code",
   "execution_count": 139,
   "id": "6be7a40e",
   "metadata": {},
   "outputs": [],
   "source": [
    "#Exploring age group and order of frequency\n",
    "crosstab_agegene_ordfreq = pd.crosstab(new_customer_list['Age Group'], new_customer_list['order_frequency'], dropna = False)"
   ]
  },
  {
   "cell_type": "code",
   "execution_count": 140,
   "id": "0ac23d1d",
   "metadata": {},
   "outputs": [],
   "source": [
    "crosstab_agegene_ordfreq.to_clipboard()"
   ]
  },
  {
   "cell_type": "code",
   "execution_count": 141,
   "id": "e4996a43",
   "metadata": {},
   "outputs": [],
   "source": [
    "#Exploring age group and price range\n",
    "crosstab_agegene_pricerang = pd.crosstab(new_customer_list['Age Group'], new_customer_list['price_range_loc'], dropna = False)"
   ]
  },
  {
   "cell_type": "code",
   "execution_count": 142,
   "id": "8e394bc4",
   "metadata": {},
   "outputs": [],
   "source": [
    "crosstab_agegene_pricerang.to_clipboard()"
   ]
  },
  {
   "cell_type": "code",
   "execution_count": 143,
   "id": "cfbb045c",
   "metadata": {},
   "outputs": [],
   "source": [
    "#Question 6: Create an appropriate visualization to show the distribution of profiles"
   ]
  },
  {
   "cell_type": "code",
   "execution_count": 144,
   "id": "a1f48cf9",
   "metadata": {
    "scrolled": true
   },
   "outputs": [
    {
     "data": {
      "image/png": "[encoded data removed]",
      "text/plain": [
       "<Figure size 432x288 with 1 Axes>"
      ]
     },
     "metadata": {
      "needs_background": "light"
     },
     "output_type": "display_data"
    }
   ],
   "source": [
    "# Creating a bar chart of results sorted highest to lowest spending habit\n",
    "crosstab_agegroup_spending_graph = crosstab_agegroup_spendinghabit.plot(kind='bar', stacked=True)\n",
    "plt.title('Age Group and spending habit ')\n",
    "plt.xlabel('Age Group')\n",
    "plt.ylabel('Price in USD')\n",
    "plt.show()"
   ]
  },
  {
   "cell_type": "code",
   "execution_count": 145,
   "id": "0d041a00",
   "metadata": {
    "scrolled": true
   },
   "outputs": [
    {
     "data": {
      "image/png": "[encoded data removed]",
      "text/plain": [
       "<Figure size 432x288 with 1 Axes>"
      ]
     },
     "metadata": {
      "needs_background": "light"
     },
     "output_type": "display_data"
    }
   ],
   "source": [
    "crosstab_region_spenders_type_graph = crosstab_region_spenders_type.plot(kind='bar', stacked=True, color = ['blue','orange', 'green', 'red'])\n",
    "plt.title('Region Spending Habit ')\n",
    "plt.xlabel('Region')\n",
    "plt.ylabel('price')\n",
    "plt.show()"
   ]
  },
  {
   "cell_type": "code",
   "execution_count": 146,
   "id": "43a4d93d",
   "metadata": {
    "scrolled": false
   },
   "outputs": [
    {
     "data": {
      "image/png": "[encoded data removed]",
      "text/plain": [
       "<Figure size 432x288 with 1 Axes>"
      ]
     },
     "metadata": {
      "needs_background": "light"
     },
     "output_type": "display_data"
    }
   ],
   "source": [
    "crosstab_ordfreq_loyalty_graph = crosstab_ordfreq_loyalty.plot(kind='bar', stacked=True)\n",
    "plt.title('orders by customer loyalty')\n",
    "plt.xlabel('customer')\n",
    "plt.ylabel('order of frequency')\n",
    "plt.show()"
   ]
  },
  {
   "cell_type": "code",
   "execution_count": 147,
   "id": "976ef53c",
   "metadata": {
    "scrolled": false
   },
   "outputs": [
    {
     "data": {
      "image/png": "[encoded data removed]",
      "text/plain": [
       "<Figure size 432x288 with 1 Axes>"
      ]
     },
     "metadata": {
      "needs_background": "light"
     },
     "output_type": "display_data"
    }
   ],
   "source": [
    "crosstab_loyalty_pricrange_grph = crosstab_loyalty_pricrange.plot(kind='bar', stacked=True)\n",
    "plt.title('orders of customers by price range')\n",
    "plt.xlabel('product')\n",
    "plt.ylabel('price range in USD')\n",
    "plt.show()"
   ]
  },
  {
   "cell_type": "code",
   "execution_count": 148,
   "id": "e7ab7144",
   "metadata": {
    "scrolled": true
   },
   "outputs": [
    {
     "data": {
      "image/png": "[encoded data removed]",
      "text/plain": [
       "<Figure size 432x288 with 1 Axes>"
      ]
     },
     "metadata": {
      "needs_background": "light"
     },
     "output_type": "display_data"
    }
   ],
   "source": [
    "#bar chart for age group and order of frequency\n",
    "crosstab_agegene_ordfreq_grp = crosstab_agegene_ordfreq.plot(kind='bar', stacked=True)\n",
    "plt.title('orders by age group generations')\n",
    "plt.xlabel('Age Group')\n",
    "plt.ylabel('order of frequency')\n",
    "plt.show()"
   ]
  },
  {
   "cell_type": "code",
   "execution_count": 149,
   "id": "d0ff64b7",
   "metadata": {},
   "outputs": [
    {
     "data": {
      "image/png": "[encoded data removed]",
      "text/plain": [
       "<Figure size 432x288 with 1 Axes>"
      ]
     },
     "metadata": {
      "needs_background": "light"
     },
     "output_type": "display_data"
    }
   ],
   "source": [
    "#bar chart for age group and price range\n",
    "crosstab_agegene_pricerang_grp = crosstab_agegene_pricerang.plot(kind='bar', stacked=True)\n",
    "plt.title('product price range among age groups')\n",
    "plt.xlabel('Age Group')\n",
    "plt.ylabel('price in USD')\n",
    "plt.show()"
   ]
  },
  {
   "cell_type": "code",
   "execution_count": 150,
   "id": "b9d8eeb2",
   "metadata": {
    "scrolled": true
   },
   "outputs": [
    {
     "data": {
      "image/png": "[encoded data removed]",
      "text/plain": [
       "<Figure size 432x288 with 1 Axes>"
      ]
     },
     "metadata": {
      "needs_background": "light"
     },
     "output_type": "display_data"
    }
   ],
   "source": [
    "#bar chart family status and order of frequency\n",
    "crosstab_famsta_ordfreq_graph = crosstab_famsta_ordfreq.plot(kind='bar', stacked=True)\n",
    "plt.title('orders by family status')\n",
    "plt.xlabel('family status')\n",
    "plt.ylabel('order of frequency')\n",
    "plt.show()"
   ]
  },
  {
   "cell_type": "code",
   "execution_count": 151,
   "id": "659fe04e",
   "metadata": {
    "scrolled": false
   },
   "outputs": [
    {
     "data": {
      "image/png": "[encoded data removed]",
      "text/plain": [
       "<Figure size 432x288 with 1 Axes>"
      ]
     },
     "metadata": {
      "needs_background": "light"
     },
     "output_type": "display_data"
    }
   ],
   "source": [
    "# bar chart family status and department ID\n",
    "crosstab_famsta_deptid_graph = crosstab_famsta_deptid.plot(kind='bar', stacked=True)"
   ]
  },
  {
   "cell_type": "code",
   "execution_count": 152,
   "id": "49a4f16b",
   "metadata": {},
   "outputs": [
    {
     "data": {
      "image/png": "[encoded data removed]",
      "text/plain": [
       "<Figure size 432x288 with 1 Axes>"
      ]
     },
     "metadata": {
      "needs_background": "light"
     },
     "output_type": "display_data"
    }
   ],
   "source": [
    "#bar chart showing the region and loyalty\n",
    "crosstab_region_loyal_graph = crosstab_region_loyal.plot(kind='bar', stacked=True)\n",
    "plt.title('orders by region loyalty')\n",
    "plt.xlabel('region')\n",
    "plt.ylabel('order of frequency')\n",
    "plt.show()"
   ]
  },
  {
   "cell_type": "code",
   "execution_count": 153,
   "id": "9ff89ab9",
   "metadata": {},
   "outputs": [
    {
     "data": {
      "image/png": "[encoded data removed]",
      "text/plain": [
       "<Figure size 432x288 with 1 Axes>"
      ]
     },
     "metadata": {
      "needs_background": "light"
     },
     "output_type": "display_data"
    }
   ],
   "source": [
    "# bar chart of family and age group in regards to generation\n",
    "fam_agegroupgen_graph = crosstab_fam_agegroup.plot(kind='bar', stacked=True)\n",
    "plt.title('Age group distribution in regards to family status')\n",
    "plt.xlabel('Age Group')\n",
    "plt.ylabel('family status count')\n",
    "plt.show()"
   ]
  },
  {
   "cell_type": "code",
   "execution_count": 154,
   "id": "be2b9678",
   "metadata": {
    "scrolled": true
   },
   "outputs": [
    {
     "data": {
      "image/png": "[encoded data removed]",
      "text/plain": [
       "<Figure size 432x288 with 1 Axes>"
      ]
     },
     "metadata": {
      "needs_background": "light"
     },
     "output_type": "display_data"
    }
   ],
   "source": [
    "# bar chart showing agegroup and income\n",
    "crosstab_agegen_income_graph = crosstab_agegen_income.plot(kind='bar', stacked=True)\n",
    "plt.title('age group income range')\n",
    "plt.xlabel('Age Group')\n",
    "plt.ylabel('income in USD')\n",
    "plt.show()"
   ]
  },
  {
   "cell_type": "code",
   "execution_count": 155,
   "id": "3031d691",
   "metadata": {
    "scrolled": false
   },
   "outputs": [
    {
     "data": {
      "image/png": "[encoded data removed]",
      "text/plain": [
       "<Figure size 432x288 with 1 Axes>"
      ]
     },
     "metadata": {
      "needs_background": "light"
     },
     "output_type": "display_data"
    }
   ],
   "source": [
    "# bar chart showing income and order of frequency\n",
    "crosstab_income_ordfreq_graph = crosstab_income_ordfreq.plot(kind='bar', stacked=True)"
   ]
  },
  {
   "cell_type": "code",
   "execution_count": 156,
   "id": "4b71a998",
   "metadata": {
    "scrolled": false
   },
   "outputs": [
    {
     "data": {
      "image/png": "[encoded data removed]",
      "text/plain": [
       "<Figure size 432x288 with 1 Axes>"
      ]
     },
     "metadata": {
      "needs_background": "light"
     },
     "output_type": "display_data"
    }
   ],
   "source": [
    "# icnome and region bar chart\n",
    "crosstab_increg_graph = crosstab_increg.plot(kind='bar', stacked=True)"
   ]
  },
  {
   "cell_type": "code",
   "execution_count": 157,
   "id": "35a3fe65",
   "metadata": {},
   "outputs": [
    {
     "data": {
      "image/png": "[encoded data removed]",
      "text/plain": [
       "<Figure size 432x288 with 1 Axes>"
      ]
     },
     "metadata": {
      "needs_background": "light"
     },
     "output_type": "display_data"
    }
   ],
   "source": [
    "#order hour of day and price range bar\n",
    "crosstab_ordhr_prange_graph = crosstab_ordhr_prange.plot(kind='bar', stacked=True, color = ['orange', 'purple', 'red'])\n",
    "plt.title('daily orders by customer')\n",
    "plt.xlabel('order hour of day')\n",
    "plt.ylabel('price range in USD')\n",
    "plt.show()"
   ]
  },
  {
   "cell_type": "code",
   "execution_count": 158,
   "id": "7e29d9c2",
   "metadata": {},
   "outputs": [],
   "source": [
    "#Exporting chart time of day/prices\n",
    "crosstab_ordhr_prange_graph.figure.savefig(os.path.join(path, '04 Analysis', 'Visualizations', 'stacked time of day price range.png'))"
   ]
  },
  {
   "cell_type": "code",
   "execution_count": 159,
   "id": "a6673d0d",
   "metadata": {},
   "outputs": [
    {
     "data": {
      "image/png": "[encoded data removed]",
      "text/plain": [
       "<Figure size 432x288 with 1 Axes>"
      ]
     },
     "metadata": {
      "needs_background": "light"
     },
     "output_type": "display_data"
    }
   ],
   "source": [
    "# bar chart shoing age and department ID\n",
    "crosstab_agedept_graph = crosstab_agedept.plot(kind='bar', stacked=True)"
   ]
  },
  {
   "cell_type": "code",
   "execution_count": 160,
   "id": "ae538295",
   "metadata": {},
   "outputs": [
    {
     "data": {
      "text/plain": [
       "Mid range product     20357406\n",
       "Low range product      9427297\n",
       "High range product      386721\n",
       "Name: price_range_loc, dtype: int64"
      ]
     },
     "execution_count": 160,
     "metadata": {},
     "output_type": "execute_result"
    }
   ],
   "source": [
    "# Creating a pie chart showing distrubution of price range products sold\n",
    "new_customer_list['price_range_loc'].value_counts()"
   ]
  },
  {
   "cell_type": "code",
   "execution_count": 161,
   "id": "af6d17bb",
   "metadata": {
    "scrolled": false
   },
   "outputs": [
    {
     "data": {
      "image/png": "[encoded data removed]",
      "text/plain": [
       "<Figure size 432x288 with 1 Axes>"
      ]
     },
     "metadata": {},
     "output_type": "display_data"
    }
   ],
   "source": [
    "# pie chart showing the distributio of price range of products sold\n",
    "mylabels = ['Low range product (>$5)', 'Mid range product (between $5 and $15)', 'High range product(>$15)']\n",
    "sizes = [9427297, 20357406, 386721]\n",
    "colors = ['yellowgreen', 'gold', 'lightskyblue']\n",
    "plt.pie(sizes, labels = mylabels, shadow = True, colors=colors)\n",
    "plt.show()"
   ]
  },
  {
   "cell_type": "code",
   "execution_count": 162,
   "id": "0a7eda7a",
   "metadata": {},
   "outputs": [
    {
     "data": {
      "image/png": "[encoded data removed]",
      "text/plain": [
       "<Figure size 432x288 with 1 Axes>"
      ]
     },
     "metadata": {
      "needs_background": "light"
     },
     "output_type": "display_data"
    }
   ],
   "source": [
    "#price purchase by region\n",
    "crosstab_region_pric.plot.bar(stacked = True, color = ['orange', 'blue', 'red'])\n",
    "plt.title('price range orders by region loyalty')\n",
    "plt.xlabel('region')\n",
    "plt.ylabel('price range in USD')\n",
    "plt.show()"
   ]
  },
  {
   "cell_type": "code",
   "execution_count": 163,
   "id": "7230dac0",
   "metadata": {},
   "outputs": [
    {
     "data": {
      "image/png": "[encoded data removed]",
      "text/plain": [
       "<Figure size 432x288 with 1 Axes>"
      ]
     },
     "metadata": {
      "needs_background": "light"
     },
     "output_type": "display_data"
    }
   ],
   "source": [
    "#Sales by department\n",
    "new_customer_list['department_name'].value_counts().plot.bar()\n",
    "plt.title('sales order across department')\n",
    "plt.xlabel('department')\n",
    "plt.ylabel('order of frequency')\n",
    "plt.show()"
   ]
  },
  {
   "cell_type": "code",
   "execution_count": 164,
   "id": "1984ada2",
   "metadata": {},
   "outputs": [
    {
     "data": {
      "image/png": "[encoded data removed]",
      "text/plain": [
       "<Figure size 432x288 with 1 Axes>"
      ]
     },
     "metadata": {
      "needs_background": "light"
     },
     "output_type": "display_data"
    }
   ],
   "source": [
    "#A breakdown of customers by age group regards to generation\n",
    "new_customer_list['Age Group'].value_counts().plot.bar(color = ['orange','red', 'blue', 'green', 'purple'])\n",
    "plt.title('customers by age group')\n",
    "plt.xlabel('Age group')\n",
    "plt.ylabel('no of customers')\n",
    "plt.show()"
   ]
  },
  {
   "cell_type": "code",
   "execution_count": 165,
   "id": "8e5d44ea",
   "metadata": {
    "scrolled": true
   },
   "outputs": [
    {
     "data": {
      "image/png": "[encoded data removed]",
      "text/plain": [
       "<Figure size 432x288 with 1 Axes>"
      ]
     },
     "metadata": {
      "needs_background": "light"
     },
     "output_type": "display_data"
    }
   ],
   "source": [
    "#Graph showing correlation between age group and loyalty\n",
    "crosstab_genage_loyal.plot.bar(stacked=True)\n",
    "plt.title('age group by loyalty')\n",
    "plt.xlabel('Age Group')\n",
    "plt.ylabel('no of orders')\n",
    "plt.tight_layout()\n",
    "plt.show()"
   ]
  },
  {
   "cell_type": "code",
   "execution_count": 166,
   "id": "2abb22b7",
   "metadata": {},
   "outputs": [
    {
     "data": {
      "image/png": "[encoded data removed]",
      "text/plain": [
       "<Figure size 432x288 with 1 Axes>"
      ]
     },
     "metadata": {
      "needs_background": "light"
     },
     "output_type": "display_data"
    }
   ],
   "source": [
    "#Breakdown  of region\n",
    "new_customer_list['region'].value_counts().plot.bar(color = ['blue', 'orange', 'red', 'green'])\n",
    "plt.title('Customers by region')\n",
    "plt.xlabel('region')\n",
    "plt.ylabel('No of customers')\n",
    "plt.show()"
   ]
  },
  {
   "cell_type": "code",
   "execution_count": 167,
   "id": "c3f4fe00",
   "metadata": {
    "scrolled": false
   },
   "outputs": [
    {
     "data": {
      "text/html": [
       "<div>\n",
       "<style scoped>\n",
       "    .dataframe tbody tr th:only-of-type {\n",
       "        vertical-align: middle;\n",
       "    }\n",
       "\n",
       "    .dataframe tbody tr th {\n",
       "        vertical-align: top;\n",
       "    }\n",
       "\n",
       "    .dataframe thead tr th {\n",
       "        text-align: left;\n",
       "    }\n",
       "\n",
       "    .dataframe thead tr:last-of-type th {\n",
       "        text-align: right;\n",
       "    }\n",
       "</style>\n",
       "<table border=\"1\" class=\"dataframe\">\n",
       "  <thead>\n",
       "    <tr>\n",
       "      <th></th>\n",
       "      <th colspan=\"3\" halign=\"left\">prices</th>\n",
       "    </tr>\n",
       "    <tr>\n",
       "      <th></th>\n",
       "      <th>mean</th>\n",
       "      <th>min</th>\n",
       "      <th>max</th>\n",
       "    </tr>\n",
       "    <tr>\n",
       "      <th>Age Group</th>\n",
       "      <th></th>\n",
       "      <th></th>\n",
       "      <th></th>\n",
       "    </tr>\n",
       "  </thead>\n",
       "  <tbody>\n",
       "    <tr>\n",
       "      <th>Boomers_I</th>\n",
       "      <td>11.652070</td>\n",
       "      <td>1.0</td>\n",
       "      <td>99999.0</td>\n",
       "    </tr>\n",
       "    <tr>\n",
       "      <th>Boomers_II</th>\n",
       "      <td>11.635599</td>\n",
       "      <td>1.0</td>\n",
       "      <td>99999.0</td>\n",
       "    </tr>\n",
       "    <tr>\n",
       "      <th>Gen_X</th>\n",
       "      <td>12.079842</td>\n",
       "      <td>1.0</td>\n",
       "      <td>99999.0</td>\n",
       "    </tr>\n",
       "    <tr>\n",
       "      <th>Gen_Z</th>\n",
       "      <td>10.240681</td>\n",
       "      <td>1.0</td>\n",
       "      <td>99999.0</td>\n",
       "    </tr>\n",
       "    <tr>\n",
       "      <th>Millennials</th>\n",
       "      <td>11.744851</td>\n",
       "      <td>1.0</td>\n",
       "      <td>99999.0</td>\n",
       "    </tr>\n",
       "    <tr>\n",
       "      <th>Post_War</th>\n",
       "      <td>11.553970</td>\n",
       "      <td>1.0</td>\n",
       "      <td>99999.0</td>\n",
       "    </tr>\n",
       "  </tbody>\n",
       "</table>\n",
       "</div>"
      ],
      "text/plain": [
       "                prices              \n",
       "                  mean  min      max\n",
       "Age Group                           \n",
       "Boomers_I    11.652070  1.0  99999.0\n",
       "Boomers_II   11.635599  1.0  99999.0\n",
       "Gen_X        12.079842  1.0  99999.0\n",
       "Gen_Z        10.240681  1.0  99999.0\n",
       "Millennials  11.744851  1.0  99999.0\n",
       "Post_War     11.553970  1.0  99999.0"
      ]
     },
     "execution_count": 167,
     "metadata": {},
     "output_type": "execute_result"
    }
   ],
   "source": [
    "# Question 7: Aggregate the max, mean, and min variables on a customer-profile level for usage frequency and expenditure\n",
    "new_customer_list.groupby('Age Group').agg({'prices': ['mean', 'min', 'max']})"
   ]
  },
  {
   "cell_type": "code",
   "execution_count": 168,
   "id": "db64531e",
   "metadata": {},
   "outputs": [
    {
     "data": {
      "text/html": [
       "<div>\n",
       "<style scoped>\n",
       "    .dataframe tbody tr th:only-of-type {\n",
       "        vertical-align: middle;\n",
       "    }\n",
       "\n",
       "    .dataframe tbody tr th {\n",
       "        vertical-align: top;\n",
       "    }\n",
       "\n",
       "    .dataframe thead tr th {\n",
       "        text-align: left;\n",
       "    }\n",
       "\n",
       "    .dataframe thead tr:last-of-type th {\n",
       "        text-align: right;\n",
       "    }\n",
       "</style>\n",
       "<table border=\"1\" class=\"dataframe\">\n",
       "  <thead>\n",
       "    <tr>\n",
       "      <th></th>\n",
       "      <th colspan=\"3\" halign=\"left\">prices</th>\n",
       "    </tr>\n",
       "    <tr>\n",
       "      <th></th>\n",
       "      <th>mean</th>\n",
       "      <th>min</th>\n",
       "      <th>max</th>\n",
       "    </tr>\n",
       "    <tr>\n",
       "      <th>income_range</th>\n",
       "      <th></th>\n",
       "      <th></th>\n",
       "      <th></th>\n",
       "    </tr>\n",
       "  </thead>\n",
       "  <tbody>\n",
       "    <tr>\n",
       "      <th>0-100k</th>\n",
       "      <td>8.099410</td>\n",
       "      <td>1.0</td>\n",
       "      <td>99999.0</td>\n",
       "    </tr>\n",
       "    <tr>\n",
       "      <th>100-200k</th>\n",
       "      <td>12.041896</td>\n",
       "      <td>1.0</td>\n",
       "      <td>99999.0</td>\n",
       "    </tr>\n",
       "    <tr>\n",
       "      <th>200-300k</th>\n",
       "      <td>237.598637</td>\n",
       "      <td>1.0</td>\n",
       "      <td>99999.0</td>\n",
       "    </tr>\n",
       "    <tr>\n",
       "      <th>300-400k</th>\n",
       "      <td>298.181817</td>\n",
       "      <td>1.0</td>\n",
       "      <td>99999.0</td>\n",
       "    </tr>\n",
       "    <tr>\n",
       "      <th>Over 500k</th>\n",
       "      <td>169.090060</td>\n",
       "      <td>1.0</td>\n",
       "      <td>99999.0</td>\n",
       "    </tr>\n",
       "  </tbody>\n",
       "</table>\n",
       "</div>"
      ],
      "text/plain": [
       "                  prices              \n",
       "                    mean  min      max\n",
       "income_range                          \n",
       "0-100k          8.099410  1.0  99999.0\n",
       "100-200k       12.041896  1.0  99999.0\n",
       "200-300k      237.598637  1.0  99999.0\n",
       "300-400k      298.181817  1.0  99999.0\n",
       "Over 500k     169.090060  1.0  99999.0"
      ]
     },
     "execution_count": 168,
     "metadata": {},
     "output_type": "execute_result"
    }
   ],
   "source": [
    "new_customer_list.groupby('income_range').agg({'prices': ['mean', 'min', 'max']})"
   ]
  },
  {
   "cell_type": "code",
   "execution_count": 169,
   "id": "9968092f",
   "metadata": {},
   "outputs": [
    {
     "data": {
      "text/html": [
       "<div>\n",
       "<style scoped>\n",
       "    .dataframe tbody tr th:only-of-type {\n",
       "        vertical-align: middle;\n",
       "    }\n",
       "\n",
       "    .dataframe tbody tr th {\n",
       "        vertical-align: top;\n",
       "    }\n",
       "\n",
       "    .dataframe thead tr th {\n",
       "        text-align: left;\n",
       "    }\n",
       "\n",
       "    .dataframe thead tr:last-of-type th {\n",
       "        text-align: right;\n",
       "    }\n",
       "</style>\n",
       "<table border=\"1\" class=\"dataframe\">\n",
       "  <thead>\n",
       "    <tr>\n",
       "      <th></th>\n",
       "      <th colspan=\"3\" halign=\"left\">prices</th>\n",
       "    </tr>\n",
       "    <tr>\n",
       "      <th></th>\n",
       "      <th>mean</th>\n",
       "      <th>min</th>\n",
       "      <th>max</th>\n",
       "    </tr>\n",
       "    <tr>\n",
       "      <th>region</th>\n",
       "      <th></th>\n",
       "      <th></th>\n",
       "      <th></th>\n",
       "    </tr>\n",
       "  </thead>\n",
       "  <tbody>\n",
       "    <tr>\n",
       "      <th>Midwest</th>\n",
       "      <td>12.656311</td>\n",
       "      <td>1.0</td>\n",
       "      <td>99999.0</td>\n",
       "    </tr>\n",
       "    <tr>\n",
       "      <th>Northeast</th>\n",
       "      <td>11.420964</td>\n",
       "      <td>1.0</td>\n",
       "      <td>99999.0</td>\n",
       "    </tr>\n",
       "    <tr>\n",
       "      <th>South</th>\n",
       "      <td>12.108934</td>\n",
       "      <td>1.0</td>\n",
       "      <td>99999.0</td>\n",
       "    </tr>\n",
       "    <tr>\n",
       "      <th>West</th>\n",
       "      <td>11.102326</td>\n",
       "      <td>1.0</td>\n",
       "      <td>99999.0</td>\n",
       "    </tr>\n",
       "  </tbody>\n",
       "</table>\n",
       "</div>"
      ],
      "text/plain": [
       "              prices              \n",
       "                mean  min      max\n",
       "region                            \n",
       "Midwest    12.656311  1.0  99999.0\n",
       "Northeast  11.420964  1.0  99999.0\n",
       "South      12.108934  1.0  99999.0\n",
       "West       11.102326  1.0  99999.0"
      ]
     },
     "execution_count": 169,
     "metadata": {},
     "output_type": "execute_result"
    }
   ],
   "source": [
    "#aggregate region\n",
    "new_customer_list.groupby('region').agg({'prices': ['mean', 'min', 'max']})"
   ]
  },
  {
   "cell_type": "code",
   "execution_count": 170,
   "id": "e3e20899",
   "metadata": {},
   "outputs": [],
   "source": [
    "#line chart for customers age group and income\n",
    "#Line chart for Customers age that have most income already analysed in the previous exercise. i can't continue running the code here due to memory error"
   ]
  },
  {
   "cell_type": "code",
   "execution_count": 171,
   "id": "a2f13d85",
   "metadata": {},
   "outputs": [],
   "source": [
    "np.random.seed(4)"
   ]
  },
  {
   "cell_type": "code",
   "execution_count": 172,
   "id": "f523d489",
   "metadata": {},
   "outputs": [],
   "source": [
    "#Creating a list holding True/False values to test the np.random.rand(),=0.7\n",
    "dev = np.random.rand(len(new_customer_list)) <= 0.7"
   ]
  },
  {
   "cell_type": "code",
   "execution_count": 173,
   "id": "e18f9fad",
   "metadata": {},
   "outputs": [
    {
     "ename": "MemoryError",
     "evalue": "Unable to allocate 4.05 GiB for an array with shape (18, 30171424) and data type object",
     "output_type": "error",
     "traceback": [
      "\u001b[1;31m---------------------------------------------------------------------------\u001b[0m",
      "\u001b[1;31mMemoryError\u001b[0m                               Traceback (most recent call last)",
      "\u001b[1;32m~\\AppData\\Local\\Temp/ipykernel_12416/1574588338.py\u001b[0m in \u001b[0;36m<module>\u001b[1;34m\u001b[0m\n\u001b[0;32m      1\u001b[0m \u001b[1;31m#store 70% of the sample in data frame\u001b[0m\u001b[1;33m\u001b[0m\u001b[1;33m\u001b[0m\u001b[0m\n\u001b[1;32m----> 2\u001b[1;33m \u001b[0mbig\u001b[0m \u001b[1;33m=\u001b[0m \u001b[0mnew_customer_list\u001b[0m\u001b[1;33m[\u001b[0m\u001b[0mdev\u001b[0m\u001b[1;33m]\u001b[0m\u001b[1;33m\u001b[0m\u001b[1;33m\u001b[0m\u001b[0m\n\u001b[0m",
      "\u001b[1;32m~\\anaconda3\\lib\\site-packages\\pandas\\core\\frame.py\u001b[0m in \u001b[0;36m__getitem__\u001b[1;34m(self, key)\u001b[0m\n\u001b[0;32m   3447\u001b[0m         \u001b[1;31m# Do we have a (boolean) 1d indexer?\u001b[0m\u001b[1;33m\u001b[0m\u001b[1;33m\u001b[0m\u001b[0m\n\u001b[0;32m   3448\u001b[0m         \u001b[1;32mif\u001b[0m \u001b[0mcom\u001b[0m\u001b[1;33m.\u001b[0m\u001b[0mis_bool_indexer\u001b[0m\u001b[1;33m(\u001b[0m\u001b[0mkey\u001b[0m\u001b[1;33m)\u001b[0m\u001b[1;33m:\u001b[0m\u001b[1;33m\u001b[0m\u001b[1;33m\u001b[0m\u001b[0m\n\u001b[1;32m-> 3449\u001b[1;33m             \u001b[1;32mreturn\u001b[0m \u001b[0mself\u001b[0m\u001b[1;33m.\u001b[0m\u001b[0m_getitem_bool_array\u001b[0m\u001b[1;33m(\u001b[0m\u001b[0mkey\u001b[0m\u001b[1;33m)\u001b[0m\u001b[1;33m\u001b[0m\u001b[1;33m\u001b[0m\u001b[0m\n\u001b[0m\u001b[0;32m   3450\u001b[0m \u001b[1;33m\u001b[0m\u001b[0m\n\u001b[0;32m   3451\u001b[0m         \u001b[1;31m# We are left with two options: a single key, and a collection of keys,\u001b[0m\u001b[1;33m\u001b[0m\u001b[1;33m\u001b[0m\u001b[0m\n",
      "\u001b[1;32m~\\anaconda3\\lib\\site-packages\\pandas\\core\\frame.py\u001b[0m in \u001b[0;36m_getitem_bool_array\u001b[1;34m(self, key)\u001b[0m\n\u001b[0;32m   3502\u001b[0m         \u001b[0mkey\u001b[0m \u001b[1;33m=\u001b[0m \u001b[0mcheck_bool_indexer\u001b[0m\u001b[1;33m(\u001b[0m\u001b[0mself\u001b[0m\u001b[1;33m.\u001b[0m\u001b[0mindex\u001b[0m\u001b[1;33m,\u001b[0m \u001b[0mkey\u001b[0m\u001b[1;33m)\u001b[0m\u001b[1;33m\u001b[0m\u001b[1;33m\u001b[0m\u001b[0m\n\u001b[0;32m   3503\u001b[0m         \u001b[0mindexer\u001b[0m \u001b[1;33m=\u001b[0m \u001b[0mkey\u001b[0m\u001b[1;33m.\u001b[0m\u001b[0mnonzero\u001b[0m\u001b[1;33m(\u001b[0m\u001b[1;33m)\u001b[0m\u001b[1;33m[\u001b[0m\u001b[1;36m0\u001b[0m\u001b[1;33m]\u001b[0m\u001b[1;33m\u001b[0m\u001b[1;33m\u001b[0m\u001b[0m\n\u001b[1;32m-> 3504\u001b[1;33m         \u001b[1;32mreturn\u001b[0m \u001b[0mself\u001b[0m\u001b[1;33m.\u001b[0m\u001b[0m_take_with_is_copy\u001b[0m\u001b[1;33m(\u001b[0m\u001b[0mindexer\u001b[0m\u001b[1;33m,\u001b[0m \u001b[0maxis\u001b[0m\u001b[1;33m=\u001b[0m\u001b[1;36m0\u001b[0m\u001b[1;33m)\u001b[0m\u001b[1;33m\u001b[0m\u001b[1;33m\u001b[0m\u001b[0m\n\u001b[0m\u001b[0;32m   3505\u001b[0m \u001b[1;33m\u001b[0m\u001b[0m\n\u001b[0;32m   3506\u001b[0m     \u001b[1;32mdef\u001b[0m \u001b[0m_getitem_multilevel\u001b[0m\u001b[1;33m(\u001b[0m\u001b[0mself\u001b[0m\u001b[1;33m,\u001b[0m \u001b[0mkey\u001b[0m\u001b[1;33m)\u001b[0m\u001b[1;33m:\u001b[0m\u001b[1;33m\u001b[0m\u001b[1;33m\u001b[0m\u001b[0m\n",
      "\u001b[1;32m~\\anaconda3\\lib\\site-packages\\pandas\\core\\generic.py\u001b[0m in \u001b[0;36m_take_with_is_copy\u001b[1;34m(self, indices, axis)\u001b[0m\n\u001b[0;32m   3626\u001b[0m         \u001b[0mSee\u001b[0m \u001b[0mthe\u001b[0m \u001b[0mdocstring\u001b[0m \u001b[0mof\u001b[0m\u001b[0;31m \u001b[0m\u001b[0;31m`\u001b[0m\u001b[0mtake\u001b[0m\u001b[0;31m`\u001b[0m \u001b[1;32mfor\u001b[0m \u001b[0mfull\u001b[0m \u001b[0mexplanation\u001b[0m \u001b[0mof\u001b[0m \u001b[0mthe\u001b[0m \u001b[0mparameters\u001b[0m\u001b[1;33m.\u001b[0m\u001b[1;33m\u001b[0m\u001b[1;33m\u001b[0m\u001b[0m\n\u001b[0;32m   3627\u001b[0m         \"\"\"\n\u001b[1;32m-> 3628\u001b[1;33m         \u001b[0mresult\u001b[0m \u001b[1;33m=\u001b[0m \u001b[0mself\u001b[0m\u001b[1;33m.\u001b[0m\u001b[0mtake\u001b[0m\u001b[1;33m(\u001b[0m\u001b[0mindices\u001b[0m\u001b[1;33m=\u001b[0m\u001b[0mindices\u001b[0m\u001b[1;33m,\u001b[0m \u001b[0maxis\u001b[0m\u001b[1;33m=\u001b[0m\u001b[0maxis\u001b[0m\u001b[1;33m)\u001b[0m\u001b[1;33m\u001b[0m\u001b[1;33m\u001b[0m\u001b[0m\n\u001b[0m\u001b[0;32m   3629\u001b[0m         \u001b[1;31m# Maybe set copy if we didn't actually change the index.\u001b[0m\u001b[1;33m\u001b[0m\u001b[1;33m\u001b[0m\u001b[0m\n\u001b[0;32m   3630\u001b[0m         \u001b[1;32mif\u001b[0m \u001b[1;32mnot\u001b[0m \u001b[0mresult\u001b[0m\u001b[1;33m.\u001b[0m\u001b[0m_get_axis\u001b[0m\u001b[1;33m(\u001b[0m\u001b[0maxis\u001b[0m\u001b[1;33m)\u001b[0m\u001b[1;33m.\u001b[0m\u001b[0mequals\u001b[0m\u001b[1;33m(\u001b[0m\u001b[0mself\u001b[0m\u001b[1;33m.\u001b[0m\u001b[0m_get_axis\u001b[0m\u001b[1;33m(\u001b[0m\u001b[0maxis\u001b[0m\u001b[1;33m)\u001b[0m\u001b[1;33m)\u001b[0m\u001b[1;33m:\u001b[0m\u001b[1;33m\u001b[0m\u001b[1;33m\u001b[0m\u001b[0m\n",
      "\u001b[1;32m~\\anaconda3\\lib\\site-packages\\pandas\\core\\generic.py\u001b[0m in \u001b[0;36mtake\u001b[1;34m(self, indices, axis, is_copy, **kwargs)\u001b[0m\n\u001b[0;32m   3611\u001b[0m         \u001b[0mnv\u001b[0m\u001b[1;33m.\u001b[0m\u001b[0mvalidate_take\u001b[0m\u001b[1;33m(\u001b[0m\u001b[1;33m(\u001b[0m\u001b[1;33m)\u001b[0m\u001b[1;33m,\u001b[0m \u001b[0mkwargs\u001b[0m\u001b[1;33m)\u001b[0m\u001b[1;33m\u001b[0m\u001b[1;33m\u001b[0m\u001b[0m\n\u001b[0;32m   3612\u001b[0m \u001b[1;33m\u001b[0m\u001b[0m\n\u001b[1;32m-> 3613\u001b[1;33m         \u001b[0mself\u001b[0m\u001b[1;33m.\u001b[0m\u001b[0m_consolidate_inplace\u001b[0m\u001b[1;33m(\u001b[0m\u001b[1;33m)\u001b[0m\u001b[1;33m\u001b[0m\u001b[1;33m\u001b[0m\u001b[0m\n\u001b[0m\u001b[0;32m   3614\u001b[0m \u001b[1;33m\u001b[0m\u001b[0m\n\u001b[0;32m   3615\u001b[0m         new_data = self._mgr.take(\n",
      "\u001b[1;32m~\\anaconda3\\lib\\site-packages\\pandas\\core\\generic.py\u001b[0m in \u001b[0;36m_consolidate_inplace\u001b[1;34m(self)\u001b[0m\n\u001b[0;32m   5563\u001b[0m             \u001b[0mself\u001b[0m\u001b[1;33m.\u001b[0m\u001b[0m_mgr\u001b[0m \u001b[1;33m=\u001b[0m \u001b[0mself\u001b[0m\u001b[1;33m.\u001b[0m\u001b[0m_mgr\u001b[0m\u001b[1;33m.\u001b[0m\u001b[0mconsolidate\u001b[0m\u001b[1;33m(\u001b[0m\u001b[1;33m)\u001b[0m\u001b[1;33m\u001b[0m\u001b[1;33m\u001b[0m\u001b[0m\n\u001b[0;32m   5564\u001b[0m \u001b[1;33m\u001b[0m\u001b[0m\n\u001b[1;32m-> 5565\u001b[1;33m         \u001b[0mself\u001b[0m\u001b[1;33m.\u001b[0m\u001b[0m_protect_consolidate\u001b[0m\u001b[1;33m(\u001b[0m\u001b[0mf\u001b[0m\u001b[1;33m)\u001b[0m\u001b[1;33m\u001b[0m\u001b[1;33m\u001b[0m\u001b[0m\n\u001b[0m\u001b[0;32m   5566\u001b[0m \u001b[1;33m\u001b[0m\u001b[0m\n\u001b[0;32m   5567\u001b[0m     \u001b[1;33m@\u001b[0m\u001b[0mfinal\u001b[0m\u001b[1;33m\u001b[0m\u001b[1;33m\u001b[0m\u001b[0m\n",
      "\u001b[1;32m~\\anaconda3\\lib\\site-packages\\pandas\\core\\generic.py\u001b[0m in \u001b[0;36m_protect_consolidate\u001b[1;34m(self, f)\u001b[0m\n\u001b[0;32m   5551\u001b[0m             \u001b[1;32mreturn\u001b[0m \u001b[0mf\u001b[0m\u001b[1;33m(\u001b[0m\u001b[1;33m)\u001b[0m\u001b[1;33m\u001b[0m\u001b[1;33m\u001b[0m\u001b[0m\n\u001b[0;32m   5552\u001b[0m         \u001b[0mblocks_before\u001b[0m \u001b[1;33m=\u001b[0m \u001b[0mlen\u001b[0m\u001b[1;33m(\u001b[0m\u001b[0mself\u001b[0m\u001b[1;33m.\u001b[0m\u001b[0m_mgr\u001b[0m\u001b[1;33m.\u001b[0m\u001b[0mblocks\u001b[0m\u001b[1;33m)\u001b[0m\u001b[1;33m\u001b[0m\u001b[1;33m\u001b[0m\u001b[0m\n\u001b[1;32m-> 5553\u001b[1;33m         \u001b[0mresult\u001b[0m \u001b[1;33m=\u001b[0m \u001b[0mf\u001b[0m\u001b[1;33m(\u001b[0m\u001b[1;33m)\u001b[0m\u001b[1;33m\u001b[0m\u001b[1;33m\u001b[0m\u001b[0m\n\u001b[0m\u001b[0;32m   5554\u001b[0m         \u001b[1;32mif\u001b[0m \u001b[0mlen\u001b[0m\u001b[1;33m(\u001b[0m\u001b[0mself\u001b[0m\u001b[1;33m.\u001b[0m\u001b[0m_mgr\u001b[0m\u001b[1;33m.\u001b[0m\u001b[0mblocks\u001b[0m\u001b[1;33m)\u001b[0m \u001b[1;33m!=\u001b[0m \u001b[0mblocks_before\u001b[0m\u001b[1;33m:\u001b[0m\u001b[1;33m\u001b[0m\u001b[1;33m\u001b[0m\u001b[0m\n\u001b[0;32m   5555\u001b[0m             \u001b[0mself\u001b[0m\u001b[1;33m.\u001b[0m\u001b[0m_clear_item_cache\u001b[0m\u001b[1;33m(\u001b[0m\u001b[1;33m)\u001b[0m\u001b[1;33m\u001b[0m\u001b[1;33m\u001b[0m\u001b[0m\n",
      "\u001b[1;32m~\\anaconda3\\lib\\site-packages\\pandas\\core\\generic.py\u001b[0m in \u001b[0;36mf\u001b[1;34m()\u001b[0m\n\u001b[0;32m   5561\u001b[0m \u001b[1;33m\u001b[0m\u001b[0m\n\u001b[0;32m   5562\u001b[0m         \u001b[1;32mdef\u001b[0m \u001b[0mf\u001b[0m\u001b[1;33m(\u001b[0m\u001b[1;33m)\u001b[0m\u001b[1;33m:\u001b[0m\u001b[1;33m\u001b[0m\u001b[1;33m\u001b[0m\u001b[0m\n\u001b[1;32m-> 5563\u001b[1;33m             \u001b[0mself\u001b[0m\u001b[1;33m.\u001b[0m\u001b[0m_mgr\u001b[0m \u001b[1;33m=\u001b[0m \u001b[0mself\u001b[0m\u001b[1;33m.\u001b[0m\u001b[0m_mgr\u001b[0m\u001b[1;33m.\u001b[0m\u001b[0mconsolidate\u001b[0m\u001b[1;33m(\u001b[0m\u001b[1;33m)\u001b[0m\u001b[1;33m\u001b[0m\u001b[1;33m\u001b[0m\u001b[0m\n\u001b[0m\u001b[0;32m   5564\u001b[0m \u001b[1;33m\u001b[0m\u001b[0m\n\u001b[0;32m   5565\u001b[0m         \u001b[0mself\u001b[0m\u001b[1;33m.\u001b[0m\u001b[0m_protect_consolidate\u001b[0m\u001b[1;33m(\u001b[0m\u001b[0mf\u001b[0m\u001b[1;33m)\u001b[0m\u001b[1;33m\u001b[0m\u001b[1;33m\u001b[0m\u001b[0m\n",
      "\u001b[1;32m~\\anaconda3\\lib\\site-packages\\pandas\\core\\internals\\managers.py\u001b[0m in \u001b[0;36mconsolidate\u001b[1;34m(self)\u001b[0m\n\u001b[0;32m    617\u001b[0m         \u001b[0mbm\u001b[0m \u001b[1;33m=\u001b[0m \u001b[0mtype\u001b[0m\u001b[1;33m(\u001b[0m\u001b[0mself\u001b[0m\u001b[1;33m)\u001b[0m\u001b[1;33m(\u001b[0m\u001b[0mself\u001b[0m\u001b[1;33m.\u001b[0m\u001b[0mblocks\u001b[0m\u001b[1;33m,\u001b[0m \u001b[0mself\u001b[0m\u001b[1;33m.\u001b[0m\u001b[0maxes\u001b[0m\u001b[1;33m,\u001b[0m \u001b[0mverify_integrity\u001b[0m\u001b[1;33m=\u001b[0m\u001b[1;32mFalse\u001b[0m\u001b[1;33m)\u001b[0m\u001b[1;33m\u001b[0m\u001b[1;33m\u001b[0m\u001b[0m\n\u001b[0;32m    618\u001b[0m         \u001b[0mbm\u001b[0m\u001b[1;33m.\u001b[0m\u001b[0m_is_consolidated\u001b[0m \u001b[1;33m=\u001b[0m \u001b[1;32mFalse\u001b[0m\u001b[1;33m\u001b[0m\u001b[1;33m\u001b[0m\u001b[0m\n\u001b[1;32m--> 619\u001b[1;33m         \u001b[0mbm\u001b[0m\u001b[1;33m.\u001b[0m\u001b[0m_consolidate_inplace\u001b[0m\u001b[1;33m(\u001b[0m\u001b[1;33m)\u001b[0m\u001b[1;33m\u001b[0m\u001b[1;33m\u001b[0m\u001b[0m\n\u001b[0m\u001b[0;32m    620\u001b[0m         \u001b[1;32mreturn\u001b[0m \u001b[0mbm\u001b[0m\u001b[1;33m\u001b[0m\u001b[1;33m\u001b[0m\u001b[0m\n\u001b[0;32m    621\u001b[0m \u001b[1;33m\u001b[0m\u001b[0m\n",
      "\u001b[1;32m~\\anaconda3\\lib\\site-packages\\pandas\\core\\internals\\managers.py\u001b[0m in \u001b[0;36m_consolidate_inplace\u001b[1;34m(self)\u001b[0m\n\u001b[0;32m    622\u001b[0m     \u001b[1;32mdef\u001b[0m \u001b[0m_consolidate_inplace\u001b[0m\u001b[1;33m(\u001b[0m\u001b[0mself\u001b[0m\u001b[1;33m)\u001b[0m \u001b[1;33m->\u001b[0m \u001b[1;32mNone\u001b[0m\u001b[1;33m:\u001b[0m\u001b[1;33m\u001b[0m\u001b[1;33m\u001b[0m\u001b[0m\n\u001b[0;32m    623\u001b[0m         \u001b[1;32mif\u001b[0m \u001b[1;32mnot\u001b[0m \u001b[0mself\u001b[0m\u001b[1;33m.\u001b[0m\u001b[0mis_consolidated\u001b[0m\u001b[1;33m(\u001b[0m\u001b[1;33m)\u001b[0m\u001b[1;33m:\u001b[0m\u001b[1;33m\u001b[0m\u001b[1;33m\u001b[0m\u001b[0m\n\u001b[1;32m--> 624\u001b[1;33m             \u001b[0mself\u001b[0m\u001b[1;33m.\u001b[0m\u001b[0mblocks\u001b[0m \u001b[1;33m=\u001b[0m \u001b[0mtuple\u001b[0m\u001b[1;33m(\u001b[0m\u001b[0m_consolidate\u001b[0m\u001b[1;33m(\u001b[0m\u001b[0mself\u001b[0m\u001b[1;33m.\u001b[0m\u001b[0mblocks\u001b[0m\u001b[1;33m)\u001b[0m\u001b[1;33m)\u001b[0m\u001b[1;33m\u001b[0m\u001b[1;33m\u001b[0m\u001b[0m\n\u001b[0m\u001b[0;32m    625\u001b[0m             \u001b[0mself\u001b[0m\u001b[1;33m.\u001b[0m\u001b[0m_is_consolidated\u001b[0m \u001b[1;33m=\u001b[0m \u001b[1;32mTrue\u001b[0m\u001b[1;33m\u001b[0m\u001b[1;33m\u001b[0m\u001b[0m\n\u001b[0;32m    626\u001b[0m             \u001b[0mself\u001b[0m\u001b[1;33m.\u001b[0m\u001b[0m_known_consolidated\u001b[0m \u001b[1;33m=\u001b[0m \u001b[1;32mTrue\u001b[0m\u001b[1;33m\u001b[0m\u001b[1;33m\u001b[0m\u001b[0m\n",
      "\u001b[1;32m~\\anaconda3\\lib\\site-packages\\pandas\\core\\internals\\managers.py\u001b[0m in \u001b[0;36m_consolidate\u001b[1;34m(blocks)\u001b[0m\n\u001b[0;32m   1972\u001b[0m     \u001b[0mnew_blocks\u001b[0m\u001b[1;33m:\u001b[0m \u001b[0mlist\u001b[0m\u001b[1;33m[\u001b[0m\u001b[0mBlock\u001b[0m\u001b[1;33m]\u001b[0m \u001b[1;33m=\u001b[0m \u001b[1;33m[\u001b[0m\u001b[1;33m]\u001b[0m\u001b[1;33m\u001b[0m\u001b[1;33m\u001b[0m\u001b[0m\n\u001b[0;32m   1973\u001b[0m     \u001b[1;32mfor\u001b[0m \u001b[1;33m(\u001b[0m\u001b[0m_can_consolidate\u001b[0m\u001b[1;33m,\u001b[0m \u001b[0mdtype\u001b[0m\u001b[1;33m)\u001b[0m\u001b[1;33m,\u001b[0m \u001b[0mgroup_blocks\u001b[0m \u001b[1;32min\u001b[0m \u001b[0mgrouper\u001b[0m\u001b[1;33m:\u001b[0m\u001b[1;33m\u001b[0m\u001b[1;33m\u001b[0m\u001b[0m\n\u001b[1;32m-> 1974\u001b[1;33m         merged_blocks = _merge_blocks(\n\u001b[0m\u001b[0;32m   1975\u001b[0m             \u001b[0mlist\u001b[0m\u001b[1;33m(\u001b[0m\u001b[0mgroup_blocks\u001b[0m\u001b[1;33m)\u001b[0m\u001b[1;33m,\u001b[0m \u001b[0mdtype\u001b[0m\u001b[1;33m=\u001b[0m\u001b[0mdtype\u001b[0m\u001b[1;33m,\u001b[0m \u001b[0mcan_consolidate\u001b[0m\u001b[1;33m=\u001b[0m\u001b[0m_can_consolidate\u001b[0m\u001b[1;33m\u001b[0m\u001b[1;33m\u001b[0m\u001b[0m\n\u001b[0;32m   1976\u001b[0m         )\n",
      "\u001b[1;32m~\\anaconda3\\lib\\site-packages\\pandas\\core\\internals\\managers.py\u001b[0m in \u001b[0;36m_merge_blocks\u001b[1;34m(blocks, dtype, can_consolidate)\u001b[0m\n\u001b[0;32m   2006\u001b[0m \u001b[1;33m\u001b[0m\u001b[0m\n\u001b[0;32m   2007\u001b[0m         \u001b[0margsort\u001b[0m \u001b[1;33m=\u001b[0m \u001b[0mnp\u001b[0m\u001b[1;33m.\u001b[0m\u001b[0margsort\u001b[0m\u001b[1;33m(\u001b[0m\u001b[0mnew_mgr_locs\u001b[0m\u001b[1;33m)\u001b[0m\u001b[1;33m\u001b[0m\u001b[1;33m\u001b[0m\u001b[0m\n\u001b[1;32m-> 2008\u001b[1;33m         \u001b[0mnew_values\u001b[0m \u001b[1;33m=\u001b[0m \u001b[0mnew_values\u001b[0m\u001b[1;33m[\u001b[0m\u001b[0margsort\u001b[0m\u001b[1;33m]\u001b[0m\u001b[1;33m\u001b[0m\u001b[1;33m\u001b[0m\u001b[0m\n\u001b[0m\u001b[0;32m   2009\u001b[0m         \u001b[0mnew_mgr_locs\u001b[0m \u001b[1;33m=\u001b[0m \u001b[0mnew_mgr_locs\u001b[0m\u001b[1;33m[\u001b[0m\u001b[0margsort\u001b[0m\u001b[1;33m]\u001b[0m\u001b[1;33m\u001b[0m\u001b[1;33m\u001b[0m\u001b[0m\n\u001b[0;32m   2010\u001b[0m \u001b[1;33m\u001b[0m\u001b[0m\n",
      "\u001b[1;31mMemoryError\u001b[0m: Unable to allocate 4.05 GiB for an array with shape (18, 30171424) and data type object"
     ]
    }
   ],
   "source": [
    "#store 70% of the sample in data frame\n",
    "big = new_customer_list[dev]"
   ]
  },
  {
   "cell_type": "code",
   "execution_count": 174,
   "id": "bbf5433a",
   "metadata": {},
   "outputs": [],
   "source": [
    "# Question 8: Compare your customer profiles with regions and departments. Can you identify a link between them? Customers may demonstrate different behaviors across regions, which could make this information important."
   ]
  },
  {
   "cell_type": "code",
   "execution_count": 175,
   "id": "fb5947c3",
   "metadata": {},
   "outputs": [],
   "source": [
    "#Answer... Graph and comparison is being shown in excel"
   ]
  },
  {
   "cell_type": "code",
   "execution_count": 176,
   "id": "95141c64",
   "metadata": {},
   "outputs": [],
   "source": [
    "# Question 9: Produce suitable charts to illustrate your results and export them in your project folder.\n",
    "#Answer: Graphs and comparisons shown in attached Excel spreadsheet"
   ]
  },
  {
   "cell_type": "code",
   "execution_count": 177,
   "id": "a03bba66",
   "metadata": {},
   "outputs": [],
   "source": [
    "# Question 10: Tidy up your script, export your final data set, and save your notebook."
   ]
  },
  {
   "cell_type": "code",
   "execution_count": null,
   "id": "4c44bba8",
   "metadata": {},
   "outputs": [],
   "source": []
  }
 ],
 "metadata": {
  "kernelspec": {
   "display_name": "Python 3 (ipykernel)",
   "language": "python",
   "name": "python3"
  },
  "language_info": {
   "codemirror_mode": {
    "name": "ipython",
    "version": 3
   },
   "file_extension": ".py",
   "mimetype": "text/x-python",
   "name": "python",
   "nbconvert_exporter": "python",
   "pygments_lexer": "ipython3",
   "version": "3.9.7"
  }
 },
 "nbformat": 4,
 "nbformat_minor": 5
}
