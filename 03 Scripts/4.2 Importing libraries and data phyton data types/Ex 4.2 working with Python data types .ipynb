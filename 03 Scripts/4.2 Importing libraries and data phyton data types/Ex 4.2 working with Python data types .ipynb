{
 "cells": [
  {
   "cell_type": "markdown",
   "id": "1c12b17a",
   "metadata": {},
   "source": [
    "# working with Python data types"
   ]
  },
  {
   "cell_type": "code",
   "execution_count": 1,
   "id": "c2186a81",
   "metadata": {},
   "outputs": [],
   "source": [
    "# Import libraries\n",
    "import pandas as pd\n",
    "import numpy as np\n",
    "import os"
   ]
  },
  {
   "cell_type": "code",
   "execution_count": 3,
   "id": "21d1b137",
   "metadata": {},
   "outputs": [],
   "source": [
    "x = 2"
   ]
  },
  {
   "cell_type": "code",
   "execution_count": 4,
   "id": "80d3014a",
   "metadata": {},
   "outputs": [
    {
     "data": {
      "text/plain": [
       "int"
      ]
     },
     "execution_count": 4,
     "metadata": {},
     "output_type": "execute_result"
    }
   ],
   "source": [
    "type(x)"
   ]
  },
  {
   "cell_type": "code",
   "execution_count": 5,
   "id": "5d177118",
   "metadata": {},
   "outputs": [
    {
     "name": "stdout",
     "output_type": "stream",
     "text": [
      "2\n"
     ]
    }
   ],
   "source": [
    "print(x)"
   ]
  },
  {
   "cell_type": "code",
   "execution_count": 6,
   "id": "3ae5b9f2",
   "metadata": {},
   "outputs": [],
   "source": [
    "x = x * 50"
   ]
  },
  {
   "cell_type": "code",
   "execution_count": 7,
   "id": "6a0b64cc",
   "metadata": {},
   "outputs": [
    {
     "name": "stdout",
     "output_type": "stream",
     "text": [
      "100\n"
     ]
    }
   ],
   "source": [
    "print(x)"
   ]
  },
  {
   "cell_type": "code",
   "execution_count": 8,
   "id": "bcb186e8",
   "metadata": {},
   "outputs": [],
   "source": [
    "x = 2"
   ]
  },
  {
   "cell_type": "code",
   "execution_count": 9,
   "id": "dcdd5ec7",
   "metadata": {},
   "outputs": [
    {
     "name": "stdout",
     "output_type": "stream",
     "text": [
      "2\n"
     ]
    }
   ],
   "source": [
    "print(x)"
   ]
  },
  {
   "cell_type": "markdown",
   "id": "71211158",
   "metadata": {},
   "source": [
    "# Code 3 different ways of reaching a result of 100 by adding or subracting variables"
   ]
  },
  {
   "cell_type": "code",
   "execution_count": 10,
   "id": "62549c77",
   "metadata": {},
   "outputs": [],
   "source": [
    "x = 50"
   ]
  },
  {
   "cell_type": "code",
   "execution_count": 11,
   "id": "abb8067c",
   "metadata": {},
   "outputs": [],
   "source": [
    "y = 50"
   ]
  },
  {
   "cell_type": "code",
   "execution_count": 12,
   "id": "fd92e186",
   "metadata": {},
   "outputs": [
    {
     "data": {
      "text/plain": [
       "100"
      ]
     },
     "execution_count": 12,
     "metadata": {},
     "output_type": "execute_result"
    }
   ],
   "source": [
    "x + y"
   ]
  },
  {
   "cell_type": "code",
   "execution_count": 13,
   "id": "ddcf5c25",
   "metadata": {},
   "outputs": [],
   "source": [
    "x = 200"
   ]
  },
  {
   "cell_type": "code",
   "execution_count": 14,
   "id": "62e37441",
   "metadata": {},
   "outputs": [],
   "source": [
    "y = 100"
   ]
  },
  {
   "cell_type": "code",
   "execution_count": 15,
   "id": "00340f6c",
   "metadata": {},
   "outputs": [
    {
     "data": {
      "text/plain": [
       "100"
      ]
     },
     "execution_count": 15,
     "metadata": {},
     "output_type": "execute_result"
    }
   ],
   "source": [
    "x - y"
   ]
  },
  {
   "cell_type": "code",
   "execution_count": 16,
   "id": "9172e4fb",
   "metadata": {},
   "outputs": [],
   "source": [
    "x = 145"
   ]
  },
  {
   "cell_type": "code",
   "execution_count": 17,
   "id": "258c278a",
   "metadata": {},
   "outputs": [],
   "source": [
    "y = 45"
   ]
  },
  {
   "cell_type": "code",
   "execution_count": 18,
   "id": "f34a9640",
   "metadata": {},
   "outputs": [
    {
     "data": {
      "text/plain": [
       "100"
      ]
     },
     "execution_count": 18,
     "metadata": {},
     "output_type": "execute_result"
    }
   ],
   "source": [
    "x - y"
   ]
  },
  {
   "cell_type": "markdown",
   "id": "9ad281c1",
   "metadata": {},
   "source": [
    "# code 2 floating-point variables and divide them by each other"
   ]
  },
  {
   "cell_type": "code",
   "execution_count": 19,
   "id": "ee87d8ea",
   "metadata": {},
   "outputs": [],
   "source": [
    "x = 456.32"
   ]
  },
  {
   "cell_type": "code",
   "execution_count": 20,
   "id": "a13f509f",
   "metadata": {},
   "outputs": [],
   "source": [
    "y = 98.46"
   ]
  },
  {
   "cell_type": "code",
   "execution_count": 21,
   "id": "d1f62277",
   "metadata": {},
   "outputs": [
    {
     "name": "stdout",
     "output_type": "stream",
     "text": [
      "4.634572415193988\n"
     ]
    }
   ],
   "source": [
    "print(x / y)"
   ]
  },
  {
   "cell_type": "markdown",
   "id": "e4754458",
   "metadata": {},
   "source": [
    "# construct a short word made of seperate strings"
   ]
  },
  {
   "cell_type": "code",
   "execution_count": 22,
   "id": "02a21675",
   "metadata": {},
   "outputs": [],
   "source": [
    "a = 'Hello, how can i work with'"
   ]
  },
  {
   "cell_type": "code",
   "execution_count": 23,
   "id": "10468a91",
   "metadata": {},
   "outputs": [],
   "source": [
    "b = 'Python'"
   ]
  },
  {
   "cell_type": "code",
   "execution_count": 26,
   "id": "8b9b90ea",
   "metadata": {},
   "outputs": [
    {
     "name": "stdout",
     "output_type": "stream",
     "text": [
      "Hello, how can i work withPython\n"
     ]
    }
   ],
   "source": [
    "print(a + b)"
   ]
  },
  {
   "cell_type": "markdown",
   "id": "042e554f",
   "metadata": {},
   "source": [
    "Construct 2 short sentences made of seperate strings"
   ]
  },
  {
   "cell_type": "code",
   "execution_count": 30,
   "id": "d8adabca",
   "metadata": {},
   "outputs": [],
   "source": [
    "a = 'Hello world I am new to this programming world', 'I hope, i will find a good tutor'"
   ]
  },
  {
   "cell_type": "code",
   "execution_count": 31,
   "id": "86f37fe5",
   "metadata": {},
   "outputs": [
    {
     "name": "stdout",
     "output_type": "stream",
     "text": [
      "('Hello world I am new to this programming world', 'I hope, i will find a good tutor')\n"
     ]
    }
   ],
   "source": [
    "print(a)"
   ]
  },
  {
   "cell_type": "code",
   "execution_count": null,
   "id": "e73c2346",
   "metadata": {},
   "outputs": [],
   "source": []
  }
 ],
 "metadata": {
  "kernelspec": {
   "display_name": "Python 3 (ipykernel)",
   "language": "python",
   "name": "python3"
  },
  "language_info": {
   "codemirror_mode": {
    "name": "ipython",
    "version": 3
   },
   "file_extension": ".py",
   "mimetype": "text/x-python",
   "name": "python",
   "nbconvert_exporter": "python",
   "pygments_lexer": "ipython3",
   "version": "3.9.7"
  }
 },
 "nbformat": 4,
 "nbformat_minor": 5
}
