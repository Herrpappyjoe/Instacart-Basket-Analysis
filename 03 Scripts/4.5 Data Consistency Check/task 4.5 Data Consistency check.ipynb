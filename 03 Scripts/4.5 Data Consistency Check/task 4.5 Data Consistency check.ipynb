{
 "cells": [
  {
   "cell_type": "markdown",
   "id": "3d563bf2",
   "metadata": {},
   "source": [
    "# Data Consistency Check"
   ]
  },
  {
   "cell_type": "code",
   "execution_count": 3,
   "id": "059a2204",
   "metadata": {},
   "outputs": [],
   "source": [
    "# Import Libraries\n",
    "import pandas as pd\n",
    "import numpy as np\n",
    "import os"
   ]
  },
  {
   "cell_type": "code",
   "execution_count": 4,
   "id": "f9a5e32e",
   "metadata": {},
   "outputs": [],
   "source": [
    "df_prods = pd.read_csv(r'C:\\Users\\klein\\Instacart Basket Analysis\\02 Data\\Original Data\\products.csv', index_col = False)"
   ]
  },
  {
   "cell_type": "code",
   "execution_count": 5,
   "id": "541b6a72",
   "metadata": {},
   "outputs": [],
   "source": [
    "path = r'C:\\Users\\klein\\Instacart Basket Analysis'"
   ]
  },
  {
   "cell_type": "code",
   "execution_count": 6,
   "id": "e8e3d370",
   "metadata": {},
   "outputs": [
    {
     "data": {
      "text/plain": [
       "'C:\\\\Users\\\\klein\\\\Instacart Basket Analysis'"
      ]
     },
     "execution_count": 6,
     "metadata": {},
     "output_type": "execute_result"
    }
   ],
   "source": [
    "path"
   ]
  },
  {
   "cell_type": "code",
   "execution_count": 7,
   "id": "4679f226",
   "metadata": {},
   "outputs": [],
   "source": [
    "df_prods = pd.read_csv(os.path.join(path, '02 Data', 'Original Data', 'products.csv'), index_col = False)"
   ]
  },
  {
   "cell_type": "code",
   "execution_count": 9,
   "id": "1bea05ea",
   "metadata": {},
   "outputs": [],
   "source": [
    "df_ords = pd.read_csv(r'C:\\Users\\klein\\Instacart Basket Analysis\\02 Data\\Original Data\\orders.csv', index_col = False)"
   ]
  },
  {
   "cell_type": "code",
   "execution_count": 10,
   "id": "3c1ac61f",
   "metadata": {},
   "outputs": [],
   "source": [
    "path = r'C:\\Users\\klein\\Instacart Basket Analysis'"
   ]
  },
  {
   "cell_type": "code",
   "execution_count": 11,
   "id": "9c7c9f71",
   "metadata": {},
   "outputs": [
    {
     "data": {
      "text/plain": [
       "'C:\\\\Users\\\\klein\\\\Instacart Basket Analysis'"
      ]
     },
     "execution_count": 11,
     "metadata": {},
     "output_type": "execute_result"
    }
   ],
   "source": [
    "path"
   ]
  },
  {
   "cell_type": "code",
   "execution_count": 12,
   "id": "b3ffbae1",
   "metadata": {},
   "outputs": [],
   "source": [
    "df_ords = pd.read_csv(os.path.join(path, '02 Data', 'Original Data', 'orders.csv'), index_col = False)"
   ]
  },
  {
   "cell_type": "code",
   "execution_count": 13,
   "id": "a2c2a189",
   "metadata": {},
   "outputs": [],
   "source": [
    "#Importing orders_wranlged.csv from prepared data\n",
    "df_ords = pd.read_csv(os.path.join(path, '02 Data', 'Prepared Data', 'orders_wrangled.csv'), index_col = False)"
   ]
  },
  {
   "cell_type": "code",
   "execution_count": 14,
   "id": "dbfe3d78",
   "metadata": {},
   "outputs": [
    {
     "data": {
      "text/html": [
       "<div>\n",
       "<style scoped>\n",
       "    .dataframe tbody tr th:only-of-type {\n",
       "        vertical-align: middle;\n",
       "    }\n",
       "\n",
       "    .dataframe tbody tr th {\n",
       "        vertical-align: top;\n",
       "    }\n",
       "\n",
       "    .dataframe thead th {\n",
       "        text-align: right;\n",
       "    }\n",
       "</style>\n",
       "<table border=\"1\" class=\"dataframe\">\n",
       "  <thead>\n",
       "    <tr style=\"text-align: right;\">\n",
       "      <th></th>\n",
       "      <th>Unnamed: 0</th>\n",
       "      <th>order_id</th>\n",
       "      <th>user_id</th>\n",
       "      <th>order_number</th>\n",
       "      <th>orders_day_of_week</th>\n",
       "      <th>order_hour_of_day</th>\n",
       "      <th>days_since_prior_order</th>\n",
       "    </tr>\n",
       "  </thead>\n",
       "  <tbody>\n",
       "    <tr>\n",
       "      <th>count</th>\n",
       "      <td>3.421083e+06</td>\n",
       "      <td>3.421083e+06</td>\n",
       "      <td>3.421083e+06</td>\n",
       "      <td>3.421083e+06</td>\n",
       "      <td>3.421083e+06</td>\n",
       "      <td>3.421083e+06</td>\n",
       "      <td>3.214874e+06</td>\n",
       "    </tr>\n",
       "    <tr>\n",
       "      <th>mean</th>\n",
       "      <td>1.710541e+06</td>\n",
       "      <td>1.710542e+06</td>\n",
       "      <td>1.029782e+05</td>\n",
       "      <td>1.715486e+01</td>\n",
       "      <td>2.776219e+00</td>\n",
       "      <td>1.345202e+01</td>\n",
       "      <td>1.111484e+01</td>\n",
       "    </tr>\n",
       "    <tr>\n",
       "      <th>std</th>\n",
       "      <td>9.875817e+05</td>\n",
       "      <td>9.875817e+05</td>\n",
       "      <td>5.953372e+04</td>\n",
       "      <td>1.773316e+01</td>\n",
       "      <td>2.046829e+00</td>\n",
       "      <td>4.226088e+00</td>\n",
       "      <td>9.206737e+00</td>\n",
       "    </tr>\n",
       "    <tr>\n",
       "      <th>min</th>\n",
       "      <td>0.000000e+00</td>\n",
       "      <td>1.000000e+00</td>\n",
       "      <td>1.000000e+00</td>\n",
       "      <td>1.000000e+00</td>\n",
       "      <td>0.000000e+00</td>\n",
       "      <td>0.000000e+00</td>\n",
       "      <td>0.000000e+00</td>\n",
       "    </tr>\n",
       "    <tr>\n",
       "      <th>25%</th>\n",
       "      <td>8.552705e+05</td>\n",
       "      <td>8.552715e+05</td>\n",
       "      <td>5.139400e+04</td>\n",
       "      <td>5.000000e+00</td>\n",
       "      <td>1.000000e+00</td>\n",
       "      <td>1.000000e+01</td>\n",
       "      <td>4.000000e+00</td>\n",
       "    </tr>\n",
       "    <tr>\n",
       "      <th>50%</th>\n",
       "      <td>1.710541e+06</td>\n",
       "      <td>1.710542e+06</td>\n",
       "      <td>1.026890e+05</td>\n",
       "      <td>1.100000e+01</td>\n",
       "      <td>3.000000e+00</td>\n",
       "      <td>1.300000e+01</td>\n",
       "      <td>7.000000e+00</td>\n",
       "    </tr>\n",
       "    <tr>\n",
       "      <th>75%</th>\n",
       "      <td>2.565812e+06</td>\n",
       "      <td>2.565812e+06</td>\n",
       "      <td>1.543850e+05</td>\n",
       "      <td>2.300000e+01</td>\n",
       "      <td>5.000000e+00</td>\n",
       "      <td>1.600000e+01</td>\n",
       "      <td>1.500000e+01</td>\n",
       "    </tr>\n",
       "    <tr>\n",
       "      <th>max</th>\n",
       "      <td>3.421082e+06</td>\n",
       "      <td>3.421083e+06</td>\n",
       "      <td>2.062090e+05</td>\n",
       "      <td>1.000000e+02</td>\n",
       "      <td>6.000000e+00</td>\n",
       "      <td>2.300000e+01</td>\n",
       "      <td>3.000000e+01</td>\n",
       "    </tr>\n",
       "  </tbody>\n",
       "</table>\n",
       "</div>"
      ],
      "text/plain": [
       "         Unnamed: 0      order_id       user_id  order_number  \\\n",
       "count  3.421083e+06  3.421083e+06  3.421083e+06  3.421083e+06   \n",
       "mean   1.710541e+06  1.710542e+06  1.029782e+05  1.715486e+01   \n",
       "std    9.875817e+05  9.875817e+05  5.953372e+04  1.773316e+01   \n",
       "min    0.000000e+00  1.000000e+00  1.000000e+00  1.000000e+00   \n",
       "25%    8.552705e+05  8.552715e+05  5.139400e+04  5.000000e+00   \n",
       "50%    1.710541e+06  1.710542e+06  1.026890e+05  1.100000e+01   \n",
       "75%    2.565812e+06  2.565812e+06  1.543850e+05  2.300000e+01   \n",
       "max    3.421082e+06  3.421083e+06  2.062090e+05  1.000000e+02   \n",
       "\n",
       "       orders_day_of_week  order_hour_of_day  days_since_prior_order  \n",
       "count        3.421083e+06       3.421083e+06            3.214874e+06  \n",
       "mean         2.776219e+00       1.345202e+01            1.111484e+01  \n",
       "std          2.046829e+00       4.226088e+00            9.206737e+00  \n",
       "min          0.000000e+00       0.000000e+00            0.000000e+00  \n",
       "25%          1.000000e+00       1.000000e+01            4.000000e+00  \n",
       "50%          3.000000e+00       1.300000e+01            7.000000e+00  \n",
       "75%          5.000000e+00       1.600000e+01            1.500000e+01  \n",
       "max          6.000000e+00       2.300000e+01            3.000000e+01  "
      ]
     },
     "execution_count": 14,
     "metadata": {},
     "output_type": "execute_result"
    }
   ],
   "source": [
    "df_ords.describe()"
   ]
  },
  {
   "cell_type": "code",
   "execution_count": 15,
   "id": "0c556902",
   "metadata": {},
   "outputs": [],
   "source": [
    "#checking for mixed data type\n",
    "df_test = pd.DataFrame()"
   ]
  },
  {
   "cell_type": "code",
   "execution_count": 16,
   "id": "0e625f42",
   "metadata": {},
   "outputs": [],
   "source": [
    "df_test['mix'] = ['a', 'b', '1', True]"
   ]
  },
  {
   "cell_type": "code",
   "execution_count": 17,
   "id": "b28c2cdc",
   "metadata": {},
   "outputs": [
    {
     "data": {
      "text/html": [
       "<div>\n",
       "<style scoped>\n",
       "    .dataframe tbody tr th:only-of-type {\n",
       "        vertical-align: middle;\n",
       "    }\n",
       "\n",
       "    .dataframe tbody tr th {\n",
       "        vertical-align: top;\n",
       "    }\n",
       "\n",
       "    .dataframe thead th {\n",
       "        text-align: right;\n",
       "    }\n",
       "</style>\n",
       "<table border=\"1\" class=\"dataframe\">\n",
       "  <thead>\n",
       "    <tr style=\"text-align: right;\">\n",
       "      <th></th>\n",
       "      <th>mix</th>\n",
       "    </tr>\n",
       "  </thead>\n",
       "  <tbody>\n",
       "    <tr>\n",
       "      <th>0</th>\n",
       "      <td>a</td>\n",
       "    </tr>\n",
       "    <tr>\n",
       "      <th>1</th>\n",
       "      <td>b</td>\n",
       "    </tr>\n",
       "    <tr>\n",
       "      <th>2</th>\n",
       "      <td>1</td>\n",
       "    </tr>\n",
       "    <tr>\n",
       "      <th>3</th>\n",
       "      <td>True</td>\n",
       "    </tr>\n",
       "  </tbody>\n",
       "</table>\n",
       "</div>"
      ],
      "text/plain": [
       "    mix\n",
       "0     a\n",
       "1     b\n",
       "2     1\n",
       "3  True"
      ]
     },
     "execution_count": 17,
     "metadata": {},
     "output_type": "execute_result"
    }
   ],
   "source": [
    "df_test.head()"
   ]
  },
  {
   "cell_type": "code",
   "execution_count": 20,
   "id": "7f2c5c9f",
   "metadata": {},
   "outputs": [
    {
     "name": "stdout",
     "output_type": "stream",
     "text": [
      "product_iddata type is uniform\n",
      "product_namehas mixed-type data\n",
      "aisle_iddata type is uniform\n",
      "department_iddata type is uniform\n",
      "pricesdata type is uniform\n"
     ]
    }
   ],
   "source": [
    "#functions for checking whether a dataframe contains any mixed-type columns\n",
    "for col in df_prods.columns.tolist():\n",
    "    weird = (df_prods[[col]].applymap(type) != df_prods[[col]].iloc[0].apply(type)).any(axis = 1)\n",
    "    if len (df_prods[weird]) > 0:\n",
    "        print(col +'has mixed-type data')\n",
    "    else: print (col + 'data type is uniform')"
   ]
  },
  {
   "cell_type": "code",
   "execution_count": 21,
   "id": "050ddcbe",
   "metadata": {},
   "outputs": [
    {
     "data": {
      "text/plain": [
       "0                               Chocolate Sandwich Cookies\n",
       "1                                         All-Seasons Salt\n",
       "2                     Robust Golden Unsweetened Oolong Tea\n",
       "3        Smart Ones Classic Favorites Mini Rigatoni Wit...\n",
       "4                                Green Chile Anytime Sauce\n",
       "                               ...                        \n",
       "49688            Vodka, Triple Distilled, Twist of Vanilla\n",
       "49689                   En Croute Roast Hazelnut Cranberry\n",
       "49690                                     Artisan Baguette\n",
       "49691           Smartblend Healthy Metabolism Dry Cat Food\n",
       "49692                               Fresh Foaming Cleanser\n",
       "Name: product_name, Length: 49693, dtype: string"
      ]
     },
     "execution_count": 21,
     "metadata": {},
     "output_type": "execute_result"
    }
   ],
   "source": [
    "#change to string\n",
    "df_prods['product_name'].astype('string')"
   ]
  },
  {
   "cell_type": "code",
   "execution_count": 22,
   "id": "0d5ce58f",
   "metadata": {},
   "outputs": [
    {
     "name": "stdout",
     "output_type": "stream",
     "text": [
      "<class 'pandas.core.frame.DataFrame'>\n",
      "RangeIndex: 49693 entries, 0 to 49692\n",
      "Data columns (total 5 columns):\n",
      " #   Column         Non-Null Count  Dtype  \n",
      "---  ------         --------------  -----  \n",
      " 0   product_id     49693 non-null  int64  \n",
      " 1   product_name   49677 non-null  object \n",
      " 2   aisle_id       49693 non-null  int64  \n",
      " 3   department_id  49693 non-null  int64  \n",
      " 4   prices         49693 non-null  float64\n",
      "dtypes: float64(1), int64(3), object(1)\n",
      "memory usage: 1.9+ MB\n"
     ]
    }
   ],
   "source": [
    "#check the data type\n",
    "df_prods.info()"
   ]
  },
  {
   "cell_type": "code",
   "execution_count": 23,
   "id": "45701222",
   "metadata": {},
   "outputs": [
    {
     "data": {
      "text/plain": [
       "product_id        0\n",
       "product_name     16\n",
       "aisle_id          0\n",
       "department_id     0\n",
       "prices            0\n",
       "dtype: int64"
      ]
     },
     "execution_count": 23,
     "metadata": {},
     "output_type": "execute_result"
    }
   ],
   "source": [
    "#fining missing values\n",
    "df_prods.isnull().sum()"
   ]
  },
  {
   "cell_type": "code",
   "execution_count": 24,
   "id": "e7f11ae8",
   "metadata": {},
   "outputs": [],
   "source": [
    "#creating a subset with the missing values\n",
    "df_nan = df_prods[df_prods['product_name'].isnull() == True]"
   ]
  },
  {
   "cell_type": "code",
   "execution_count": 25,
   "id": "7633724c",
   "metadata": {},
   "outputs": [
    {
     "data": {
      "text/html": [
       "<div>\n",
       "<style scoped>\n",
       "    .dataframe tbody tr th:only-of-type {\n",
       "        vertical-align: middle;\n",
       "    }\n",
       "\n",
       "    .dataframe tbody tr th {\n",
       "        vertical-align: top;\n",
       "    }\n",
       "\n",
       "    .dataframe thead th {\n",
       "        text-align: right;\n",
       "    }\n",
       "</style>\n",
       "<table border=\"1\" class=\"dataframe\">\n",
       "  <thead>\n",
       "    <tr style=\"text-align: right;\">\n",
       "      <th></th>\n",
       "      <th>product_id</th>\n",
       "      <th>product_name</th>\n",
       "      <th>aisle_id</th>\n",
       "      <th>department_id</th>\n",
       "      <th>prices</th>\n",
       "    </tr>\n",
       "  </thead>\n",
       "  <tbody>\n",
       "    <tr>\n",
       "      <th>33</th>\n",
       "      <td>34</td>\n",
       "      <td>NaN</td>\n",
       "      <td>121</td>\n",
       "      <td>14</td>\n",
       "      <td>12.2</td>\n",
       "    </tr>\n",
       "    <tr>\n",
       "      <th>68</th>\n",
       "      <td>69</td>\n",
       "      <td>NaN</td>\n",
       "      <td>26</td>\n",
       "      <td>7</td>\n",
       "      <td>11.8</td>\n",
       "    </tr>\n",
       "    <tr>\n",
       "      <th>115</th>\n",
       "      <td>116</td>\n",
       "      <td>NaN</td>\n",
       "      <td>93</td>\n",
       "      <td>3</td>\n",
       "      <td>10.8</td>\n",
       "    </tr>\n",
       "    <tr>\n",
       "      <th>261</th>\n",
       "      <td>262</td>\n",
       "      <td>NaN</td>\n",
       "      <td>110</td>\n",
       "      <td>13</td>\n",
       "      <td>12.1</td>\n",
       "    </tr>\n",
       "    <tr>\n",
       "      <th>525</th>\n",
       "      <td>525</td>\n",
       "      <td>NaN</td>\n",
       "      <td>109</td>\n",
       "      <td>11</td>\n",
       "      <td>1.2</td>\n",
       "    </tr>\n",
       "    <tr>\n",
       "      <th>1511</th>\n",
       "      <td>1511</td>\n",
       "      <td>NaN</td>\n",
       "      <td>84</td>\n",
       "      <td>16</td>\n",
       "      <td>14.3</td>\n",
       "    </tr>\n",
       "    <tr>\n",
       "      <th>1780</th>\n",
       "      <td>1780</td>\n",
       "      <td>NaN</td>\n",
       "      <td>126</td>\n",
       "      <td>11</td>\n",
       "      <td>12.3</td>\n",
       "    </tr>\n",
       "    <tr>\n",
       "      <th>2240</th>\n",
       "      <td>2240</td>\n",
       "      <td>NaN</td>\n",
       "      <td>52</td>\n",
       "      <td>1</td>\n",
       "      <td>14.2</td>\n",
       "    </tr>\n",
       "    <tr>\n",
       "      <th>2586</th>\n",
       "      <td>2586</td>\n",
       "      <td>NaN</td>\n",
       "      <td>104</td>\n",
       "      <td>13</td>\n",
       "      <td>12.4</td>\n",
       "    </tr>\n",
       "    <tr>\n",
       "      <th>3159</th>\n",
       "      <td>3159</td>\n",
       "      <td>NaN</td>\n",
       "      <td>126</td>\n",
       "      <td>11</td>\n",
       "      <td>13.1</td>\n",
       "    </tr>\n",
       "    <tr>\n",
       "      <th>3230</th>\n",
       "      <td>3230</td>\n",
       "      <td>NaN</td>\n",
       "      <td>120</td>\n",
       "      <td>16</td>\n",
       "      <td>14.4</td>\n",
       "    </tr>\n",
       "    <tr>\n",
       "      <th>3736</th>\n",
       "      <td>3736</td>\n",
       "      <td>NaN</td>\n",
       "      <td>41</td>\n",
       "      <td>8</td>\n",
       "      <td>14.8</td>\n",
       "    </tr>\n",
       "    <tr>\n",
       "      <th>4283</th>\n",
       "      <td>4283</td>\n",
       "      <td>NaN</td>\n",
       "      <td>77</td>\n",
       "      <td>7</td>\n",
       "      <td>14.4</td>\n",
       "    </tr>\n",
       "    <tr>\n",
       "      <th>4790</th>\n",
       "      <td>4790</td>\n",
       "      <td>NaN</td>\n",
       "      <td>91</td>\n",
       "      <td>16</td>\n",
       "      <td>14.5</td>\n",
       "    </tr>\n",
       "    <tr>\n",
       "      <th>38187</th>\n",
       "      <td>38183</td>\n",
       "      <td>NaN</td>\n",
       "      <td>39</td>\n",
       "      <td>12</td>\n",
       "      <td>20.9</td>\n",
       "    </tr>\n",
       "    <tr>\n",
       "      <th>40444</th>\n",
       "      <td>40440</td>\n",
       "      <td>NaN</td>\n",
       "      <td>120</td>\n",
       "      <td>16</td>\n",
       "      <td>14.8</td>\n",
       "    </tr>\n",
       "  </tbody>\n",
       "</table>\n",
       "</div>"
      ],
      "text/plain": [
       "       product_id product_name  aisle_id  department_id  prices\n",
       "33             34          NaN       121             14    12.2\n",
       "68             69          NaN        26              7    11.8\n",
       "115           116          NaN        93              3    10.8\n",
       "261           262          NaN       110             13    12.1\n",
       "525           525          NaN       109             11     1.2\n",
       "1511         1511          NaN        84             16    14.3\n",
       "1780         1780          NaN       126             11    12.3\n",
       "2240         2240          NaN        52              1    14.2\n",
       "2586         2586          NaN       104             13    12.4\n",
       "3159         3159          NaN       126             11    13.1\n",
       "3230         3230          NaN       120             16    14.4\n",
       "3736         3736          NaN        41              8    14.8\n",
       "4283         4283          NaN        77              7    14.4\n",
       "4790         4790          NaN        91             16    14.5\n",
       "38187       38183          NaN        39             12    20.9\n",
       "40444       40440          NaN       120             16    14.8"
      ]
     },
     "execution_count": 25,
     "metadata": {},
     "output_type": "execute_result"
    }
   ],
   "source": [
    "df_nan"
   ]
  },
  {
   "cell_type": "code",
   "execution_count": 26,
   "id": "91ff5f6b",
   "metadata": {},
   "outputs": [],
   "source": [
    "#cleaning the missing values\n",
    "df_prods_clean = df_prods[df_prods['product_name'].isnull() == False]"
   ]
  },
  {
   "cell_type": "code",
   "execution_count": 27,
   "id": "85546438",
   "metadata": {},
   "outputs": [
    {
     "data": {
      "text/plain": [
       "product_id       0\n",
       "product_name     0\n",
       "aisle_id         0\n",
       "department_id    0\n",
       "prices           0\n",
       "dtype: int64"
      ]
     },
     "execution_count": 27,
     "metadata": {},
     "output_type": "execute_result"
    }
   ],
   "source": [
    "df_prods_clean.isnull().sum()"
   ]
  },
  {
   "cell_type": "code",
   "execution_count": 28,
   "id": "1ba5f27f",
   "metadata": {},
   "outputs": [],
   "source": [
    "#dataframe for duplicate entry\n",
    "df_dups = df_prods_clean[df_prods_clean.duplicated()]"
   ]
  },
  {
   "cell_type": "code",
   "execution_count": 29,
   "id": "dcfb3dbf",
   "metadata": {},
   "outputs": [
    {
     "data": {
      "text/html": [
       "<div>\n",
       "<style scoped>\n",
       "    .dataframe tbody tr th:only-of-type {\n",
       "        vertical-align: middle;\n",
       "    }\n",
       "\n",
       "    .dataframe tbody tr th {\n",
       "        vertical-align: top;\n",
       "    }\n",
       "\n",
       "    .dataframe thead th {\n",
       "        text-align: right;\n",
       "    }\n",
       "</style>\n",
       "<table border=\"1\" class=\"dataframe\">\n",
       "  <thead>\n",
       "    <tr style=\"text-align: right;\">\n",
       "      <th></th>\n",
       "      <th>product_id</th>\n",
       "      <th>product_name</th>\n",
       "      <th>aisle_id</th>\n",
       "      <th>department_id</th>\n",
       "      <th>prices</th>\n",
       "    </tr>\n",
       "  </thead>\n",
       "  <tbody>\n",
       "    <tr>\n",
       "      <th>462</th>\n",
       "      <td>462</td>\n",
       "      <td>Fiber 4g Gummy Dietary Supplement</td>\n",
       "      <td>70</td>\n",
       "      <td>11</td>\n",
       "      <td>4.8</td>\n",
       "    </tr>\n",
       "    <tr>\n",
       "      <th>18459</th>\n",
       "      <td>18458</td>\n",
       "      <td>Ranger IPA</td>\n",
       "      <td>27</td>\n",
       "      <td>5</td>\n",
       "      <td>9.2</td>\n",
       "    </tr>\n",
       "    <tr>\n",
       "      <th>26810</th>\n",
       "      <td>26808</td>\n",
       "      <td>Black House Coffee Roasty Stout Beer</td>\n",
       "      <td>27</td>\n",
       "      <td>5</td>\n",
       "      <td>13.4</td>\n",
       "    </tr>\n",
       "    <tr>\n",
       "      <th>35309</th>\n",
       "      <td>35306</td>\n",
       "      <td>Gluten Free Organic Peanut Butter &amp; Chocolate ...</td>\n",
       "      <td>121</td>\n",
       "      <td>14</td>\n",
       "      <td>6.8</td>\n",
       "    </tr>\n",
       "    <tr>\n",
       "      <th>35495</th>\n",
       "      <td>35491</td>\n",
       "      <td>Adore Forever Body Wash</td>\n",
       "      <td>127</td>\n",
       "      <td>11</td>\n",
       "      <td>9.9</td>\n",
       "    </tr>\n",
       "  </tbody>\n",
       "</table>\n",
       "</div>"
      ],
      "text/plain": [
       "       product_id                                       product_name  \\\n",
       "462           462                  Fiber 4g Gummy Dietary Supplement   \n",
       "18459       18458                                         Ranger IPA   \n",
       "26810       26808               Black House Coffee Roasty Stout Beer   \n",
       "35309       35306  Gluten Free Organic Peanut Butter & Chocolate ...   \n",
       "35495       35491                            Adore Forever Body Wash   \n",
       "\n",
       "       aisle_id  department_id  prices  \n",
       "462          70             11     4.8  \n",
       "18459        27              5     9.2  \n",
       "26810        27              5    13.4  \n",
       "35309       121             14     6.8  \n",
       "35495       127             11     9.9  "
      ]
     },
     "execution_count": 29,
     "metadata": {},
     "output_type": "execute_result"
    }
   ],
   "source": [
    "df_dups"
   ]
  },
  {
   "cell_type": "code",
   "execution_count": 30,
   "id": "5db93aff",
   "metadata": {},
   "outputs": [
    {
     "data": {
      "text/plain": [
       "(5, 5)"
      ]
     },
     "execution_count": 30,
     "metadata": {},
     "output_type": "execute_result"
    }
   ],
   "source": [
    "df_dups.shape"
   ]
  },
  {
   "cell_type": "code",
   "execution_count": 31,
   "id": "6e6cfd23",
   "metadata": {},
   "outputs": [],
   "source": [
    "df_prods_clean_no_dup = df_prods_clean.drop_duplicates()"
   ]
  },
  {
   "cell_type": "code",
   "execution_count": 32,
   "id": "7abab084",
   "metadata": {},
   "outputs": [
    {
     "data": {
      "text/plain": [
       "(49672, 5)"
      ]
     },
     "execution_count": 32,
     "metadata": {},
     "output_type": "execute_result"
    }
   ],
   "source": [
    "df_prods_clean_no_dup.shape"
   ]
  },
  {
   "cell_type": "code",
   "execution_count": 35,
   "id": "ba0ef3c8",
   "metadata": {},
   "outputs": [],
   "source": [
    "df_prods_clean_no_dup.to_csv(os.path.join(path, '02 Data','Prepared Data', 'products_checked.csv'))"
   ]
  },
  {
   "cell_type": "code",
   "execution_count": 36,
   "id": "bbbb9915",
   "metadata": {},
   "outputs": [],
   "source": [
    "#Run the df.describe() function on your df_prods dataframe. Using your new knowledge about how to interpret the output of this function, share in a markdown cell whether anything about the data looks off or should be investigated further.\"\n",
    "df_prods_checked = df_prods_clean_no_dup"
   ]
  },
  {
   "cell_type": "code",
   "execution_count": 37,
   "id": "280aa1e2",
   "metadata": {},
   "outputs": [
    {
     "data": {
      "text/html": [
       "<div>\n",
       "<style scoped>\n",
       "    .dataframe tbody tr th:only-of-type {\n",
       "        vertical-align: middle;\n",
       "    }\n",
       "\n",
       "    .dataframe tbody tr th {\n",
       "        vertical-align: top;\n",
       "    }\n",
       "\n",
       "    .dataframe thead th {\n",
       "        text-align: right;\n",
       "    }\n",
       "</style>\n",
       "<table border=\"1\" class=\"dataframe\">\n",
       "  <thead>\n",
       "    <tr style=\"text-align: right;\">\n",
       "      <th></th>\n",
       "      <th>product_id</th>\n",
       "      <th>aisle_id</th>\n",
       "      <th>department_id</th>\n",
       "      <th>prices</th>\n",
       "    </tr>\n",
       "  </thead>\n",
       "  <tbody>\n",
       "    <tr>\n",
       "      <th>count</th>\n",
       "      <td>49672.000000</td>\n",
       "      <td>49672.000000</td>\n",
       "      <td>49672.000000</td>\n",
       "      <td>49672.000000</td>\n",
       "    </tr>\n",
       "    <tr>\n",
       "      <th>mean</th>\n",
       "      <td>24850.349775</td>\n",
       "      <td>67.762442</td>\n",
       "      <td>11.728942</td>\n",
       "      <td>9.993282</td>\n",
       "    </tr>\n",
       "    <tr>\n",
       "      <th>std</th>\n",
       "      <td>14340.705287</td>\n",
       "      <td>38.315784</td>\n",
       "      <td>5.850779</td>\n",
       "      <td>453.615536</td>\n",
       "    </tr>\n",
       "    <tr>\n",
       "      <th>min</th>\n",
       "      <td>1.000000</td>\n",
       "      <td>1.000000</td>\n",
       "      <td>1.000000</td>\n",
       "      <td>1.000000</td>\n",
       "    </tr>\n",
       "    <tr>\n",
       "      <th>25%</th>\n",
       "      <td>12432.750000</td>\n",
       "      <td>35.000000</td>\n",
       "      <td>7.000000</td>\n",
       "      <td>4.100000</td>\n",
       "    </tr>\n",
       "    <tr>\n",
       "      <th>50%</th>\n",
       "      <td>24850.500000</td>\n",
       "      <td>69.000000</td>\n",
       "      <td>13.000000</td>\n",
       "      <td>7.100000</td>\n",
       "    </tr>\n",
       "    <tr>\n",
       "      <th>75%</th>\n",
       "      <td>37268.250000</td>\n",
       "      <td>100.000000</td>\n",
       "      <td>17.000000</td>\n",
       "      <td>11.100000</td>\n",
       "    </tr>\n",
       "    <tr>\n",
       "      <th>max</th>\n",
       "      <td>49688.000000</td>\n",
       "      <td>134.000000</td>\n",
       "      <td>21.000000</td>\n",
       "      <td>99999.000000</td>\n",
       "    </tr>\n",
       "  </tbody>\n",
       "</table>\n",
       "</div>"
      ],
      "text/plain": [
       "         product_id      aisle_id  department_id        prices\n",
       "count  49672.000000  49672.000000   49672.000000  49672.000000\n",
       "mean   24850.349775     67.762442      11.728942      9.993282\n",
       "std    14340.705287     38.315784       5.850779    453.615536\n",
       "min        1.000000      1.000000       1.000000      1.000000\n",
       "25%    12432.750000     35.000000       7.000000      4.100000\n",
       "50%    24850.500000     69.000000      13.000000      7.100000\n",
       "75%    37268.250000    100.000000      17.000000     11.100000\n",
       "max    49688.000000    134.000000      21.000000  99999.000000"
      ]
     },
     "execution_count": 37,
     "metadata": {},
     "output_type": "execute_result"
    }
   ],
   "source": [
    "df_prods_checked.describe()"
   ]
  },
  {
   "cell_type": "code",
   "execution_count": 38,
   "id": "6fdc084a",
   "metadata": {},
   "outputs": [],
   "source": [
    "#looking at the max value from the price column which is 99999, we can see is a high numeric value. this value needs to be checked to know if it's actually correct or an error.\""
   ]
  },
  {
   "cell_type": "code",
   "execution_count": 39,
   "id": "20454f1a",
   "metadata": {},
   "outputs": [
    {
     "name": "stdout",
     "output_type": "stream",
     "text": [
      "Unnamed: 0data type is uniform\n",
      "order_iddata type is uniform\n",
      "user_iddata type is uniform\n",
      "eval_setdata type is uniform\n",
      "order_numberdata type is uniform\n",
      "orders_day_of_weekdata type is uniform\n",
      "order_hour_of_daydata type is uniform\n",
      "days_since_prior_orderdata type is uniform\n"
     ]
    }
   ],
   "source": [
    "#3 Check for mixed-type data in your df_ords dataframe.\n",
    "for col in df_ords.columns.tolist():\n",
    "    weird = (df_ords[[col]].applymap(type) != df_ords[[col]].iloc[0].apply(type)).any(axis = 1)\n",
    "    if len (df_ords[weird]) > 0:\n",
    "        print(col +'has mixed-type data')\n",
    "    else: print (col + 'data type is uniform')"
   ]
  },
  {
   "cell_type": "code",
   "execution_count": 40,
   "id": "b10d1334",
   "metadata": {},
   "outputs": [],
   "source": [
    "#No mixed-typed data in the dataframe"
   ]
  },
  {
   "cell_type": "code",
   "execution_count": 42,
   "id": "4ed55887",
   "metadata": {},
   "outputs": [],
   "source": [
    "#4.If you find mixed-type data, fix it. The column in question should contain observations of a single data type\n",
    "#There are no mixed data Type"
   ]
  },
  {
   "cell_type": "code",
   "execution_count": 43,
   "id": "72743083",
   "metadata": {},
   "outputs": [
    {
     "data": {
      "text/plain": [
       "Unnamed: 0                     0\n",
       "order_id                       0\n",
       "user_id                        0\n",
       "eval_set                       0\n",
       "order_number                   0\n",
       "orders_day_of_week             0\n",
       "order_hour_of_day              0\n",
       "days_since_prior_order    206209\n",
       "dtype: int64"
      ]
     },
     "execution_count": 43,
     "metadata": {},
     "output_type": "execute_result"
    }
   ],
   "source": [
    "#5.Run a check for missing values in your df_ords dataframe\n",
    "df_ords.isnull().sum()"
   ]
  },
  {
   "cell_type": "code",
   "execution_count": 44,
   "id": "96542a1e",
   "metadata": {},
   "outputs": [],
   "source": [
    "#There are 206209 missing values from the 'days_since_prior_order' column.\n",
    "#looking at the output we can see the days_since_prior_order has a lot of missing values this could be as a result of customers orders not accounted or been recorded due to previous orders without subscriptions which could be probably their first order"
   ]
  },
  {
   "cell_type": "code",
   "execution_count": 46,
   "id": "233a2112",
   "metadata": {},
   "outputs": [],
   "source": [
    "#6.Address the missing values using an appropriate method\n",
    "df_ords_clean = df_ords"
   ]
  },
  {
   "cell_type": "code",
   "execution_count": null,
   "id": "21e4e488",
   "metadata": {},
   "outputs": [],
   "source": [
    "#My hypothesis is that the NaN values are entries for the very first order of a new costumer\n",
    "#if it is so as predicted, the NaN values will be present only when the order_number is 1, and __all__ order_number =1 will have a NaN value on the days_since_prior_order."
   ]
  },
  {
   "cell_type": "code",
   "execution_count": 47,
   "id": "76289a4a",
   "metadata": {},
   "outputs": [],
   "source": [
    "df_ords_clean ['first_order'] = df_ords['days_since_prior_order'].isnull() == True"
   ]
  },
  {
   "cell_type": "code",
   "execution_count": 48,
   "id": "30bab9ff",
   "metadata": {},
   "outputs": [
    {
     "data": {
      "text/plain": [
       "0           True\n",
       "1          False\n",
       "2          False\n",
       "3          False\n",
       "4          False\n",
       "           ...  \n",
       "3421078    False\n",
       "3421079    False\n",
       "3421080    False\n",
       "3421081    False\n",
       "3421082    False\n",
       "Name: first_order, Length: 3421083, dtype: bool"
      ]
     },
     "execution_count": 48,
     "metadata": {},
     "output_type": "execute_result"
    }
   ],
   "source": [
    "df_ords_clean ['first_order']"
   ]
  },
  {
   "cell_type": "code",
   "execution_count": null,
   "id": "114fd228",
   "metadata": {},
   "outputs": [],
   "source": [
    "#Solution, since information are gotten from the data so there isn't need of removing the data, by so doing we need to Create a new variable that acts like a flag based on the missing value. new column can also be created to indicate these values to see what it entails which explain the similarity of the days_since_prior_order.\""
   ]
  },
  {
   "cell_type": "code",
   "execution_count": 49,
   "id": "b65b7e80",
   "metadata": {
    "scrolled": true
   },
   "outputs": [
    {
     "data": {
      "text/html": [
       "<div>\n",
       "<style scoped>\n",
       "    .dataframe tbody tr th:only-of-type {\n",
       "        vertical-align: middle;\n",
       "    }\n",
       "\n",
       "    .dataframe tbody tr th {\n",
       "        vertical-align: top;\n",
       "    }\n",
       "\n",
       "    .dataframe thead th {\n",
       "        text-align: right;\n",
       "    }\n",
       "</style>\n",
       "<table border=\"1\" class=\"dataframe\">\n",
       "  <thead>\n",
       "    <tr style=\"text-align: right;\">\n",
       "      <th></th>\n",
       "      <th>Unnamed: 0</th>\n",
       "      <th>order_id</th>\n",
       "      <th>user_id</th>\n",
       "      <th>eval_set</th>\n",
       "      <th>order_number</th>\n",
       "      <th>orders_day_of_week</th>\n",
       "      <th>order_hour_of_day</th>\n",
       "      <th>days_since_prior_order</th>\n",
       "      <th>first_order</th>\n",
       "    </tr>\n",
       "  </thead>\n",
       "  <tbody>\n",
       "    <tr>\n",
       "      <th>0</th>\n",
       "      <td>0</td>\n",
       "      <td>2539329</td>\n",
       "      <td>1</td>\n",
       "      <td>prior</td>\n",
       "      <td>1</td>\n",
       "      <td>2</td>\n",
       "      <td>8</td>\n",
       "      <td>NaN</td>\n",
       "      <td>True</td>\n",
       "    </tr>\n",
       "    <tr>\n",
       "      <th>1</th>\n",
       "      <td>1</td>\n",
       "      <td>2398795</td>\n",
       "      <td>1</td>\n",
       "      <td>prior</td>\n",
       "      <td>2</td>\n",
       "      <td>3</td>\n",
       "      <td>7</td>\n",
       "      <td>15.0</td>\n",
       "      <td>False</td>\n",
       "    </tr>\n",
       "    <tr>\n",
       "      <th>2</th>\n",
       "      <td>2</td>\n",
       "      <td>473747</td>\n",
       "      <td>1</td>\n",
       "      <td>prior</td>\n",
       "      <td>3</td>\n",
       "      <td>3</td>\n",
       "      <td>12</td>\n",
       "      <td>21.0</td>\n",
       "      <td>False</td>\n",
       "    </tr>\n",
       "    <tr>\n",
       "      <th>3</th>\n",
       "      <td>3</td>\n",
       "      <td>2254736</td>\n",
       "      <td>1</td>\n",
       "      <td>prior</td>\n",
       "      <td>4</td>\n",
       "      <td>4</td>\n",
       "      <td>7</td>\n",
       "      <td>29.0</td>\n",
       "      <td>False</td>\n",
       "    </tr>\n",
       "    <tr>\n",
       "      <th>4</th>\n",
       "      <td>4</td>\n",
       "      <td>431534</td>\n",
       "      <td>1</td>\n",
       "      <td>prior</td>\n",
       "      <td>5</td>\n",
       "      <td>4</td>\n",
       "      <td>15</td>\n",
       "      <td>28.0</td>\n",
       "      <td>False</td>\n",
       "    </tr>\n",
       "  </tbody>\n",
       "</table>\n",
       "</div>"
      ],
      "text/plain": [
       "   Unnamed: 0  order_id  user_id eval_set  order_number  orders_day_of_week  \\\n",
       "0           0   2539329        1    prior             1                   2   \n",
       "1           1   2398795        1    prior             2                   3   \n",
       "2           2    473747        1    prior             3                   3   \n",
       "3           3   2254736        1    prior             4                   4   \n",
       "4           4    431534        1    prior             5                   4   \n",
       "\n",
       "   order_hour_of_day  days_since_prior_order  first_order  \n",
       "0                  8                     NaN         True  \n",
       "1                  7                    15.0        False  \n",
       "2                 12                    21.0        False  \n",
       "3                  7                    29.0        False  \n",
       "4                 15                    28.0        False  "
      ]
     },
     "execution_count": 49,
     "metadata": {},
     "output_type": "execute_result"
    }
   ],
   "source": [
    "df_ords_clean.head()"
   ]
  },
  {
   "cell_type": "code",
   "execution_count": 55,
   "id": "46843b8f",
   "metadata": {},
   "outputs": [],
   "source": [
    "#creating another method to flag NAN\n",
    "df_ords['first_order'] = np.where(np.isnan(df_ords['days_since_prior_order'].values), True, False)"
   ]
  },
  {
   "cell_type": "code",
   "execution_count": 56,
   "id": "fcd0a445",
   "metadata": {},
   "outputs": [
    {
     "data": {
      "text/plain": [
       "0           True\n",
       "1          False\n",
       "2          False\n",
       "3          False\n",
       "4          False\n",
       "           ...  \n",
       "3421078    False\n",
       "3421079    False\n",
       "3421080    False\n",
       "3421081    False\n",
       "3421082    False\n",
       "Name: first_order, Length: 3421083, dtype: bool"
      ]
     },
     "execution_count": 56,
     "metadata": {},
     "output_type": "execute_result"
    }
   ],
   "source": [
    "df_ords['first_order']"
   ]
  },
  {
   "cell_type": "code",
   "execution_count": 50,
   "id": "b084fd0a",
   "metadata": {},
   "outputs": [],
   "source": [
    "# 7, Run a check for duplicate values in your df_ords data\n",
    "df_ords_dups = df_ords_clean[df_ords_clean.duplicated()]"
   ]
  },
  {
   "cell_type": "code",
   "execution_count": 52,
   "id": "14477952",
   "metadata": {},
   "outputs": [
    {
     "data": {
      "text/html": [
       "<div>\n",
       "<style scoped>\n",
       "    .dataframe tbody tr th:only-of-type {\n",
       "        vertical-align: middle;\n",
       "    }\n",
       "\n",
       "    .dataframe tbody tr th {\n",
       "        vertical-align: top;\n",
       "    }\n",
       "\n",
       "    .dataframe thead th {\n",
       "        text-align: right;\n",
       "    }\n",
       "</style>\n",
       "<table border=\"1\" class=\"dataframe\">\n",
       "  <thead>\n",
       "    <tr style=\"text-align: right;\">\n",
       "      <th></th>\n",
       "      <th>Unnamed: 0</th>\n",
       "      <th>order_id</th>\n",
       "      <th>user_id</th>\n",
       "      <th>eval_set</th>\n",
       "      <th>order_number</th>\n",
       "      <th>orders_day_of_week</th>\n",
       "      <th>order_hour_of_day</th>\n",
       "      <th>days_since_prior_order</th>\n",
       "      <th>first_order</th>\n",
       "    </tr>\n",
       "  </thead>\n",
       "  <tbody>\n",
       "  </tbody>\n",
       "</table>\n",
       "</div>"
      ],
      "text/plain": [
       "Empty DataFrame\n",
       "Columns: [Unnamed: 0, order_id, user_id, eval_set, order_number, orders_day_of_week, order_hour_of_day, days_since_prior_order, first_order]\n",
       "Index: []"
      ]
     },
     "execution_count": 52,
     "metadata": {},
     "output_type": "execute_result"
    }
   ],
   "source": [
    "#check duplicate\n",
    "df_ords_dups"
   ]
  },
  {
   "cell_type": "code",
   "execution_count": 53,
   "id": "383e6da2",
   "metadata": {},
   "outputs": [],
   "source": [
    "# checking the duplicate, i got nothing as an output"
   ]
  },
  {
   "cell_type": "code",
   "execution_count": 54,
   "id": "e14a8807",
   "metadata": {},
   "outputs": [
    {
     "data": {
      "text/plain": [
       "(0, 9)"
      ]
     },
     "execution_count": 54,
     "metadata": {},
     "output_type": "execute_result"
    }
   ],
   "source": [
    "# 8, Address the duplicates using an appropriate method\n",
    "# in a markdown cell, explain why you used your method of choice\n",
    "df_ords_dups.shape"
   ]
  },
  {
   "cell_type": "code",
   "execution_count": 57,
   "id": "a463b16d",
   "metadata": {},
   "outputs": [],
   "source": [
    "#Export your final cleaned df_prods and df_ords\n",
    "df_prods_clean_no_dup.to_csv(os.path.join(path, '02 Data','Prepared Data', 'products_checkednew.csv'))"
   ]
  },
  {
   "cell_type": "code",
   "execution_count": 58,
   "id": "3cbcf389",
   "metadata": {},
   "outputs": [],
   "source": [
    "df_ords_clean.to_csv(os.path.join(path, '02 Data','Prepared Data', 'orders_cleanednew.csv'))"
   ]
  },
  {
   "cell_type": "code",
   "execution_count": null,
   "id": "8f556c73",
   "metadata": {},
   "outputs": [],
   "source": []
  }
 ],
 "metadata": {
  "kernelspec": {
   "display_name": "Python 3 (ipykernel)",
   "language": "python",
   "name": "python3"
  },
  "language_info": {
   "codemirror_mode": {
    "name": "ipython",
    "version": 3
   },
   "file_extension": ".py",
   "mimetype": "text/x-python",
   "name": "python",
   "nbconvert_exporter": "python",
   "pygments_lexer": "ipython3",
   "version": "3.9.7"
  }
 },
 "nbformat": 4,
 "nbformat_minor": 5
}
